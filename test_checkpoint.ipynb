{
 "cells": [
  {
   "cell_type": "code",
   "execution_count": 1,
   "metadata": {},
   "outputs": [],
   "source": [
    "import csv\n",
    "import time\n",
    "import numpy as np\n",
    "import torch\n",
    "import pytorch_lightning as pl\n",
    "from sklearn.preprocessing import StandardScaler\n",
    "from chemprop.v2 import data\n",
    "from chemprop.v2 import featurizers\n",
    "from chemprop.v2.models import modules, models"
   ]
  },
  {
   "cell_type": "code",
   "execution_count": 2,
   "metadata": {},
   "outputs": [],
   "source": [
    "from pytorch_lightning.callbacks.progress import ProgressBar, RichProgressBar, TQDMProgressBar\n",
    "import sys\n",
    "class MyProgressBar(TQDMProgressBar):\n",
    "    def init_validation_tqdm(self):\n",
    "        bar = super().init_validation_tqdm()\n",
    "        if not sys.stdout.isatty():\n",
    "            bar.disable = True\n",
    "        return bar\n",
    "\n",
    "    def init_predict_tqdm(self):\n",
    "        bar = super().init_predict_tqdm()\n",
    "        if not sys.stdout.isatty():\n",
    "            bar.disable = True\n",
    "        return bar\n",
    "\n",
    "    def init_test_tqdm(self):\n",
    "        bar = super().init_test_tqdm()\n",
    "        if not sys.stdout.isatty():\n",
    "            bar.disable = True\n",
    "        return bar"
   ]
  },
  {
   "cell_type": "code",
   "execution_count": null,
   "metadata": {},
   "outputs": [],
   "source": [
    "# checkpoint = torch.load('/home/gridsan/nmorgan/chemprop/nathan/lightning_logs/version_23666795/checkpoints/epoch=199-step=200.ckpt', map_location=torch.device('cpu'))\n",
    "# checkpoint"
   ]
  },
  {
   "cell_type": "code",
   "execution_count": 3,
   "metadata": {},
   "outputs": [],
   "source": [
    "molenc_chk = modules.molecule_block()\n",
    "models = models.RegressionMPNN.load_from_checkpoint('/home/gridsan/nmorgan/chemprop/nathan/lightning_logs/version_23666795/checkpoints/epoch=199-step=200.ckpt', mpn_block = molenc_chk,  map_location=torch.device(\"cpu\"))\n",
    "   "
   ]
  },
  {
   "cell_type": "code",
   "execution_count": 4,
   "metadata": {},
   "outputs": [],
   "source": [
    "with open(\"/home/gridsan/nmorgan/MW_smi.csv\") as fid:\n",
    "    reader = csv.reader(fid)\n",
    "    next(reader)\n",
    "    smis = [smi[0] for smi in reader]\n",
    "\n",
    "featurizer = featurizers.MoleculeFeaturizer()\n",
    "\n",
    "pred_smis = [data.MoleculeDatapoint(smi) for smi in smis]\n",
    "pred_dset = data.MoleculeDataset(pred_smis, featurizer)\n",
    "pred_loader = data.MolGraphDataLoader(pred_dset, num_workers=4, shuffle=False)"
   ]
  },
  {
   "cell_type": "code",
   "execution_count": 6,
   "metadata": {},
   "outputs": [
    {
     "name": "stderr",
     "output_type": "stream",
     "text": [
      "/home/gridsan/nmorgan/mambaforge/envs/chemprop_gpu/lib/python3.11/site-packages/lightning_fabric/plugins/environments/slurm.py:165: PossibleUserWarning: The `srun` command is available on your system but is not used. HINT: If your intention is to run Lightning on SLURM, prepend your python command with `srun` like so: srun python /home/gridsan/nmorgan/mambaforge/envs/chemprop_gpu/l ...\n",
      "  rank_zero_warn(\n",
      "GPU available: False, used: False\n",
      "TPU available: False, using: 0 TPU cores\n",
      "IPU available: False, using: 0 IPUs\n",
      "HPU available: False, using: 0 HPUs\n"
     ]
    },
    {
     "name": "stderr",
     "output_type": "stream",
     "text": [
      "/home/gridsan/nmorgan/mambaforge/envs/chemprop_gpu/lib/python3.11/site-packages/lightning_fabric/plugins/environments/slurm.py:165: PossibleUserWarning: The `srun` command is available on your system but is not used. HINT: If your intention is to run Lightning on SLURM, prepend your python command with `srun` like so: srun python /home/gridsan/nmorgan/mambaforge/envs/chemprop_gpu/l ...\n",
      "  rank_zero_warn(\n"
     ]
    },
    {
     "name": "stdout",
     "output_type": "stream",
     "text": [
      "Predicting DataLoader 0: 100%|██████████| 100/100 [00:07<00:00, 13.60it/s]\n"
     ]
    }
   ],
   "source": [
    "trainer = pl.Trainer()\n",
    "output = trainer.predict(models, pred_loader)"
   ]
  },
  {
   "cell_type": "code",
   "execution_count": 7,
   "metadata": {},
   "outputs": [
    {
     "data": {
      "text/plain": [
       "[(tensor([[138.2337]]), None),\n",
       " (tensor([[190.9051]]), None),\n",
       " (tensor([[435.3252]]), None),\n",
       " (tensor([[120.3308]]), None),\n",
       " (tensor([[67.6199]]), None),\n",
       " (tensor([[130.6288]]), None),\n",
       " (tensor([[67.6199]]), None),\n",
       " (tensor([[146.2285]]), None),\n",
       " (tensor([[163.4315]]), None),\n",
       " (tensor([[60.3734]]), None),\n",
       " (tensor([[399.9455]]), None),\n",
       " (tensor([[381.2084]]), None),\n",
       " (tensor([[135.3354]]), None),\n",
       " (tensor([[148.1225]]), None),\n",
       " (tensor([[111.7454]]), None),\n",
       " (tensor([[120.2314]]), None),\n",
       " (tensor([[187.9702]]), None),\n",
       " (tensor([[122.7746]]), None),\n",
       " (tensor([[33.7348]]), None),\n",
       " (tensor([[84.4824]]), None),\n",
       " (tensor([[172.4203]]), None),\n",
       " (tensor([[67.9176]]), None),\n",
       " (tensor([[120.3083]]), None),\n",
       " (tensor([[131.3990]]), None),\n",
       " (tensor([[281.1966]]), None),\n",
       " (tensor([[127.0592]]), None),\n",
       " (tensor([[175.6653]]), None),\n",
       " (tensor([[81.1315]]), None),\n",
       " (tensor([[246.2979]]), None),\n",
       " (tensor([[62.3632]]), None),\n",
       " (tensor([[204.4761]]), None),\n",
       " (tensor([[121.3655]]), None),\n",
       " (tensor([[159.9824]]), None),\n",
       " (tensor([[106.3978]]), None),\n",
       " (tensor([[90.8825]]), None),\n",
       " (tensor([[149.7800]]), None),\n",
       " (tensor([[133.7475]]), None),\n",
       " (tensor([[84.4848]]), None),\n",
       " (tensor([[147.4575]]), None),\n",
       " (tensor([[104.3129]]), None),\n",
       " (tensor([[122.3810]]), None),\n",
       " (tensor([[316.4875]]), None),\n",
       " (tensor([[124.9421]]), None),\n",
       " (tensor([[87.9537]]), None),\n",
       " (tensor([[121.7918]]), None),\n",
       " (tensor([[106.3638]]), None),\n",
       " (tensor([[83.4823]]), None),\n",
       " (tensor([[236.0300]]), None),\n",
       " (tensor([[126.8466]]), None),\n",
       " (tensor([[103.8824]]), None),\n",
       " (tensor([[118.8993]]), None),\n",
       " (tensor([[55.1020]]), None),\n",
       " (tensor([[118.0046]]), None),\n",
       " (tensor([[134.9145]]), None),\n",
       " (tensor([[104.0672]]), None),\n",
       " (tensor([[152.0518]]), None),\n",
       " (tensor([[299.6508]]), None),\n",
       " (tensor([[99.8673]]), None),\n",
       " (tensor([[263.2529]]), None),\n",
       " (tensor([[137.1497]]), None),\n",
       " (tensor([[143.3095]]), None),\n",
       " (tensor([[109.9148]]), None),\n",
       " (tensor([[62.7854]]), None),\n",
       " (tensor([[123.6585]]), None),\n",
       " (tensor([[134.7923]]), None),\n",
       " (tensor([[218.1982]]), None),\n",
       " (tensor([[125.0283]]), None),\n",
       " (tensor([[358.5788]]), None),\n",
       " (tensor([[133.4729]]), None),\n",
       " (tensor([[174.9261]]), None),\n",
       " (tensor([[118.1499]]), None),\n",
       " (tensor([[67.6199]]), None),\n",
       " (tensor([[152.2771]]), None),\n",
       " (tensor([[331.7935]]), None),\n",
       " (tensor([[391.0997]]), None),\n",
       " (tensor([[105.6697]]), None),\n",
       " (tensor([[133.0949]]), None),\n",
       " (tensor([[407.7311]]), None),\n",
       " (tensor([[202.0138]]), None),\n",
       " (tensor([[122.8660]]), None),\n",
       " (tensor([[78.2594]]), None),\n",
       " (tensor([[370.3631]]), None),\n",
       " (tensor([[117.5621]]), None),\n",
       " (tensor([[112.2384]]), None),\n",
       " (tensor([[133.1654]]), None),\n",
       " (tensor([[230.7963]]), None),\n",
       " (tensor([[151.3764]]), None),\n",
       " (tensor([[106.2258]]), None),\n",
       " (tensor([[119.2960]]), None),\n",
       " (tensor([[117.5837]]), None),\n",
       " (tensor([[145.3736]]), None),\n",
       " (tensor([[140.4277]]), None),\n",
       " (tensor([[145.9308]]), None),\n",
       " (tensor([[64.8904]]), None),\n",
       " (tensor([[133.7117]]), None),\n",
       " (tensor([[71.9055]]), None),\n",
       " (tensor([[90.6162]]), None),\n",
       " (tensor([[345.7685]]), None),\n",
       " (tensor([[121.7997]]), None),\n",
       " (tensor([[113.0618]]), None)]"
      ]
     },
     "execution_count": 7,
     "metadata": {},
     "output_type": "execute_result"
    }
   ],
   "source": [
    "output"
   ]
  },
  {
   "cell_type": "code",
   "execution_count": 7,
   "metadata": {},
   "outputs": [],
   "source": [
    "molenc_chk = modules.molecule_block()\n",
    "n_tasks = checkpoint['hyper_parameters']['n_tasks']\n",
    "mpnn_chk = models.RegressionMPNN(mpn_block = molenc_chk, n_tasks = n_tasks)\n",
    "mpnn_chk.load_state_dict(checkpoint['state_dict'])\n",
    "mpnn_chk.scaler = checkpoint['hyper_parameters']['scaler']"
   ]
  },
  {
   "cell_type": "code",
   "execution_count": 1,
   "metadata": {},
   "outputs": [],
   "source": [
    "import argparse"
   ]
  },
  {
   "cell_type": "code",
   "execution_count": 5,
   "metadata": {},
   "outputs": [],
   "source": [
    "obj = argparse._ActionsContainer(None, '-', None, 'error')"
   ]
  },
  {
   "cell_type": "code",
   "execution_count": 7,
   "metadata": {},
   "outputs": [
    {
     "ename": "TypeError",
     "evalue": "_ActionsContainer.register() missing 3 required positional arguments: 'registry_name', 'value', and 'object'",
     "output_type": "error",
     "traceback": [
      "\u001b[0;31m---------------------------------------------------------------------------\u001b[0m",
      "\u001b[0;31mTypeError\u001b[0m                                 Traceback (most recent call last)",
      "Cell \u001b[0;32mIn[7], line 1\u001b[0m\n\u001b[0;32m----> 1\u001b[0m obj\u001b[39m.\u001b[39;49mregister()\n",
      "\u001b[0;31mTypeError\u001b[0m: _ActionsContainer.register() missing 3 required positional arguments: 'registry_name', 'value', and 'object'"
     ]
    }
   ],
   "source": [
    "obj.register()"
   ]
  },
  {
   "cell_type": "code",
   "execution_count": null,
   "metadata": {},
   "outputs": [],
   "source": []
  }
 ],
 "metadata": {
  "kernelspec": {
   "display_name": "chemprop",
   "language": "python",
   "name": "python3"
  },
  "language_info": {
   "codemirror_mode": {
    "name": "ipython",
    "version": 3
   },
   "file_extension": ".py",
   "mimetype": "text/x-python",
   "name": "python",
   "nbconvert_exporter": "python",
   "pygments_lexer": "ipython3",
   "version": "3.11.4"
  },
  "orig_nbformat": 4
 },
 "nbformat": 4,
 "nbformat_minor": 2
}
