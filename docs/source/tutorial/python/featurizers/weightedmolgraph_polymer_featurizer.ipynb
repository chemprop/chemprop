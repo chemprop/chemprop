{
 "cells": [
  {
   "cell_type": "markdown",
   "metadata": {},
   "source": [
    "## Polymer WeightedMolGraph Featurizers"
   ]
  },
  {
   "cell_type": "code",
   "execution_count": null,
   "metadata": {},
   "outputs": [],
   "source": [
    "from chemprop.featurizers.molgraph.polymer import PolymerMolGraphFeaturizer\n",
    "from chemprop.data.datapoints import PolymerDatapoint"
   ]
  },
  {
   "cell_type": "markdown",
   "metadata": {},
   "source": [
    "This is an example polymer to featurize"
   ]
  },
  {
   "cell_type": "code",
   "execution_count": null,
   "metadata": {},
   "outputs": [],
   "source": [
    "polymer_to_featurize = \"[*:1]c1cc(F)c([*:2])cc1F.[*:3]c1c(O)cc(O)c([*:4])c1O|0.5|0.5|<1-3:0.5:0.5<1-4:0.5:0.5<2-3:0.5:0.5<2-4:0.5:0.5~10\"\n",
    "y = 1.6\n",
    "# A PolymerDatapoint must first be initialised to generate the Mol object\n",
    "polymer_datapoint = PolymerDatapoint.from_smi(polymer_to_featurize, y)"
   ]
  },
  {
   "cell_type": "markdown",
   "metadata": {},
   "source": [
    "### Polymer Featurizer"
   ]
  },
  {
   "cell_type": "markdown",
   "metadata": {},
   "source": [
    "A `PolymerMolGraph` represents the graph featurization of a polymer. It is made of atom features (`V`), bond features (`E`), atom weights (`V_w`), bond weights (`E_w`), a mapping between atoms and bonds (`edge_index` and `rev_edge_index`) and the degree of polymerisation in the form `1+log(Xn)`. It is created by `PolymerMolGraphFeaturizer` from a polymer string representation. "
   ]
  },
  {
   "cell_type": "markdown",
   "metadata": {},
   "source": [
    "As a `Polymer` requires additional bond and weight information, it cannot be built straight from an RDKit `Mol` object. It must therefore be built from `PolymerDatapoint.polymer`."
   ]
  },
  {
   "cell_type": "code",
   "execution_count": null,
   "metadata": {},
   "outputs": [],
   "source": [
    "featurizer = PolymerMolGraphFeaturizer()\n",
    "featurized_polymer = featurizer(polymer_datapoint.polymer)"
   ]
  },
  {
   "cell_type": "markdown",
   "metadata": {},
   "source": [
    "Additional polymer properties can be accessed such as the atom and bond weights and the degree of polymerisation"
   ]
  },
  {
   "cell_type": "code",
   "execution_count": null,
   "metadata": {},
   "outputs": [],
   "source": [
    "# Atom weights\n",
    "featurizer(polymer_datapoint.polymer).V_w"
   ]
  },
  {
   "cell_type": "code",
   "execution_count": null,
   "metadata": {},
   "outputs": [],
   "source": [
    "# Bond weights\n",
    "featurizer(polymer_datapoint.polymer).E_w"
   ]
  },
  {
   "cell_type": "code",
   "execution_count": null,
   "metadata": {},
   "outputs": [],
   "source": [
    "# Degree of polymerisation\n",
    "featurizer(polymer_datapoint.polymer).degree_of_poly"
   ]
  },
  {
   "cell_type": "markdown",
   "metadata": {},
   "source": [
    "### Custom"
   ]
  },
  {
   "cell_type": "markdown",
   "metadata": {},
   "source": [
    "The [atom](./atom_featurizers.ipynb) and [bond](./bond_featurizers.ipynb) featurizers used by the polymer featurizer are customizable."
   ]
  },
  {
   "cell_type": "code",
   "execution_count": null,
   "metadata": {},
   "outputs": [],
   "source": [
    "from chemprop.featurizers import MultiHotAtomFeaturizer, MultiHotBondFeaturizer\n",
    "\n",
    "atom_featurizer = MultiHotAtomFeaturizer.organic()\n",
    "bond_featurizer = MultiHotBondFeaturizer(stereos=[0, 1, 2, 3, 4])\n",
    "featurizer = PolymerMolGraphFeaturizer(\n",
    "    atom_featurizer=atom_featurizer, bond_featurizer=bond_featurizer\n",
    ")\n",
    "featurizer(polymer_datapoint.polymer)"
   ]
  },
  {
   "cell_type": "markdown",
   "metadata": {},
   "source": [
    "### Extra atom and bond features"
   ]
  },
  {
   "cell_type": "markdown",
   "metadata": {},
   "source": [
    "If your [datapoints](../data/datapoints.ipynb) have extra atom or bond features, the polymermolgraph featurizer needs to know the length of the extra features when it is created so that molecules without heavy atoms (molecular hydrogen) are featurized correctly and so that the bond feature array is the correct shape."
   ]
  },
  {
   "cell_type": "code",
   "execution_count": null,
   "metadata": {},
   "outputs": [],
   "source": [
    "n_extra_atom_features = 3\n",
    "n_extra_bond_features = 4\n",
    "featurizer = PolymerMolGraphFeaturizer(\n",
    "    extra_atom_fdim=n_extra_atom_features, extra_bond_fdim=n_extra_bond_features\n",
    ")"
   ]
  },
  {
   "cell_type": "markdown",
   "metadata": {},
   "source": [
    "The [dataset](../data/datasets.ipynb) is given this custom featurizer and automatically handles the featurization including passing extra atom and bond features for each datapoint. "
   ]
  }
 ],
 "metadata": {
  "kernelspec": {
   "display_name": ".venv",
   "language": "python",
   "name": "python3"
  },
  "language_info": {
   "codemirror_mode": {
    "name": "ipython",
    "version": 3
   },
   "file_extension": ".py",
   "mimetype": "text/x-python",
   "name": "python",
   "nbconvert_exporter": "python",
   "pygments_lexer": "ipython3",
   "version": "3.11.11"
  }
 },
 "nbformat": 4,
 "nbformat_minor": 2
}
