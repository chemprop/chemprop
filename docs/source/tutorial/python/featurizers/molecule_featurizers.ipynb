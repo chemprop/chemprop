{
    "cells": [
     {
      "cell_type": "markdown",
      "metadata": {},
      "source": [
       "## Molecule featurizers"
      ]
     },
     {
      "cell_type": "code",
      "execution_count": 1,
      "metadata": {},
      "outputs": [],
      "source": [
       "from rdkit import Chem\n",
       "from chemprop import utils\n",
       "from chemprop.featurizers.molecule import MorganBinaryFeaturizer, MorganCountFeaturizer"
      ]
     },
     {
      "cell_type": "markdown",
      "metadata": {},
      "source": [
       "### Molecule vs molgraph featurizers"
      ]
     },
     {
      "cell_type": "markdown",
      "metadata": {},
      "source": [
       "Both molecule and [molgraph](./molgraph_molecule_featurizer.ipynb) featurizers take `rdkit.Chem.Mol` objects as input. Molgraph featurizers produce a `MolGraph` which is used in message passing. Molecule featurizers produce a vector of features that can be used as [extra datapoint descriptors](../data/datapoints.ipynb)."
      ]
     },
     {
      "cell_type": "markdown",
      "metadata": {},
      "source": [
       "### Morgan fingerprint featurizers"
      ]
     },
     {
      "cell_type": "markdown",
      "metadata": {},
      "source": [
       "Morgan fingerprint can either use a binary or count representation of molecular structures. The radius of structures, length of the fingerprint, and whether to include chirality can all be customized. The default radius is 2, the default length is 2048, and chirality is included by default."
      ]
     },
     {
      "cell_type": "code",
      "execution_count": 2,
      "metadata": {},
      "outputs": [],
      "source": [
       "import numpy as np\n",
       "from rdkit import Chem\n",
       "from chemprop.data import MoleculeDatapoint, MoleculeDataset\n",
       "\n",
       "smis = [\"C\" * i for i in range(1, 11)]\n",
       "ys = np.random.rand(len(smis), 1)\n",
       "\n",
       "molecule_featurizer = MorganBinaryFeaturizer()\n",
       "extra_datapoint_descriptors = [\n",
       "    molecule_featurizer(utils.make_mol(smis[0], keep_h=False, add_h=False)) for smi in smis\n",
       "]\n",
       "datapoints = [\n",
       "    MoleculeDatapoint.from_smi(smi, y, x_d=x_d)\n",
       "    for smi, y, x_d in zip(smis, ys, extra_datapoint_descriptors)\n",
       "]"
      ]
     },
     {
      "cell_type": "code",
      "execution_count": 3,
      "metadata": {},
      "outputs": [
       {
        "data": {
         "text/plain": [
          "((1024,), array([0, 0, 0, ..., 0, 0, 0], dtype=int32))"
         ]
        },
        "execution_count": 3,
        "metadata": {},
        "output_type": "execute_result"
       }
      ],
      "source": [
       "molecule_featurizer = MorganCountFeaturizer(radius=3, length=1024, include_chirality=False)\n",
       "morgan_fp = molecule_featurizer(Chem.MolFromSmiles(smis[0]))\n",
       "morgan_fp.shape, morgan_fp"
      ]
     },
     {
      "cell_type": "markdown",
      "metadata": {},
      "source": [
       "### RDKit molecule featurizers"
      ]
     },
     {
      "cell_type": "code",
      "execution_count": 4,
      "metadata": {},
      "outputs": [],
      "source": [
       "# Coming soon"
      ]
     },
     {
      "cell_type": "markdown",
      "metadata": {},
      "source": [
       "### Custom"
      ]
     },
     {
      "cell_type": "markdown",
      "metadata": {},
      "source": [
       "Any class that has a length and returns a numpy array when given an `rdkit.Chem.Mol` can be used as a molecule featurizer. "
      ]
     },
     {
      "cell_type": "code",
      "execution_count": 5,
      "metadata": {},
      "outputs": [],
      "source": [
       "class MyMoleculeFeaturizer:\n",
       "    def __len__(self) -> int:\n",
       "        return 1\n",
       "\n",
       "    def __call__(self, mol: Chem.Mol) -> np.ndarray:\n",
       "        total_atoms = mol.GetNumAtoms()\n",
       "        return np.array([total_atoms])"
      ]
     },
     {
      "cell_type": "code",
      "execution_count": 6,
      "metadata": {},
      "outputs": [
       {
        "data": {
         "text/plain": [
          "array([1])"
         ]
        },
        "execution_count": 6,
        "metadata": {},
        "output_type": "execute_result"
       }
      ],
      "source": [
       "mf = MyMoleculeFeaturizer()\n",
       "mf(utils.make_mol(smis[0], keep_h=False, add_h=False))"
      ]
     }
    ],
    "metadata": {
     "kernelspec": {
      "display_name": "Python 3",
      "language": "python",
      "name": "python3"
     },
     "language_info": {
      "codemirror_mode": {
       "name": "ipython",
       "version": 3
      },
      "file_extension": ".py",
      "mimetype": "text/x-python",
      "name": "python",
      "nbconvert_exporter": "python",
      "pygments_lexer": "ipython3",
      "version": "3.11.8"
     },
     "orig_nbformat": 4
    },
    "nbformat": 4,
    "nbformat_minor": 2
   }
   