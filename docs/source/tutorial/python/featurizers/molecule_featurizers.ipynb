{
    "cells": [
     {
      "cell_type": "markdown",
      "metadata": {},
      "source": [
       "## Molecule featurizers"
      ]
     },
     {
      "cell_type": "code",
      "execution_count": 1,
      "metadata": {},
      "outputs": [],
      "source": [
       "from chemprop.featurizers.molecule import (\n",
       "    MorganBinaryFeaturizer,\n",
       "    MorganCountFeaturizer,\n",
       "    RDKit2DFeaturizer,\n",
       ")"
      ]
     },
     {
      "cell_type": "markdown",
      "metadata": {},
      "source": [
       "These are example molecules to featurize."
      ]
     },
     {
      "cell_type": "code",
      "execution_count": 2,
      "metadata": {},
      "outputs": [],
      "source": [
       "from chemprop.utils import make_mol\n",
       "\n",
       "smis = [\"C\" * i for i in range(1, 11)]\n",
       "mols = [make_mol(smi, keep_h=False, add_h=False) for smi in smis]"
      ]
     },
     {
      "cell_type": "markdown",
      "metadata": {},
      "source": [
       "### Molecule vs molgraph featurizers"
      ]
     },
     {
      "cell_type": "markdown",
      "metadata": {},
      "source": [
       "Both molecule and [molgraph](./molgraph_molecule_featurizer.ipynb) featurizers take `rdkit.Chem.Mol` objects as input. Molgraph featurizers produce a `MolGraph` which is used in message passing. Molecule featurizers produce a 1D numpy array of features that can be used as [extra datapoint descriptors](../data/datapoints.ipynb)."
      ]
     },
     {
      "cell_type": "code",
      "execution_count": 3,
      "metadata": {},
      "outputs": [
       {
        "data": {
         "text/plain": [
          "array([0, 0, 0, ..., 0, 0, 0], dtype=uint8)"
         ]
        },
        "execution_count": 3,
        "metadata": {},
        "output_type": "execute_result"
       }
      ],
      "source": [
       "from chemprop.data import MoleculeDatapoint\n",
       "\n",
       "molecule_featurizer = MorganBinaryFeaturizer()\n",
       "\n",
       "datapoints = [MoleculeDatapoint(mol, x_d=molecule_featurizer(mol)) for mol in mols]\n",
       "\n",
       "molecule_featurizer(mols[0])"
      ]
     },
     {
      "cell_type": "markdown",
      "metadata": {},
      "source": [
       "### Morgan fingerprint featurizers"
      ]
     },
     {
      "cell_type": "markdown",
      "metadata": {},
      "source": [
       "Morgan fingerprint can either use a binary or count representation of molecular structures. The radius of structures, length of the fingerprint, and whether to include chirality can all be customized. The default radius is 2, the default length is 2048, and chirality is included by default."
      ]
     },
     {
      "cell_type": "code",
      "execution_count": 4,
      "metadata": {},
      "outputs": [
       {
        "data": {
         "text/plain": [
          "((1024,), array([0, 0, 0, ..., 0, 0, 0], dtype=int32))"
         ]
        },
        "execution_count": 4,
        "metadata": {},
        "output_type": "execute_result"
       }
      ],
      "source": [
       "mf = MorganCountFeaturizer(radius=3, length=1024, include_chirality=False)\n",
       "morgan_fp = mf(mols[0])\n",
       "morgan_fp.shape, morgan_fp"
      ]
     },
     {
      "cell_type": "markdown",
      "metadata": {},
      "source": [
       "### RDKit molecule featurizers"
      ]
     },
     {
      "cell_type": "markdown",
      "metadata": {},
      "source": [
       "Chemprop gives a warning that the RDKit molecule featurers are not well scaled by a `StandardScaler`. Consult the literature for more appropriate scaling methods."
      ]
     },
     {
      "cell_type": "code",
      "execution_count": 5,
      "metadata": {},
      "outputs": [
       {
        "name": "stderr",
        "output_type": "stream",
        "text": [
         "/home/knathan/chemprop/chemprop/featurizers/molecule.py:51: UserWarning: The RDKit 2D features can deviate signifcantly from a normal distribution. Consider manually scaling them using an appropriate scaler before creating datapoints, rather than using the scikit-learn `StandardScaler` (the default in Chemprop).\n",
         "  warnings.warn(\n"
        ]
       },
       {
        "data": {
         "text/plain": [
          "array([ 0.        ,  0.        ,  0.        ,  0.        ,  0.35978494,\n",
          "        0.        , 16.043     , 12.011     , 16.03130013,  8.        ,\n",
          "        0.        , -0.07755789, -0.07755789,  0.07755789,  0.07755789,\n",
          "        1.        ,  1.        ,  1.        , 12.011     , 12.011     ,\n",
          "       -0.07755789, -0.07755789,  0.1441    ,  0.1441    ,  2.503     ,\n",
          "        2.503     ,  0.        ,  0.        ,  0.        ,  0.        ,\n",
          "        0.        ,  0.        ,  0.        ,  0.        ,  0.        ,\n",
          "        0.        ,  0.        ,  0.        ,  0.        ,  0.        ,\n",
          "        0.        ,  0.        ,  0.        ,  0.        ,  0.        ,\n",
          "        0.        ,  8.73925103,  0.        ,  0.        ,  0.        ,\n",
          "        0.        ,  0.        ,  0.        ,  0.        ,  0.        ,\n",
          "        0.        ,  0.        ,  7.42665278,  0.        ,  0.        ,\n",
          "        0.        ,  0.        ,  0.        ,  0.        ,  0.        ,\n",
          "        0.        ,  7.42665278,  0.        ,  0.        ,  0.        ,\n",
          "        0.        ,  0.        ,  0.        ,  0.        ,  0.        ,\n",
          "        0.        ,  0.        ,  0.        ,  7.42665278,  0.        ,\n",
          "        0.        ,  0.        ,  0.        ,  0.        ,  0.        ,\n",
          "        0.        ,  0.        ,  7.42665278,  0.        ,  0.        ,\n",
          "        0.        ,  0.        ,  0.        ,  0.        ,  0.        ,\n",
          "        0.        ,  0.        ,  0.        ,  0.        ,  0.        ,\n",
          "        0.        ,  0.        ,  0.        ,  0.        ,  0.        ,\n",
          "        1.        ,  1.        ,  0.        ,  0.        ,  0.        ,\n",
          "        0.        ,  0.        ,  0.        ,  0.        ,  0.        ,\n",
          "        0.        ,  0.        ,  0.        ,  0.        ,  0.        ,\n",
          "        0.        ,  0.        ,  0.        ,  0.6361    ,  6.731     ,\n",
          "        0.        ,  0.        ,  0.        ,  0.        ,  0.        ,\n",
          "        0.        ,  0.        ,  0.        ,  0.        ,  0.        ,\n",
          "        0.        ,  0.        ,  0.        ,  0.        ,  0.        ,\n",
          "        0.        ,  0.        ,  0.        ,  0.        ,  0.        ,\n",
          "        0.        ,  0.        ,  0.        ,  0.        ,  0.        ,\n",
          "        0.        ,  0.        ,  0.        ,  0.        ,  0.        ,\n",
          "        0.        ,  0.        ,  0.        ,  0.        ,  0.        ,\n",
          "        0.        ,  0.        ,  0.        ,  0.        ,  0.        ,\n",
          "        0.        ,  0.        ,  0.        ,  0.        ,  0.        ,\n",
          "        0.        ,  0.        ,  0.        ,  0.        ,  0.        ,\n",
          "        0.        ,  0.        ,  0.        ,  0.        ,  0.        ,\n",
          "        0.        ,  0.        ,  0.        ,  0.        ,  0.        ,\n",
          "        0.        ,  0.        ,  0.        ,  0.        ,  0.        ,\n",
          "        0.        ,  0.        ,  0.        ,  0.        ,  0.        ,\n",
          "        0.        ,  0.        ,  0.        ,  0.        ,  0.        ,\n",
          "        0.        ,  0.        ,  0.        ,  0.        ,  0.        ,\n",
          "        0.        ,  0.        ,  0.        ,  0.        ,  0.        ])"
         ]
        },
        "execution_count": 5,
        "metadata": {},
        "output_type": "execute_result"
       }
      ],
      "source": [
       "molecule_featurizer = RDKit2DFeaturizer()\n",
       "extra_datapoint_descriptors = [molecule_featurizer(mol) for mol in mols]\n",
       "extra_datapoint_descriptors[0]"
      ]
     },
     {
      "cell_type": "code",
      "execution_count": 5,
      "metadata": {},
      "outputs": [],
      "source": [
       "# Coming soon"
      ]
     },
     {
      "cell_type": "markdown",
      "metadata": {},
      "source": [
       "### Custom"
      ]
     },
     {
      "cell_type": "markdown",
      "metadata": {},
      "source": [
       "Any class that has a length and returns a 1D numpy array when given an `rdkit.Chem.Mol` can be used as a molecule featurizer. "
      ]
     },
     {
      "cell_type": "code",
      "execution_count": 6,
      "metadata": {},
      "outputs": [],
      "source": [
       "import numpy as np\n",
       "from rdkit import Chem\n",
       "\n",
       "class MyMoleculeFeaturizer:\n",
       "    def __len__(self) -> int:\n",
       "        return 1\n",
       "\n",
       "    def __call__(self, mol: Chem.Mol) -> np.ndarray:\n",
       "        total_atoms = mol.GetNumAtoms()\n",
       "        return np.array([total_atoms])"
      ]
     },
     {
      "cell_type": "code",
      "execution_count": 7,
      "metadata": {},
      "outputs": [
       {
        "data": {
         "text/plain": [
          "array([1])"
         ]
        },
        "execution_count": 7,
        "metadata": {},
        "output_type": "execute_result"
       }
      ],
      "source": [
       "mf = MyMoleculeFeaturizer()\n",
       "mf(mols[0])"
    ]
   }
   {
      "cell_type": "markdown",
      "metadata": {},
      "source": [
       "## Using molecule features as extra datapoint descriptors"
      ]
     },
     {
      "cell_type": "markdown",
      "metadata": {},
      "source": [
       "If you only have molecule features for one molecule per datapoint, those features can be used directly as extra datapoint descriptures. If you have multiple molecules with extra features, or other extra datapoint descriptors, they first need to be concatenated into a single numpy array."
      ]
     },
     {
      "cell_type": "code",
      "execution_count": 8,
      "metadata": {},
      "outputs": [],
      "source": [
       "from chemprop.data import MoleculeDatapoint\n",
       "\n",
       "datapoints = [\n",
       "    MoleculeDatapoint(mol, y, x_d=x_d)\n",
       "    for mol, y, x_d in zip(mols, ys, extra_datapoint_descriptors)\n",
       "]\n",
       "\n",
       "mol1_features = np.random.randn(len(mols), 1)\n",
       "mol2_features = np.random.randn(len(mols), 2)\n",
       "other_datapoint_descriptors = np.random.randn(len(mols), 3)\n",
       "\n",
       "extra_datapoint_descriptors = np.hstack([mol1_features, mol2_features, other_datapoint_descriptors])"
      ]
     }
    ],
    "metadata": {
     "kernelspec": {
      "display_name": "Python 3",
      "language": "python",
      "name": "python3"
     },
     "language_info": {
      "codemirror_mode": {
       "name": "ipython",
       "version": 3
      },
      "file_extension": ".py",
      "mimetype": "text/x-python",
      "name": "python",
      "nbconvert_exporter": "python",
      "pygments_lexer": "ipython3",
      "version": "3.11.8"
     },
     "orig_nbformat": 4
    },
    "nbformat": 4,
    "nbformat_minor": 2
   }