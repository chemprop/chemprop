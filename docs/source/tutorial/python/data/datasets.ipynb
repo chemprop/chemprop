{
 "cells": [
  {
   "cell_type": "markdown",
   "metadata": {},
   "source": [
    "## Datasets"
   ]
  },
  {
   "cell_type": "code",
   "execution_count": null,
   "metadata": {},
   "outputs": [],
   "source": [
    "from chemprop.data.datasets import MoleculeDataset, PolymerDataset, ReactionDataset, MulticomponentDataset"
   ]
  },
  {
   "cell_type": "markdown",
   "metadata": {},
   "source": [
    "To make a dataset you first need a list of [datapoints](./datapoints.ipynb)."
   ]
  },
  {
   "cell_type": "code",
   "execution_count": null,
   "metadata": {},
   "outputs": [],
   "source": [
    "import numpy as np\n",
    "from chemprop.data import MoleculeDatapoint, LazyMoleculeDatapoint, PolymerDatapoint, ReactionDatapoint\n",
    "\n",
    "ys = np.random.rand(2, 1)\n",
    "\n",
    "smis = [\"C\", \"CC\"]\n",
    "mol_datapoints = [MoleculeDatapoint.from_smi(smi, y) for smi, y in zip(smis, ys)]\n",
    "\n",
    "rxn_smis = [\"[H:2][O:1][H:3]>>[H:2][O:1].[H:3]\", \"[H:2][S:1][H:3]>>[H:2][S:1].[H:3]\"]\n",
    "rxn_datapoints = [\n",
    "    ReactionDatapoint.from_smi(rxn_smi, y, keep_h=True) for rxn_smi, y in zip(rxn_smis, ys)\n",
    "]\n",
    "\n",
    "polymer_smis = [\"[*:1]c1cc(F)c([*:2])cc1F.[*:3]c1c(O)cc(O)c([*:4])c1O|0.5|0.5|<1-3:0.5:0.5<1-4:0.5:0.5<2-3:0.5:0.5<2-4:0.5:0.5\",\n",
    "                \"[*:1]c1cc(F)c([*:2])cc1F.[*:3]c1c(O)cc(O)c([*:4])c1O|0.5|0.5|<1-2:0.375:0.375<1-1:0.375:0.375<2-2:0.375:0.375<3-4:0.375:0.375<3-3:0.375:0.375<4-4:0.125:0.125<1-3:0.125:0.125<1-4:0.125:0.125<2-3:0.125:0.125<2-4:0.125:0.125\"\n",
    "                ]\n",
    "polymer_datapoints = [PolymerDatapoint.from_smi(poly_smi, y) for poly_smi, y in zip(polymer_smis, ys)]"
   ]
  },
  {
   "cell_type": "markdown",
   "metadata": {},
   "source": [
    "### Molecule Datasets"
   ]
  },
  {
   "cell_type": "markdown",
   "metadata": {},
   "source": [
    "`MoleculeDataset`s are made from a list of `MoleculeDatapoint`s."
   ]
  },
  {
   "cell_type": "code",
   "execution_count": null,
   "metadata": {},
   "outputs": [],
   "source": [
    "MoleculeDataset(mol_datapoints)"
   ]
  },
  {
   "cell_type": "markdown",
   "metadata": {},
   "source": [
    "### Dataset properties"
   ]
  },
  {
   "cell_type": "markdown",
   "metadata": {},
   "source": [
    "The properties of datapoints are collated in a dataset."
   ]
  },
  {
   "cell_type": "code",
   "execution_count": null,
   "metadata": {},
   "outputs": [],
   "source": [
    "dataset = MoleculeDataset(mol_datapoints)\n",
    "print(dataset.Y)\n",
    "print(dataset.names)"
   ]
  },
  {
   "cell_type": "markdown",
   "metadata": {},
   "source": [
    "Datasets return a `Datum` when indexed. A `Datum` contains a `MolGraph` (see the [molgraph featurizer notebook](../featurizers/molgraph_molecule_featurizer.ipynb)), the extra atom and datapoint level descriptors, the target(s), the weights, and masks for bounded loss functions."
   ]
  },
  {
   "cell_type": "code",
   "execution_count": null,
   "metadata": {},
   "outputs": [],
   "source": [
    "dataset[0]"
   ]
  },
  {
   "cell_type": "markdown",
   "metadata": {},
   "source": [
    "### Caching"
   ]
  },
  {
   "cell_type": "markdown",
   "metadata": {},
   "source": [
    "The `MolGraph`s are generated as needed by default. For small to medium dataset (exact sizes not yet benchmarked), it is more efficient to generate and cache the molgraphs when the dataset is created. \n",
    "\n",
    "If the cache needs to be recreated, set the cache to True again. To clear the cache, set it to False. \n",
    "\n",
    "Note we recommend [scaling](../scaling.ipynb) additional atom and bond features before setting the cache, as scaling them after caching will require the cache to be recreated, which is done automatically."
   ]
  },
  {
   "cell_type": "code",
   "execution_count": null,
   "metadata": {},
   "outputs": [],
   "source": [
    "dataset.cache = True  # Generate the molgraphs and cache them\n",
    "dataset.cache = True  # Recreate the cache\n",
    "dataset.cache = False  # Clear the cache\n",
    "\n",
    "dataset.cache = True  # Cache created with unscaled extra bond features\n",
    "dataset.normalize_inputs(key=\"E_f\")  # Cache recreated automatically with scaled extra bond features"
   ]
  },
  {
   "cell_type": "markdown",
   "metadata": {},
   "source": [
    "### CuikmolmakerDataset (available with `cuik-molmaker` only)\n",
    "This dataset constructs and featurizes a batch of molecules at once instead of one at a time using `cuik-molmaker`."
   ]
  },
  {
   "cell_type": "code",
   "execution_count": null,
   "metadata": {},
   "outputs": [],
   "source": [
    "from chemprop.utils.utils import is_cuikmolmaker_available\n",
    "print(f\"cuik-molmaker available: {is_cuikmolmaker_available()}\")"
   ]
  },
  {
   "cell_type": "code",
   "execution_count": null,
   "metadata": {},
   "outputs": [],
   "source": [
    "if is_cuikmolmaker_available():\n",
    "    from chemprop.data.datasets import CuikmolmakerDataset\n",
    "    import pandas as pd\n",
    "\n",
    "    smi_df = pd.read_csv(\"../../../../../tests/data/smis.csv\")\n",
    "\n",
    "    lazy_mol_datapoints = [LazyMoleculeDatapoint(smi) for smi in smi_df[\"smiles\"]]\n",
    "    cuik_dataset = CuikmolmakerDataset(lazy_mol_datapoints)\n",
    "    len(cuik_dataset)"
   ]
  },
  {
   "cell_type": "code",
   "execution_count": null,
   "metadata": {},
   "outputs": [],
   "source": [
    "# CuikmolmakerDataset implements `__getitems__` function instead of `__getitem__` enabling batched dataset featurization and access.\n",
    "if is_cuikmolmaker_available():\n",
    "    cuik_dataset.__getitems__([1, 2, 12, 34])"
   ]
  },
  {
   "cell_type": "markdown",
   "metadata": {},
   "source": [
    "### Datasets with custom featurizers"
   ]
  },
  {
   "cell_type": "markdown",
   "metadata": {},
   "source": [
    "Datasets use a molgraph featurizer to create the `MolGraphs`s from the `rdkit.Chem.Mol` objects in datapoints. A basic `SimpleMoleculeMolGraphFeaturizer` is the default featurizer for `MoleculeDataset`s. If you are using a [custom molgraph featurizer](../featurizers/molgraph_molecule_featurizer.ipynb), pass it as an argument when creating the dataset."
   ]
  },
  {
   "cell_type": "code",
   "execution_count": null,
   "metadata": {},
   "outputs": [],
   "source": [
    "from chemprop.featurizers import SimpleMoleculeMolGraphFeaturizer, MultiHotAtomFeaturizer\n",
    "\n",
    "mol_featurizer = SimpleMoleculeMolGraphFeaturizer(atom_featurizer=MultiHotAtomFeaturizer.v1())\n",
    "MoleculeDataset(mol_datapoints, featurizer=mol_featurizer)"
   ]
  },
  {
   "cell_type": "markdown",
   "metadata": {},
   "source": [
    "### Reaction Datasets"
   ]
  },
  {
   "cell_type": "markdown",
   "metadata": {},
   "source": [
    "Reaction datasets are the same as molecule datasets, except they are made from a list of `ReactionDatapoint`s and `CondensedGraphOfReactionFeaturizer` is the default featurizer. [CGRs](../featurizers/molgraph_reaction_featurizer.ipynb) are also `MolGraph`s."
   ]
  },
  {
   "cell_type": "code",
   "execution_count": null,
   "metadata": {},
   "outputs": [],
   "source": [
    "ReactionDataset(rxn_datapoints).featurizer"
   ]
  },
  {
   "cell_type": "markdown",
   "metadata": {},
   "source": [
    "### Polymer Datasets"
   ]
  },
  {
   "cell_type": "markdown",
   "metadata": {},
   "source": [
    "Polymer datasets are the same as molecule datasets, except they are made from a list of `PolymerDatapoint`s and `PolymerMolGraphFeaturizer` is the default featurizer. Polymers are `WeightedMolGraph`s, which include additional atom and bond weight information."
   ]
  },
  {
   "cell_type": "code",
   "execution_count": null,
   "metadata": {},
   "outputs": [],
   "source": [
    "PolymerDataset(polymer_datapoints).featurizer"
   ]
  },
  {
   "cell_type": "markdown",
   "metadata": {},
   "source": [
    "### Multicomponent datasets"
   ]
  },
  {
   "cell_type": "markdown",
   "metadata": {},
   "source": [
    "`MulticomponentDataset` is for datasets whose target values depend on multiple components. It is composed of parallel `MoleculeDataset`s and `ReactionDataset`s."
   ]
  },
  {
   "cell_type": "code",
   "execution_count": null,
   "metadata": {},
   "outputs": [],
   "source": [
    "mol_dataset = MoleculeDataset(mol_datapoints)\n",
    "rxn_dataset = ReactionDataset(rxn_datapoints)\n",
    "\n",
    "# e.g. reaction in solvent\n",
    "multi_dataset = MulticomponentDataset(datasets=[mol_dataset, rxn_dataset])\n",
    "\n",
    "# e.g. solubility\n",
    "MulticomponentDataset(datasets=[mol_dataset, mol_dataset])"
   ]
  },
  {
   "cell_type": "markdown",
   "metadata": {},
   "source": [
    "A `MulticomponentDataset` collates dataset properties (e.g. SMILES) of each dataset. It does not collate datapoint level properties like target values and extra datapoint descriptors. Chemprop models automatically take those from **the first dataset** in datasets."
   ]
  },
  {
   "cell_type": "code",
   "execution_count": null,
   "metadata": {},
   "outputs": [],
   "source": [
    "multi_dataset.smiles"
   ]
  },
  {
   "cell_type": "code",
   "execution_count": null,
   "metadata": {},
   "outputs": [],
   "source": [
    "multi_dataset.datasets[0].Y"
   ]
  }
 ],
 "metadata": {
  "kernelspec": {
   "display_name": ".venv",
   "language": "python",
   "name": "python3"
  },
  "language_info": {
   "codemirror_mode": {
    "name": "ipython",
    "version": 3
   },
   "file_extension": ".py",
   "mimetype": "text/x-python",
   "name": "python",
   "nbconvert_exporter": "python",
   "pygments_lexer": "ipython3",
   "version": "3.11.11"
  }
 },
 "nbformat": 4,
 "nbformat_minor": 2
}
