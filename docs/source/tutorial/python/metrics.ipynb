{
 "cells": [
  {
   "cell_type": "markdown",
   "metadata": {},
   "source": [
    "## Metrics"
   ]
  },
  {
   "cell_type": "code",
   "execution_count": 1,
   "metadata": {},
   "outputs": [],
   "source": [
    "from lightning import pytorch as pl\n",
    "import numpy as np\n",
    "import torch\n",
    "from chemprop import data, models, nn\n",
    "from chemprop.nn.metrics import MetricRegistry"
   ]
  },
  {
   "cell_type": "markdown",
   "metadata": {},
   "source": [
    "### Available metric functions"
   ]
  },
  {
   "cell_type": "markdown",
   "metadata": {},
   "source": [
    "Chemprop provides several metrics. The functions calculate a single value that serves as a measure of model performance. Users only need to select the metric(s) to use. The rest of the details are handled by Chemprop and the lightning trainer, which reports the first metric on the validation set during training and all metric on the test set during testing. See the [source code](https://github.com/chemprop/chemprop/blob/main/chemprop/nn/metrics.py) for computation details of the metrics."
   ]
  },
  {
   "cell_type": "code",
   "execution_count": 2,
   "metadata": {},
   "outputs": [
    {
     "name": "stdout",
     "output_type": "stream",
     "text": [
      "mae\n",
      "mse\n",
      "rmse\n",
      "bounded-mae\n",
      "bounded-mse\n",
      "bounded-rmse\n",
      "r2\n",
      "roc\n",
      "prc\n",
      "accuracy\n",
      "f1\n",
      "bce\n",
      "ce\n",
      "binary-mcc\n",
      "multiclass-mcc\n",
      "sid\n",
      "wasserstein\n"
     ]
    }
   ],
   "source": [
    "for metric in MetricRegistry:\n",
    "    print(metric)"
   ]
  },
  {
   "cell_type": "markdown",
   "metadata": {},
   "source": [
    "### Multiple metrics"
   ]
  },
  {
   "cell_type": "markdown",
   "metadata": {},
   "source": [
    "A list of metrics is passed to the model at creation if multiple metrics are desired. The first metric in the list is reported during validation. Note that the list of metrics is used in place of the default metric and not in addition to the default metric."
   ]
  },
  {
   "cell_type": "code",
   "execution_count": 3,
   "metadata": {},
   "outputs": [],
   "source": [
    "from chemprop.nn.metrics import MSEMetric, MAEMetric, RMSEMetric\n",
    "\n",
    "mets = [MSEMetric(), MAEMetric(), RMSEMetric()]\n",
    "model = models.MPNN(nn.BondMessagePassing(), nn.MeanAggregation(), nn.RegressionFFN(), metrics=mets)"
   ]
  },
  {
   "cell_type": "markdown",
   "metadata": {},
   "source": [
    "### Batch averaged metric"
   ]
  },
  {
   "cell_type": "markdown",
   "metadata": {},
   "source": [
    "Note that the lightning trainer reports batch averaged metrics, i.e. the metric is evaluated for each batch and then averaged together. This can be different than the metric for the whole dataset for some metrics, like RMSE. Usually this is fine, but if the metric for the whole dataset is desired it can be calculated from the predictions manually."
   ]
  },
  {
   "cell_type": "code",
   "execution_count": 4,
   "metadata": {},
   "outputs": [
    {
     "name": "stderr",
     "output_type": "stream",
     "text": [
      "GPU available: False, used: False\n",
      "TPU available: False, using: 0 TPU cores\n",
      "IPU available: False, using: 0 IPUs\n",
      "HPU available: False, using: 0 HPUs\n",
      "/home/knathan/anaconda3/envs/chemprop/lib/python3.11/site-packages/lightning/pytorch/trainer/connectors/data_connector.py:441: The 'test_dataloader' does not have many workers which may be a bottleneck. Consider increasing the value of the `num_workers` argument` to `num_workers=11` in the `DataLoader` to improve performance.\n"
     ]
    },
    {
     "name": "stdout",
     "output_type": "stream",
     "text": [
      "Testing DataLoader 0: 100%|██████████| 5/5 [00:00<00:00,  9.83it/s]\n",
      "────────────────────────────────────────────────────────────────────────────────────────────────────────────────────────\n",
      "       Test metric             DataLoader 0\n",
      "────────────────────────────────────────────────────────────────────────────────────────────────────────────────────────\n",
      " batch_averaged_test/mae    0.5207622647285461\n",
      " batch_averaged_test/mse    0.34527701139450073\n",
      "batch_averaged_test/rmse    0.5413810610771179\n",
      "────────────────────────────────────────────────────────────────────────────────────────────────────────────────────────\n"
     ]
    },
    {
     "name": "stderr",
     "output_type": "stream",
     "text": [
      "/home/knathan/anaconda3/envs/chemprop/lib/python3.11/site-packages/lightning/pytorch/trainer/connectors/data_connector.py:441: The 'predict_dataloader' does not have many workers which may be a bottleneck. Consider increasing the value of the `num_workers` argument` to `num_workers=11` in the `DataLoader` to improve performance.\n"
     ]
    },
    {
     "name": "stdout",
     "output_type": "stream",
     "text": [
      "Predicting DataLoader 0: 100%|██████████| 5/5 [00:00<00:00,  9.57it/s]\n"
     ]
    }
   ],
   "source": [
    "smis = [\"C\" * i for i in range(1, 11)]\n",
    "ys = np.random.rand(len(smis), 1)\n",
    "dset = data.MoleculeDataset([data.MoleculeDatapoint.from_smi(smi, y) for smi, y in zip(smis, ys)])\n",
    "dataloader = data.build_dataloader(dset, shuffle=False, batch_size=2)\n",
    "\n",
    "trainer = pl.Trainer(logger=False, enable_checkpointing=False, max_epochs=1)\n",
    "batch_avg_result = trainer.test(model, dataloader)\n",
    "preds = trainer.predict(model, dataloader)\n",
    "preds = torch.concat(preds)"
   ]
  },
  {
   "cell_type": "code",
   "execution_count": 5,
   "metadata": {},
   "outputs": [
    {
     "name": "stdout",
     "output_type": "stream",
     "text": [
      "Batch averaged / Whole dataset\n",
      "0.5414 / 0.5876\n"
     ]
    }
   ],
   "source": [
    "whole_result = RMSEMetric()(preds, torch.from_numpy(dset.Y), None, None, None, None)\n",
    "print(\"Batch averaged / Whole dataset\")\n",
    "print(f\"{batch_avg_result[0]['batch_averaged_test/rmse']:.4f} / {whole_result.item():.4f}\")"
   ]
  },
  {
   "cell_type": "markdown",
   "metadata": {},
   "source": [
    "### Batch normalization"
   ]
  },
  {
   "cell_type": "markdown",
   "metadata": {},
   "source": [
    "It is worth noting that if your model has a batch normalization layer, the computed metric will be different depending on if the model is in training or evaluation mode. When a batch normalization layer is training, it uses a biased estimator to calculate the standard deviation, but the value stored and used during evaluation is calculated with the unbiased estimator. Lightning takes care of this if the `Trainer()` is used. "
   ]
  },
  {
   "cell_type": "markdown",
   "metadata": {},
   "source": [
    "### Regression"
   ]
  },
  {
   "cell_type": "markdown",
   "metadata": {},
   "source": [
    "There are several metric options for regression. `MSEMetric` is the default. There are also bounded versions (except for r2), similar to the bounded versions of the [loss functions](./loss_functions.ipynb). "
   ]
  },
  {
   "cell_type": "code",
   "execution_count": 6,
   "metadata": {},
   "outputs": [],
   "source": [
    "from chemprop.nn.metrics import MSEMetric, MAEMetric, RMSEMetric, R2Metric"
   ]
  },
  {
   "cell_type": "code",
   "execution_count": 7,
   "metadata": {},
   "outputs": [],
   "source": [
    "from chemprop.nn.metrics import BoundedMAEMetric, BoundedMSEMetric, BoundedRMSEMetric"
   ]
  },
  {
   "cell_type": "markdown",
   "metadata": {},
   "source": [
    "### Classification"
   ]
  },
  {
   "cell_type": "markdown",
   "metadata": {},
   "source": [
    "There are metrics for both binary and multiclass classification."
   ]
  },
  {
   "cell_type": "code",
   "execution_count": 8,
   "metadata": {},
   "outputs": [],
   "source": [
    "from chemprop.nn.metrics import (\n",
    "    BinaryAUROCMetric,\n",
    "    BinaryAUPRCMetric,\n",
    "    BinaryAccuracyMetric,\n",
    "    BinaryF1Metric,\n",
    "    BCEMetric,\n",
    "    BinaryMCCMetric,\n",
    ")"
   ]
  },
  {
   "cell_type": "code",
   "execution_count": 9,
   "metadata": {},
   "outputs": [],
   "source": [
    "from chemprop.nn.metrics import CrossEntropyMetric, MulticlassMCCMetric"
   ]
  },
  {
   "cell_type": "markdown",
   "metadata": {},
   "source": [
    "### Spectra"
   ]
  },
  {
   "cell_type": "markdown",
   "metadata": {},
   "source": [
    "Beta versions of metrics for spectra prediction will be finalized for v2.1."
   ]
  },
  {
   "cell_type": "code",
   "execution_count": 10,
   "metadata": {},
   "outputs": [],
   "source": [
    "from chemprop.nn.metrics import SIDMetric, WassersteinMetric"
   ]
  }
 ],
 "metadata": {
  "kernelspec": {
   "display_name": "chemprop",
   "language": "python",
   "name": "python3"
  },
  "language_info": {
   "codemirror_mode": {
    "name": "ipython",
    "version": 3
   },
   "file_extension": ".py",
   "mimetype": "text/x-python",
   "name": "python",
   "nbconvert_exporter": "python",
   "pygments_lexer": "ipython3",
   "version": "3.11.8"
  }
 },
 "nbformat": 4,
 "nbformat_minor": 2
}
