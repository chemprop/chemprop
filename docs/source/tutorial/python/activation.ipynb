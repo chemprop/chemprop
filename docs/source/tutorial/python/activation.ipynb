{
 "cells": [
  {
   "cell_type": "markdown",
   "metadata": {},
   "source": [
    "## Activation"
   ]
  },
  {
   "cell_type": "code",
   "execution_count": 1,
   "metadata": {},
   "outputs": [],
   "source": [
    "from chemprop.nn.utils import Activation"
   ]
  },
  {
   "cell_type": "markdown",
   "metadata": {},
   "source": [
    "### Activation functions\n",
    "\n",
    "The following activation functions are available in Chemprop."
   ]
  },
  {
   "cell_type": "code",
   "execution_count": 2,
   "metadata": {},
   "outputs": [
    {
     "name": "stdout",
     "output_type": "stream",
     "text": [
      "relu\n",
      "leakyrelu\n",
      "prelu\n",
      "tanh\n",
      "selu\n",
      "elu\n"
     ]
    }
   ],
   "source": [
    "for activation in Activation:\n",
    "    print(activation)"
   ]
  },
  {
   "cell_type": "markdown",
   "metadata": {},
   "source": [
    "### Custom"
   ]
  },
  {
   "cell_type": "markdown",
   "metadata": {},
   "source": [
    "Custom activation functions can be used from Python by passing a PyTorch module to the `MessagePassing` or `Predictor` constructor. Command line access is not possible."
   ]
  },
  {
   "cell_type": "code",
   "execution_count": 3,
   "metadata": {},
   "outputs": [],
   "source": [
    "import torch\n",
    "from chemprop.nn import AtomMessagePassing"
   ]
  },
  {
   "cell_type": "code",
   "execution_count": 4,
   "metadata": {},
   "outputs": [
    {
     "name": "stdout",
     "output_type": "stream",
     "text": [
      "Threshold\n",
      "ReLU\n",
      "RReLU\n",
      "Hardtanh\n",
      "ReLU6\n",
      "Sigmoid\n",
      "Hardsigmoid\n",
      "Tanh\n",
      "SiLU\n",
      "Mish\n",
      "Hardswish\n",
      "ELU\n",
      "CELU\n",
      "SELU\n",
      "GLU\n",
      "GELU\n",
      "Hardshrink\n",
      "LeakyReLU\n",
      "LogSigmoid\n",
      "Softplus\n",
      "Softshrink\n",
      "MultiheadAttention\n",
      "PReLU\n",
      "Softsign\n",
      "Tanhshrink\n",
      "Softmin\n",
      "Softmax\n",
      "Softmax2d\n",
      "LogSoftmax\n"
     ]
    }
   ],
   "source": [
    "for activation in torch.nn.modules.activation.__all__:\n",
    "    print(activation)"
   ]
  },
  {
   "cell_type": "code",
   "execution_count": 5,
   "metadata": {},
   "outputs": [
    {
     "data": {
      "text/plain": [
       "AtomMessagePassing(\n",
       "  (W_i): Linear(in_features=72, out_features=300, bias=False)\n",
       "  (W_h): Linear(in_features=314, out_features=300, bias=False)\n",
       "  (W_o): Linear(in_features=372, out_features=300, bias=True)\n",
       "  (dropout): Dropout(p=0.0, inplace=False)\n",
       "  (tau): Softplus(beta=1.0, threshold=20.0)\n",
       "  (V_d_transform): Identity()\n",
       "  (graph_transform): Identity()\n",
       ")"
      ]
     },
     "execution_count": 5,
     "metadata": {},
     "output_type": "execute_result"
    }
   ],
   "source": [
    "mp = AtomMessagePassing(activation=torch.nn.Softplus())\n",
    "\n",
    "mp"
   ]
  }
 ],
 "metadata": {
  "kernelspec": {
   "display_name": "chemprop",
   "language": "python",
   "name": "python3"
  },
  "language_info": {
   "codemirror_mode": {
    "name": "ipython",
    "version": 3
   },
   "file_extension": ".py",
   "mimetype": "text/x-python",
   "name": "python",
   "nbconvert_exporter": "python",
   "pygments_lexer": "ipython3",
   "version": "3.12.8"
  }
 },
 "nbformat": 4,
 "nbformat_minor": 2
}
