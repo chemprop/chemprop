{
 "cells": [
  {
   "cell_type": "markdown",
   "metadata": {},
   "source": [
    "# Modelling Polymers using Weighted Directed Graphs"
   ]
  },
  {
   "cell_type": "markdown",
   "metadata": {},
   "source": [
    "The data used in this tutorial is taken from [\"A graph representation of molecular ensembles for polymer property prediction\" (Chem. Sci. 2022,13, 10486-10498)](https://pubs.rsc.org/en/content/articlelanding/2022/SC/D2SC02839E). The original data file can be found [here](https://github.com/coleygroup/polymer-chemprop-data/blob/main/datasets/vipea/chemprop_inputs/dataset-poly_chemprop.csv)."
   ]
  },
  {
   "cell_type": "markdown",
   "metadata": {},
   "source": [
    "## Introduction"
   ]
  },
  {
   "cell_type": "markdown",
   "metadata": {},
   "source": [
    "From a chemical perspective the formation and use of polymers is relatively straightforward. However, their computational representation is challenging and often fails to capture all aspects of the polymer. One way to represent polymers involves using weighted directed graphs, which include stoichiometry, polymer types and the direction and weight of the bonds. This example notebook will go through the weighted directed graph representation of polymers and how they can be used to model polymers in Chemprop.\n",
    "\n",
    "Alternative polymer representations rely on repetitive monomer representations to depict a complete polymer chain, which is both inefficient and unrealistic. Basic graph datasets can represent a single repeating unit of one or more monomers To account for the repeating patterns of different monomers at various open bonds, weights and directions can be assigned to different connection sites. Therefore, by incorporating weights and directions into a basic graph, we can efficiently manage the repeating architecture of polymers. \n",
    "\n",
    "The basic unit of a polymer is the monomer. Large numbers of repeating monomers form a polymer chain. Polymers can sometimes be composed of various types of monomers in different proportions, also known as co-polymers. We will illustrate this by using an example co-polymer and create a representation using a weighted directed graph structure.\n",
    "\n",
    "Let's take two monomers given in SMILES notation `OB(O)c1cc(F)c(B(O)O)cc1F` and `Oc1cc(O)c(Br)c(O)c1Br`."
   ]
  },
  {
   "cell_type": "code",
   "execution_count": null,
   "metadata": {},
   "outputs": [],
   "source": [
    "from rdkit import Chem\n",
    "from rdkit.Chem import AllChem\n",
    "from rdkit.Chem import Draw"
   ]
  },
  {
   "cell_type": "code",
   "execution_count": null,
   "metadata": {},
   "outputs": [],
   "source": [
    "mA = \"OB(O)c1cc(F)c(B(O)O)cc1F\"\n",
    "mB = \"Oc1cc(O)c(Br)c(O)c1Br\"\n",
    "molA = Chem.MolFromSmiles(mA)\n",
    "molB = Chem.MolFromSmiles(mB)\n",
    "\n",
    "Draw.MolsToGridImage([molA, molB], legends=[\"Monomer A\", \"Monomer B\"])"
   ]
  },
  {
   "cell_type": "markdown",
   "metadata": {},
   "source": [
    "Both monomers exhibit functionalality attached to their benzene rings. Monomer A, contains two boronic acid groups. Monomer B, contains two bromine atoms. These two monomers can react together via. a Suzuki coupling reaction to form a polymeric species. By replacing these functionalities with open bonds we can connect the two monomers together to illustrate the resulting polymer. For the moment let's join two monomers at an open bond and represent the remaining open bonds with a virtual atom `[At]`.  "
   ]
  },
  {
   "cell_type": "code",
   "execution_count": null,
   "metadata": {},
   "outputs": [],
   "source": [
    "mAB = \"[At]c1cc(F)c(c2c(O)c([At])c(O)cc2(O))cc1(F)\"\n",
    "molAB = Chem.MolFromSmiles(mAB)\n",
    "\n",
    "Draw.MolsToGridImage([molA, molB, molAB], legends=[\"Monomer A\", \"Monomer B\", \"Combined Molecule\"])"
   ]
  },
  {
   "cell_type": "markdown",
   "metadata": {},
   "source": [
    "For practical implementations however, this conversion process must be developed as the virtual atom `[At]` does not fully represent the structural type of the polymer or the connection pattern with other monomers."
   ]
  },
  {
   "cell_type": "markdown",
   "metadata": {},
   "source": [
    "## Polymeric Represenation"
   ]
  },
  {
   "cell_type": "markdown",
   "metadata": {},
   "source": [
    "To convert the monomers into a single structure, we need to simulate the reaction process by eliminating the functional groups and marking the open bonds with indicies."
   ]
  },
  {
   "cell_type": "code",
   "execution_count": null,
   "metadata": {},
   "outputs": [],
   "source": [
    "def remove_duplicate_mols(mols):\n",
    "    smiles = list(set([Chem.MolToSmiles(m, canonical=True) for m in mols]))\n",
    "    return [Chem.MolFromSmiles(s) for s in smiles]"
   ]
  },
  {
   "cell_type": "code",
   "execution_count": null,
   "metadata": {},
   "outputs": [],
   "source": [
    "molA_s = molA\n",
    "for i in [1, 2]:\n",
    "    smarts = f\"[*:1]([B](-O)(-O))>>[*:1]-[*{i}]\" # SMARTS to emulate the reaction of the boronic acid to an open bond\n",
    "    reaction = AllChem.ReactionFromSmarts(smarts)\n",
    "    products = reaction.RunReactants((molA_s,))\n",
    "    products = remove_duplicate_mols([r[0] for r in products])\n",
    "    molA_s = products[0]\n",
    "    \n",
    "Draw.MolsToGridImage([molA, molA_s], legends=[\"Original Monomer A\", \"Converted Monomer A\"])"
   ]
  },
  {
   "cell_type": "markdown",
   "metadata": {},
   "source": [
    "The boronic acid groups have now been replaced with an open bond and a corresponding index number. We can now repeat the process for monomer B."
   ]
  },
  {
   "cell_type": "code",
   "execution_count": null,
   "metadata": {},
   "outputs": [],
   "source": [
    "molB_s = molB\n",
    "for i in [3, 4]:\n",
    "    smarts = f\"[*:1]Br>>[*:1]-[*{i}]\" # SMARTS to emulate the reaction of the bromine to an open bond\n",
    "    reaction = AllChem.ReactionFromSmarts(smarts)\n",
    "    products = reaction.RunReactants((molB_s,))\n",
    "    products = remove_duplicate_mols([r[0] for r in products])\n",
    "    molB_s = products[0]\n",
    "    \n",
    "Draw.MolsToGridImage([molB, molB_s], legends=[\"Original Monomer B\", \"Converted Monomer B\"])"
   ]
  },
  {
   "cell_type": "markdown",
   "metadata": {},
   "source": [
    "To represent both monomers while keeping a valid SMILES, we can join both SMILES strings with a `.`."
   ]
  },
  {
   "cell_type": "code",
   "execution_count": null,
   "metadata": {},
   "outputs": [],
   "source": [
    "molA_smiles = Chem.MolToSmiles(molA_s, canonical=True)\n",
    "molB_smiles = Chem.MolToSmiles(molB_s, canonical=True)\n",
    "combined_AB_smiles = f\"{molA_smiles}.{molB_smiles}\"\n",
    "combined_AB_mols = Chem.MolFromSmiles(combined_AB_smiles)\n",
    "print(f\"Combined AB SMILES: {combined_AB_smiles}\")\n",
    "Draw.MolsToGridImage([combined_AB_mols], legends=[\"Combined AB Mols\"])"
   ]
  },
  {
   "cell_type": "markdown",
   "metadata": {},
   "source": [
    "### Weight and Direction Assignments"
   ]
  },
  {
   "cell_type": "markdown",
   "metadata": {},
   "source": [
    "In the previous step, we created a monomer wireframe capable of referencing different indexed open bonds to form various types of polymer chains. However, the goal is to condense the complete polymer chain architecture into a smaller yet robust representation using weights and directions. Weights can be assigned at two levels: to the individual monomer atoms and to each bond. While the direction is generally consistent across different monomers, there in an edge case where a bond refers to itself (also known as a self-loop or self-edge in graphs), where an open bond connects with the same open bond of another monomer with an identical structure. For example a bond between atom 1* of Monomer A and atom 2* of another Monomer A in the image above."
   ]
  },
  {
   "cell_type": "markdown",
   "metadata": {},
   "source": [
    "#### Weight assignments to monomer elements"
   ]
  },
  {
   "cell_type": "markdown",
   "metadata": {},
   "source": [
    "Polymers can be composed of monomers contributing in varying proportions. The proportion that each monomer contributes is fairly straightforward. For example, if monomer A and monomer B contribute to the polymer in a 3:1 ratio, the weights assigned to monomer A and monomer B are 0.75 and 0.25 respectively. In this way, the contribution of each monomer fragment to the total polymer is represented by the weights of the nodes in the graph.\n",
    "\n",
    "The stoichiometry of the polymer can impose limitations on the weights assigned to the monomers. For example, alternating polymers with the structure `ABABABAB...` must have an almost equal fraction of monomer A and monomer B. Whereas, in block and random co-polymers, the fractions can vary and have different float values.\n",
    "\n",
    "For representational purposes we denote the weights of the monomers with a separator \"|\". For example for alternating polymers the monomer weights would be represented as `|0.5|0.5|`."
   ]
  },
  {
   "cell_type": "markdown",
   "metadata": {},
   "source": [
    "#### Weight assignments to bonds"
   ]
  },
  {
   "cell_type": "markdown",
   "metadata": {},
   "source": [
    "Since we cannot replicate the complete repitition of the monomer, we must convert the stoichiometric constraints into edge weights in the node representation.\n",
    "\n",
    "When determining a weight for the represenationation, we must divide the total contribution by the effective contribution. The total contribution value can be confusing since not all monomers are included in the chain. Therefore, we will use the same fragment ratio used for assigning weights to the monomer elements. For example, if the monomers are in a 3:1 ratio, we will consider monomer arrangments in multiples of 4. For block co-polymers, we would use \"AAAABBBB\"."
   ]
  },
  {
   "cell_type": "markdown",
   "metadata": {},
   "source": [
    "##### 1. Weights for alternating polymers"
   ]
  },
  {
   "cell_type": "markdown",
   "metadata": {},
   "source": [
    "For alternating polymers, the structure will resemble \"ABABABAB\". Therefore, monomers A and B will never connect to themselves, so the case of self-edges does not apply here. Considering the probability occurence, the bonds between A-B and B-A will each be assigned a weight of `0.5`."
   ]
  },
  {
   "cell_type": "code",
   "execution_count": null,
   "metadata": {},
   "outputs": [],
   "source": [
    "print(f\"Combined AB SMILES: {combined_AB_smiles}\")\n",
    "Draw.MolsToGridImage([combined_AB_mols], legends=[\"Combined AB Mols\"])"
   ]
  },
  {
   "cell_type": "markdown",
   "metadata": {},
   "source": [
    "We represent the combination of atom indexes and bond weights for both the forward and reverse bond formation as a single polymer rule, separated by `:`. For example, if the weights of the bond formation from A to B is 0.25 and B to A is 0.75, it is represented as `1-2:0.25:0.75`. Multiple polymer rules are indicated starting with a `<` and separating each rule similarly. For instance, `<1-2:0.5:0.5<3-4:0.25:0.75` signifies connection between index 1 open bond and index 2 open bond with a weight of 0.5, and between index 3 open bond and index 4 open bond with weights 0.25 and 0.75 for the forward and reverse bond formation respectively. \n",
    "\n",
    "In our example case, there are 4 indexes open bonds, and self-edges are not present (i.e. 1-2 or 3-4 bonds cannot be formed). Therefore, the only possible bonds formed are 1-3, 1-4, 2-3 and 2-4. Each bond will have a weight of 0.5.\n",
    "\n",
    "The polymer represenation of this is: `<1-3:0.5:0.5<1-4:0.5:0.5<2-3:0.5:0.5<2-4:0.5:0.5`"
   ]
  },
  {
   "cell_type": "code",
   "execution_count": null,
   "metadata": {},
   "outputs": [],
   "source": [
    "# For an alternating co-polymer\n",
    "alt_edge_content = [(1, 3, 0.5, 0.5),\n",
    "                    (1, 4, 0.5, 0.5),\n",
    "                    (2, 3, 0.5, 0.5),\n",
    "                    (2, 4, 0.5, 0.5)]\n",
    "alt_edge_string = \"\".join([f\"<{e[0]}-{e[1]}:{e[2]}:{e[3]}\" for e in alt_edge_content])\n",
    "print(f\"Polymer Rule String for alternate co-polymer: {alt_edge_string}\")"
   ]
  },
  {
   "cell_type": "markdown",
   "metadata": {},
   "source": [
    "##### 2. Weights for block co-polymers"
   ]
  },
  {
   "cell_type": "markdown",
   "metadata": {},
   "source": [
    "Block copolymers are characterized by the structure 'AAAABBBB'. Where, monomer A occupies one region and monomer B occupies another.\n",
    "\n",
    "To model the weight distribution of an 'AAAABBBB' block copolymer, we represent it using eight monomer units. A total of eight bonds can be formed within this sequence. Six of these bonds are homogeneous (A-A or B-B), resulting in a bond probability and weight of 6/8. Conversely, only one heterogeneous bond (A-B) is possible, yielding a probability and weight of 1/8. The bond weight distribution based on atom indices is as follows:\n",
    "\n",
    "- 1-2: 6/8\n",
    "- 3-4: 6/8\n",
    "- 1-3: 1/8\n",
    "- 1-4: 1/8\n",
    "- 2-3: 1/8\n",
    "- 2-4: 1/8\n",
    "\n",
    "This information can be converted into a polymer rule:"
   ]
  },
  {
   "cell_type": "code",
   "execution_count": null,
   "metadata": {},
   "outputs": [],
   "source": [
    "# For a block co-polymer with no self edges\n",
    "block_edge_content_wo_self_edges = [(1, 2, 6/8, 6/8),  # within A\n",
    "                                    (3, 4, 6/8, 6/8),  # within B\n",
    "                                    (1, 3, 1/8, 1/8),  # between A and B\n",
    "                                    (1, 4, 1/8, 1/8),\n",
    "                                    (2, 3, 1/8, 1/8),\n",
    "                                    (2, 4, 1/8, 1/8)]\n",
    "block_no_self_edges_string = \"\".join([f\"<{e[0]}-{e[1]}:{e[2]}:{e[3]}\" for e in block_edge_content_wo_self_edges])\n",
    "print(f\"Polymer Rule String for Block without Self Edges: {block_no_self_edges_string}\")"
   ]
  },
  {
   "cell_type": "markdown",
   "metadata": {},
   "source": [
    "If we consider self-edges (i.e. the same monomer structure connects to itself at same open bond) the probabilty weight between homogeneous bonds will be altered. For example, the connection for A-A at index 1 can be at two open bonds i.e. 1-2 or 1-1 (self-edge) hence the previous probability will be halved resulting in 3/8. Rest of the heterogenous bond weights will remain the same. So resulting weights will be as follows.\n",
    "\n",
    "- 1-2: 3/8\n",
    "- 1-1: 3/8\n",
    "- 2-2: 3/8\n",
    "- 3-4: 3/8\n",
    "- 3-3: 3/8\n",
    "- 4-4: 3/8\n",
    "- 1-3: 1/8\n",
    "- 1-4: 1/8\n",
    "- 2-3: 1/8\n",
    "- 2-4: 1/8\n",
    "\n",
    "This information can be converted into a polymer rule:"
   ]
  },
  {
   "cell_type": "code",
   "execution_count": null,
   "metadata": {},
   "outputs": [],
   "source": [
    "# For a block co-polymer with self edges\n",
    "block_edge_content = [(1, 2, 3/8, 3/8),  # within A\n",
    "                      (1, 1, 3/8, 3/8),\n",
    "                      (2, 2, 3/8, 3/8),\n",
    "                      (3, 4, 3/8, 3/8),  # within B\n",
    "                      (3, 3, 3/8, 3/8),\n",
    "                      (4, 4, 1/8, 1/8),\n",
    "                      (1, 3, 1/8, 1/8),  # between A and B\n",
    "                      (1, 4, 1/8, 1/8),\n",
    "                      (2, 3, 1/8, 1/8),\n",
    "                      (2, 4, 1/8, 1/8)]\n",
    "block_edges_string = \"\".join([f\"<{e[0]}-{e[1]}:{e[2]}:{e[3]}\" for e in block_edge_content])\n",
    "print(f\"Polymer Rule String for Block with Self Edges: {block_edges_string}\")"
   ]
  },
  {
   "cell_type": "markdown",
   "metadata": {},
   "source": [
    "##### 3. Weights for Random Polymers"
   ]
  },
  {
   "cell_type": "markdown",
   "metadata": {},
   "source": [
    "The weight calculation for a random polymer chain is straightforward. Without self-edges, any indexed bond can connect to another open bond of the same monomer (e.g., 1-2 or 2-1) with a probability of 1/2. Similarly, any indexed bond connecting with an indexed open bond of another monomer type (e.g., 1-3, 1-4, 2-3, 2-4) has a probability of 1/3. When considering self-edges, every indexed bond can connect with every other indexed bond (i.e., at 4 possible bonding sites), resulting in a probability weight of 1/4. Thus, with or without self-edges, we can determine the following weight distribution."
   ]
  },
  {
   "cell_type": "markdown",
   "metadata": {},
   "source": [
    "With self-edge:\n",
    "- 1-1 -> 0.25\n",
    "- 1-2 -> 0.25\n",
    "... (same for all bond connection)\n",
    "\n",
    "Without self-edge:\n",
    "- 1-2 -> 0.5\n",
    "- 3-4 -> 0.5\n",
    "- 1-3 -> 0.33\n",
    "- 1-4 -> 0.33\n",
    "- 2-3 -> 0.33\n",
    "- 2-4 -> 0.33"
   ]
  },
  {
   "cell_type": "code",
   "execution_count": null,
   "metadata": {},
   "outputs": [],
   "source": [
    "# For a random co-polymer with self edges\n",
    "possible_bond_site_indexes = [1, 2, 3, 4]\n",
    "random_edge_content = []\n",
    "for i in possible_bond_site_indexes:\n",
    "        for j in possible_bond_site_indexes:\n",
    "                random_edge_content.append([i, j, 0.25, 0.25])\n",
    "random_edges_string = \"\".join([f\"<{e[0]}-{e[1]}:{e[2]}:{e[3]}\" for e in random_edge_content])\n",
    "print(f\"Polymer Rule String for Block with Self Edges: {random_edges_string}\")"
   ]
  },
  {
   "cell_type": "code",
   "execution_count": null,
   "metadata": {},
   "outputs": [],
   "source": [
    "# For a random co-polymer without self edges\n",
    "random_edge_content_wo_self_edge = [(1, 2, 1/2, 1/2),  # within A\n",
    "                                    (3, 4, 1/2, 1/2),  # within B\n",
    "                                    (1, 3, 1/3, 1/3),  # between A and B\n",
    "                                    (1, 4, 1/3, 1/3),\n",
    "                                    (2, 3, 1/3, 1/3),\n",
    "                                    (2, 4, 1/3, 1/3)]\n",
    "random_edges_wo_self_edge_string = \"\".join([f\"<{e[0]}-{e[1]}:{e[2]:.2f}:{e[3]:.2f}\" for e in random_edge_content_wo_self_edge])\n",
    "print(f\"Polymer Rule String for Random without Self Edges: {random_edges_wo_self_edge_string}\")"
   ]
  },
  {
   "cell_type": "markdown",
   "metadata": {},
   "source": [
    "In this manner, we can add weights of the monomer fragments and bonds to the graph data."
   ]
  },
  {
   "cell_type": "markdown",
   "metadata": {},
   "source": [
    "### Final Polymer Representation"
   ]
  },
  {
   "cell_type": "markdown",
   "metadata": {},
   "source": [
    "In the previous steps, we created a wireframe for monomers with indexed open bonds and calculated the weights for bonds and elements based on stoichiometry and the monomer fragment distribution. Now, we need to combine these into a single string format to construct a weighted directed graph. We have the information in three parts:\n",
    " \n",
    "1. The indexed monomer wireframe\n",
    "2. Assigned weights to elements\n",
    "3. Polymer rules containing polymer weights mapped with direction\n",
    "\n",
    "We concatenate these three parts into a single string. In our case, we have a monomer indexed representation of two monomers given as `[1*]c1cc(F)c([2*])cc1F.[3*]c1c(O)cc(O)c([4*])c1O`. For the second part, the fractions of the two monomers were asssigned to be 0.5 for each, `|0.5|0.5|`.\n",
    "\n",
    "Finally, in the polymer rules section, there could be three variations of the same monomer corresponding to different stoichiometries. For each monomer example considered, there can be at least three types (i.e., Alternating, Block, and Random). Each type will have a different polymer rules string concatenated, resulting in different string representations from the same monomer string.\n",
    "\n",
    "*Note - There could be different cases, if there are self-edges possible in the monomer stoichiomentry.*"
   ]
  },
  {
   "cell_type": "code",
   "execution_count": null,
   "metadata": {},
   "outputs": [],
   "source": [
    "# For our example \n",
    "monomer_fragment_string = \"|0.5|0.5|\"\n",
    "poly_wireframe_w_weights = combined_AB_smiles + monomer_fragment_string\n",
    "print(f\"Repeatable weighted base representation: {poly_wireframe_w_weights}\")"
   ]
  },
  {
   "cell_type": "markdown",
   "metadata": {},
   "source": [
    "Once we have the base string representation, we will append the polymer rule strings to the end of the base string. Since the polymer rules for this polymer have already been determined in previous code blocks, we will use those strings to construct the final string."
   ]
  },
  {
   "cell_type": "markdown",
   "metadata": {},
   "source": [
    "#### i. Without self-edges"
   ]
  },
  {
   "cell_type": "code",
   "execution_count": null,
   "metadata": {},
   "outputs": [],
   "source": [
    "polymer_alternate = poly_wireframe_w_weights + alt_edge_string\n",
    "polymer_block = poly_wireframe_w_weights + block_no_self_edges_string\n",
    "polymer_random = poly_wireframe_w_weights + random_edges_wo_self_edge_string\n",
    "print(f\"The string representation of alternating polymer: {polymer_alternate}\")\n",
    "print(f\"The string representation of block polymer: {polymer_block}\")\n",
    "print(f\"The string representation of random polymer: {polymer_random}\")"
   ]
  },
  {
   "cell_type": "markdown",
   "metadata": {},
   "source": [
    "#### ii. With self-edges"
   ]
  },
  {
   "cell_type": "markdown",
   "metadata": {},
   "source": [
    "In case of self-edges, an alternating polymer is not possible. We can include the remaining cases of random and block polymer to form a string representation as follows."
   ]
  },
  {
   "cell_type": "code",
   "execution_count": null,
   "metadata": {},
   "outputs": [],
   "source": [
    "polymer_block_w_self_edge = poly_wireframe_w_weights + block_edges_string\n",
    "polymer_random_w_self_edge = poly_wireframe_w_weights + random_edges_string \n",
    "print(f\"The string representation of block polymer with self-edge: {polymer_block_w_self_edge}\")\n",
    "print(f\"The string representation of random polymer wth self-edge: {polymer_random_w_self_edge}\")"
   ]
  },
  {
   "cell_type": "markdown",
   "metadata": {},
   "source": [
    "These data string representations are not widely adopted, as the use of weighted directed graphs in these fields is relatively recent and specifically compatible with Weighted Directed Message Passing Neural Networks (wD-MPNN). However, this string representation effectively stores all the necessary data to form a valid weighted directed graph structure from polymer data."
   ]
  },
  {
   "cell_type": "markdown",
   "metadata": {},
   "source": [
    "## Using Weighted Polymer Representations with Chemprop"
   ]
  },
  {
   "cell_type": "markdown",
   "metadata": {},
   "source": [
    "Now that we have a representation of our polymer including the monomer and bond weightings we can use them to train a Chemprop model to predict the electron affinity of a set of polymers."
   ]
  },
  {
   "cell_type": "code",
   "execution_count": null,
   "metadata": {},
   "outputs": [],
   "source": [
    "import pandas as pd\n",
    "from pathlib import Path\n",
    "\n",
    "from lightning import pytorch as pl\n",
    "from lightning.pytorch.callbacks import ModelCheckpoint, EarlyStopping\n",
    "\n",
    "from chemprop import data, featurizers, models, nn"
   ]
  },
  {
   "cell_type": "markdown",
   "metadata": {},
   "source": [
    "### Load in the dataset"
   ]
  },
  {
   "cell_type": "markdown",
   "metadata": {},
   "source": [
    "We will use a reduced version of the dataset with only 100 datapoints to reduce training time. The full dataset can be found at the top of the notebook and will yield much better metrics."
   ]
  },
  {
   "cell_type": "code",
   "execution_count": null,
   "metadata": {},
   "outputs": [],
   "source": [
    "chemprop_dir = Path.cwd().parent\n",
    "input_path = f\"{chemprop_dir}/tests/data/regression/polymer/dataset-poly_chemprop_small.csv\""
   ]
  },
  {
   "cell_type": "code",
   "execution_count": null,
   "metadata": {},
   "outputs": [],
   "source": [
    "num_workers = 0\n",
    "smiles_column = \"poly_chemprop_input\"\n",
    "target_columns = [\"EA vs SHE (eV)\"]"
   ]
  },
  {
   "cell_type": "code",
   "execution_count": null,
   "metadata": {},
   "outputs": [],
   "source": [
    "df_input = pd.read_csv(input_path)\n",
    "df_input"
   ]
  },
  {
   "cell_type": "markdown",
   "metadata": {},
   "source": [
    "### Get Polymer representations and targets"
   ]
  },
  {
   "cell_type": "code",
   "execution_count": null,
   "metadata": {},
   "outputs": [],
   "source": [
    "smis = df_input.loc[:, smiles_column].values\n",
    "ys = df_input.loc[:, target_columns].values"
   ]
  },
  {
   "cell_type": "code",
   "execution_count": null,
   "metadata": {},
   "outputs": [],
   "source": [
    "smis[:5] # Show the first 5 polymer string representations"
   ]
  },
  {
   "cell_type": "code",
   "execution_count": null,
   "metadata": {},
   "outputs": [],
   "source": [
    "ys[:5] # Show the first 5 targets"
   ]
  },
  {
   "cell_type": "markdown",
   "metadata": {},
   "source": [
    "### Get polymer datapoints"
   ]
  },
  {
   "cell_type": "code",
   "execution_count": null,
   "metadata": {},
   "outputs": [],
   "source": [
    "all_data = [data.PolymerDatapoint.from_smi(smi, y) for smi, y in zip(smis, ys)]"
   ]
  },
  {
   "cell_type": "code",
   "execution_count": null,
   "metadata": {},
   "outputs": [],
   "source": [
    "all_data"
   ]
  },
  {
   "cell_type": "markdown",
   "metadata": {},
   "source": [
    "### Perform data splitting for training, validation and testing"
   ]
  },
  {
   "cell_type": "code",
   "execution_count": null,
   "metadata": {},
   "outputs": [],
   "source": [
    "# Available split types\n",
    "list(data.SplitType.keys())"
   ]
  },
  {
   "cell_type": "markdown",
   "metadata": {},
   "source": [
    "Split the data into a training, validation and test set."
   ]
  },
  {
   "cell_type": "code",
   "execution_count": null,
   "metadata": {},
   "outputs": [],
   "source": [
    "mols = [d.mol for d in all_data]\n",
    "train_indicies, val_indicies, test_indicies = data.make_split_indices(mols, \"random\", (0.8, 0.1, 0.1))\n",
    "train_data, val_data, test_data = data.split_data_by_indices(\n",
    "    all_data,\n",
    "    train_indicies, val_indicies, test_indicies\n",
    ")"
   ]
  },
  {
   "cell_type": "markdown",
   "metadata": {},
   "source": [
    "### Get PolymerDataset"
   ]
  },
  {
   "cell_type": "markdown",
   "metadata": {},
   "source": [
    "Create a dataset for the training, validation and test data using the `PolymerMolGraphFeaturizer()` and normalize the targets."
   ]
  },
  {
   "cell_type": "code",
   "execution_count": null,
   "metadata": {},
   "outputs": [],
   "source": [
    "featurizer = featurizers.PolymerMolGraphFeaturizer()\n",
    "\n",
    "train_dataset = data.PolymerDataset(train_data[0], featurizer)\n",
    "scaler = train_dataset.normalize_targets()\n",
    "\n",
    "val_dataset = data.PolymerDataset(val_data[0], featurizer)\n",
    "val_dataset.normalize_targets(scaler)\n",
    "\n",
    "test_dataset = data.PolymerDataset(test_data[0], featurizer)"
   ]
  },
  {
   "cell_type": "markdown",
   "metadata": {},
   "source": [
    "### Get DataLoader"
   ]
  },
  {
   "cell_type": "markdown",
   "metadata": {},
   "source": [
    "Build dataloaders for the training, validation and test sets."
   ]
  },
  {
   "cell_type": "code",
   "execution_count": null,
   "metadata": {},
   "outputs": [],
   "source": [
    "train_loader = data.build_dataloader(train_dataset, num_workers=num_workers)\n",
    "val_loader = data.build_dataloader(val_dataset, num_workers=num_workers, shuffle=False)\n",
    "test_loader = data.build_dataloader(test_dataset, num_workers=num_workers, shuffle=False)"
   ]
  },
  {
   "cell_type": "markdown",
   "metadata": {},
   "source": [
    "## Change the Weighted Directed Message-Passing Neural Network (wD-MPNN) inputs here"
   ]
  },
  {
   "cell_type": "markdown",
   "metadata": {},
   "source": [
    "To use weighting in the `nn.MPNN`, the `nn.wMPNN` method should be used inplace of the base `nn.MPNN`."
   ]
  },
  {
   "cell_type": "markdown",
   "metadata": {},
   "source": [
    "#### Message Passing"
   ]
  },
  {
   "cell_type": "markdown",
   "metadata": {},
   "source": [
    "A `Message Passing` constructs molecule graphs using message passing to learn node-level representations. To ensure weighting is used for the bond message passing step we need to use `nn.WeightedBondMessagePassing`.\n",
    "\n",
    "Options are `mp = nn.WeightedBondMessagePassing()` or `mp = nn.AtomMessagePassing()`."
   ]
  },
  {
   "cell_type": "code",
   "execution_count": null,
   "metadata": {},
   "outputs": [],
   "source": [
    "mp = nn.WeightedBondMessagePassing()"
   ]
  },
  {
   "cell_type": "markdown",
   "metadata": {},
   "source": [
    "#### Aggregation"
   ]
  },
  {
   "cell_type": "markdown",
   "metadata": {},
   "source": [
    "An `Aggregation` is responsible for constructing a graph-level representation from the set of node-level representations after message passing.\n",
    "\n",
    "Available options can be found in `nn.agg.AggregationRegistry`, including:\n",
    "- `agg = nn.MeanAggregation()`\n",
    "- `agg = nn.SumAggregation()`\n",
    "- `agg = nn.NormAggregation()`"
   ]
  },
  {
   "cell_type": "code",
   "execution_count": null,
   "metadata": {},
   "outputs": [],
   "source": [
    "print(nn.agg.AggregationRegistry)"
   ]
  },
  {
   "cell_type": "code",
   "execution_count": null,
   "metadata": {},
   "outputs": [],
   "source": [
    "agg = nn.MeanAggregation()"
   ]
  },
  {
   "cell_type": "markdown",
   "metadata": {},
   "source": [
    "### Feed-Forward Network (FNN)"
   ]
  },
  {
   "cell_type": "markdown",
   "metadata": {},
   "source": [
    "A `FFN` takes the aggregated representation and makes target predictions.\n",
    "\n",
    "Available options can be found in `nn.PredictorRegistry`."
   ]
  },
  {
   "cell_type": "code",
   "execution_count": null,
   "metadata": {},
   "outputs": [],
   "source": [
    "print(nn.PredictorRegistry)"
   ]
  },
  {
   "cell_type": "markdown",
   "metadata": {},
   "source": [
    "Create function to unscale the targets"
   ]
  },
  {
   "cell_type": "code",
   "execution_count": null,
   "metadata": {},
   "outputs": [],
   "source": [
    "output_transform = nn.UnscaleTransform.from_standard_scaler(scaler)"
   ]
  },
  {
   "cell_type": "markdown",
   "metadata": {},
   "source": [
    "As we are performing a regression task, we will choose the `nn.RegressionFFN` FFN."
   ]
  },
  {
   "cell_type": "code",
   "execution_count": null,
   "metadata": {},
   "outputs": [],
   "source": [
    "ffn = nn.RegressionFFN(output_transform=output_transform)"
   ]
  },
  {
   "cell_type": "markdown",
   "metadata": {},
   "source": [
    "### Batch Norm"
   ]
  },
  {
   "cell_type": "markdown",
   "metadata": {},
   "source": [
    "A `BatchNorm` normalizes the outputs of the aggreation by re-centering and re-scaling."
   ]
  },
  {
   "cell_type": "code",
   "execution_count": null,
   "metadata": {},
   "outputs": [],
   "source": [
    "# Whether to use batch normalisation\n",
    "batch_norm = True"
   ]
  },
  {
   "cell_type": "markdown",
   "metadata": {},
   "source": [
    "### Metrics"
   ]
  },
  {
   "cell_type": "markdown",
   "metadata": {},
   "source": [
    "`Metrics` are the ways to evaluate the performance of the model predictions.\n",
    "\n",
    "Available options can be found in `metrics.MetricRegistry`."
   ]
  },
  {
   "cell_type": "code",
   "execution_count": null,
   "metadata": {},
   "outputs": [],
   "source": [
    "print(nn.metrics.MetricRegistry)"
   ]
  },
  {
   "cell_type": "markdown",
   "metadata": {},
   "source": [
    "As we are performing a regression task we will select RMSE and MAE"
   ]
  },
  {
   "cell_type": "code",
   "execution_count": null,
   "metadata": {},
   "outputs": [],
   "source": [
    "metric_list = [nn.metrics.RMSE(), nn.metrics.MAE()] # Only the first metric is used for training and early stopping"
   ]
  },
  {
   "cell_type": "markdown",
   "metadata": {},
   "source": [
    "### Construct the wD-MPNN"
   ]
  },
  {
   "cell_type": "code",
   "execution_count": null,
   "metadata": {},
   "outputs": [],
   "source": [
    "wdmpnn = models.wMPNN(mp, agg, ffn, batch_norm, metric_list)\n",
    "wdmpnn"
   ]
  },
  {
   "cell_type": "markdown",
   "metadata": {},
   "source": [
    "## Set up the trainer"
   ]
  },
  {
   "cell_type": "code",
   "execution_count": null,
   "metadata": {},
   "outputs": [],
   "source": [
    "# Configure model checkpointing\n",
    "checkpointing = ModelCheckpoint(\n",
    "    \"checkpoints\", # Directory where model checkpoints will be saved\n",
    "    \"best-{epoch}-{val_loss:.2f}\", # Filename format for the checkpoints\n",
    "    \"val_loss\", # Metric used to select the best checkpoint (based on validation loss)\n",
    "    mode=\"min\", # Save the checkpoint with the lowest validation loss (minimization objective)\n",
    "    save_last=True, # Always save the most recent checkpoint, even if its not the best\n",
    ")\n",
    "\n",
    "# Configure model early stopping\n",
    "early_stopping = EarlyStopping(\n",
    "    monitor='val_loss', # Metric used to monitor early stopping\n",
    "    mode='min',\n",
    "    patience=15, # Number of epochs to wait for a lower metric value before early stopping\n",
    ")\n",
    "\n",
    "trainer = pl.Trainer(\n",
    "    logger=False,\n",
    "    enable_checkpointing=True,\n",
    "    enable_progress_bar=True,\n",
    "    accelerator=\"auto\",\n",
    "    devices=\"auto\",\n",
    "    max_epochs=20, # Number of epochs to train for\n",
    "    callbacks=[checkpointing, early_stopping],\n",
    ")"
   ]
  },
  {
   "cell_type": "markdown",
   "metadata": {},
   "source": [
    "## Start training"
   ]
  },
  {
   "cell_type": "code",
   "execution_count": null,
   "metadata": {},
   "outputs": [],
   "source": [
    "trainer.fit(wdmpnn, train_loader, val_loader)"
   ]
  },
  {
   "cell_type": "markdown",
   "metadata": {},
   "source": [
    "## Test Results"
   ]
  },
  {
   "cell_type": "code",
   "execution_count": null,
   "metadata": {},
   "outputs": [],
   "source": [
    "results = trainer.test(dataloaders=test_loader, ckpt_path=\"best\")"
   ]
  }
 ],
 "metadata": {
  "kernelspec": {
   "display_name": ".venv",
   "language": "python",
   "name": "python3"
  },
  "language_info": {
   "codemirror_mode": {
    "name": "ipython",
    "version": 3
   },
   "file_extension": ".py",
   "mimetype": "text/x-python",
   "name": "python",
   "nbconvert_exporter": "python",
   "pygments_lexer": "ipython3",
   "version": "3.11.11"
  }
 },
 "nbformat": 4,
 "nbformat_minor": 2
}
