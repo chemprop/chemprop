{
 "cells": [
  {
   "cell_type": "markdown",
   "id": "b7799f0f",
   "metadata": {},
   "source": [
    "[![Open In Colab](https://colab.research.google.com/assets/colab-badge.svg)](https://colab.research.google.com/github/chemprop/chemprop/blob/main/examples/mol_atom_bond/bounded.ipynb)"
   ]
  },
  {
   "cell_type": "code",
   "execution_count": 1,
   "id": "20942441",
   "metadata": {},
   "outputs": [],
   "source": [
    "# Install chemprop from GitHub if running in Google Colab\n",
    "import os\n",
    "\n",
    "if os.getenv(\"COLAB_RELEASE_TAG\"):\n",
    "    try:\n",
    "        import chemprop\n",
    "    except ImportError:\n",
    "        !git clone https://github.com/chemprop/chemprop.git\n",
    "        %cd chemprop\n",
    "        !pip install .\n",
    "        %cd examples/mol_atom_bond"
   ]
  },
  {
   "cell_type": "code",
   "execution_count": 2,
   "id": "e2d5f7ed",
   "metadata": {},
   "outputs": [],
   "source": [
    "import ast\n",
    "from pathlib import Path\n",
    "\n",
    "from lightning import pytorch as pl\n",
    "from lightning.pytorch.callbacks import ModelCheckpoint\n",
    "import numpy as np\n",
    "import pandas as pd\n",
    "import torch\n",
    "\n",
    "from chemprop import data, featurizers, models, nn\n",
    "\n",
    "columns = [\"smiles\", \"mol_y1\", \"mol_y2\", \"atom_y1\", \"atom_y2\", \"bond_y1\", \"bond_y2\", \"weight\"]\n",
    "chemprop_dir = Path.cwd().parent.parent\n",
    "data_dir = chemprop_dir / \"tests\" / \"data\" / \"mol_atom_bond\""
   ]
  },
  {
   "cell_type": "code",
   "execution_count": 3,
   "id": "6e6d0290",
   "metadata": {},
   "outputs": [],
   "source": [
    "df_input = pd.read_csv(data_dir / \"bounded.csv\")\n",
    "smis = df_input.loc[:, columns[0]].values\n",
    "mol_ys = df_input.loc[:, columns[1:3]]\n",
    "atoms_ys = df_input.loc[:, columns[3:5]]\n",
    "bonds_ys = df_input.loc[:, columns[5:7]]\n",
    "weights = df_input.loc[:, columns[7]].values\n",
    "\n",
    "mol_ys = mol_ys.astype(str)\n",
    "lt_mask = mol_ys.map(lambda x: \"<\" in x).to_numpy()\n",
    "gt_mask = mol_ys.map(lambda x: \">\" in x).to_numpy()\n",
    "mol_ys = mol_ys.map(lambda x: x.strip(\"<\").strip(\">\")).to_numpy(np.single)\n",
    "\n",
    "atoms_ys = atoms_ys.map(ast.literal_eval)\n",
    "atom_lt_masks = atoms_ys.map(lambda L: [\"<\" in v if v else False for v in L])\n",
    "atom_gt_masks = atoms_ys.map(lambda L: [\">\" in v if v else False for v in L])\n",
    "\n",
    "atom_lt_masks = atom_lt_masks.apply(lambda row: np.vstack(row.values).T, axis=1).tolist()\n",
    "atom_gt_masks = atom_gt_masks.apply(lambda row: np.vstack(row.values).T, axis=1).tolist()\n",
    "atoms_ys = atoms_ys.map(\n",
    "    lambda L: np.array([v.strip(\"<\").strip(\">\") if v else \"nan\" for v in L], dtype=np.single)\n",
    ")\n",
    "atoms_ys = atoms_ys.apply(lambda row: np.vstack(row.values).T, axis=1).tolist()\n",
    "\n",
    "bonds_ys = bonds_ys.map(ast.literal_eval)\n",
    "bond_lt_masks = bonds_ys.map(lambda L: [\"<\" in v if v else False for v in L])\n",
    "bond_gt_masks = bonds_ys.map(lambda L: [\">\" in v if v else False for v in L])\n",
    "\n",
    "bond_lt_masks = bond_lt_masks.apply(lambda row: np.vstack(row.values).T, axis=1).tolist()\n",
    "bond_gt_masks = bond_gt_masks.apply(lambda row: np.vstack(row.values).T, axis=1).tolist()\n",
    "\n",
    "bond_lt_masks = [bond_lt_mask.astype(bool) for bond_lt_mask in bond_lt_masks]\n",
    "bond_gt_masks = [bond_gt_mask.astype(bool) for bond_gt_mask in bond_gt_masks]\n",
    "\n",
    "bonds_ys = bonds_ys.map(\n",
    "    lambda L: np.array([v.strip(\"<\").strip(\">\") if v else \"nan\" for v in L], dtype=np.single)\n",
    ")\n",
    "bonds_ys = bonds_ys.apply(lambda row: np.vstack(row.values).T, axis=1).tolist()\n",
    "\n",
    "datapoints = [\n",
    "    data.MolAtomBondDatapoint.from_smi(\n",
    "        smi,\n",
    "        keep_h=True,\n",
    "        add_h=False,\n",
    "        reorder_atoms=True,\n",
    "        y=mol_ys[i],\n",
    "        atom_y=atoms_ys[i],\n",
    "        bond_y=bonds_ys[i],\n",
    "        weight=weights[i],\n",
    "        lt_mask=lt_mask[i],\n",
    "        gt_mask=gt_mask[i],\n",
    "        atom_lt_mask=atom_lt_masks[i],\n",
    "        atom_gt_mask=atom_gt_masks[i],\n",
    "        bond_lt_mask=bond_lt_masks[i],\n",
    "        bond_gt_mask=bond_gt_masks[i],\n",
    "    )\n",
    "    for i, smi in enumerate(smis)\n",
    "]\n",
    "featurizer = featurizers.SimpleMoleculeMolGraphFeaturizer()\n",
    "\n",
    "train_dataset = data.MolAtomBondDataset(datapoints, featurizer=featurizer)\n",
    "val_dataset = data.MolAtomBondDataset(datapoints, featurizer=featurizer)\n",
    "test_dataset = data.MolAtomBondDataset(datapoints, featurizer=featurizer)\n",
    "predict_dataset = data.MolAtomBondDataset(datapoints, featurizer=featurizer)\n",
    "\n",
    "train_dataloader = data.build_dataloader(train_dataset, shuffle=True)\n",
    "val_dataloader = data.build_dataloader(val_dataset, shuffle=False)\n",
    "test_dataloader = data.build_dataloader(test_dataset, shuffle=False)\n",
    "predict_dataloader = data.build_dataloader(predict_dataset, shuffle=False)"
   ]
  },
  {
   "cell_type": "code",
   "execution_count": 4,
   "id": "cede1449",
   "metadata": {},
   "outputs": [],
   "source": [
    "mp = nn.MABAtomMessagePassing()"
   ]
  },
  {
   "cell_type": "code",
   "execution_count": 5,
   "id": "256c1cc8",
   "metadata": {},
   "outputs": [],
   "source": [
    "metrics = [nn.MAE(), nn.RMSE()]"
   ]
  },
  {
   "cell_type": "code",
   "execution_count": 6,
   "id": "5da5beb6",
   "metadata": {},
   "outputs": [],
   "source": [
    "agg = nn.SumAggregation()\n",
    "mol_predictor = nn.RegressionFFN(n_tasks=mol_ys.shape[1], criterion=nn.BoundedMSE())\n",
    "atom_predictor = nn.RegressionFFN(n_tasks=atoms_ys[0].shape[1], criterion=nn.BoundedMSE())\n",
    "bond_predictor = nn.RegressionFFN(\n",
    "    input_dim=(mp.output_dims[1] * 2), n_tasks=bonds_ys[0].shape[1], criterion=nn.BoundedMSE()\n",
    ")"
   ]
  },
  {
   "cell_type": "code",
   "execution_count": 7,
   "id": "ab1d3bfc",
   "metadata": {},
   "outputs": [],
   "source": [
    "model = models.MolAtomBondMPNN(\n",
    "    message_passing=mp,\n",
    "    agg=agg,\n",
    "    mol_predictor=mol_predictor,\n",
    "    atom_predictor=atom_predictor,\n",
    "    bond_predictor=bond_predictor,\n",
    "    metrics=metrics,\n",
    ")"
   ]
  },
  {
   "cell_type": "code",
   "execution_count": 8,
   "id": "85b9f9f0",
   "metadata": {},
   "outputs": [
    {
     "data": {
      "text/plain": [
       "MolAtomBondMPNN(\n",
       "  (message_passing): MABAtomMessagePassing(\n",
       "    (W_i): Linear(in_features=72, out_features=300, bias=False)\n",
       "    (W_h): Linear(in_features=314, out_features=300, bias=False)\n",
       "    (W_vo): Linear(in_features=372, out_features=300, bias=True)\n",
       "    (W_eo): Linear(in_features=314, out_features=300, bias=True)\n",
       "    (dropout): Dropout(p=0.0, inplace=False)\n",
       "    (tau): ReLU()\n",
       "    (V_d_transform): Identity()\n",
       "    (E_d_transform): Identity()\n",
       "    (graph_transform): Identity()\n",
       "  )\n",
       "  (agg): SumAggregation()\n",
       "  (mol_predictor): RegressionFFN(\n",
       "    (ffn): MLP(\n",
       "      (0): Sequential(\n",
       "        (0): Linear(in_features=300, out_features=300, bias=True)\n",
       "      )\n",
       "      (1): Sequential(\n",
       "        (0): ReLU()\n",
       "        (1): Dropout(p=0.0, inplace=False)\n",
       "        (2): Linear(in_features=300, out_features=2, bias=True)\n",
       "      )\n",
       "    )\n",
       "    (criterion): BoundedMSE(task_weights=[[1.0]])\n",
       "    (output_transform): Identity()\n",
       "  )\n",
       "  (atom_predictor): RegressionFFN(\n",
       "    (ffn): MLP(\n",
       "      (0): Sequential(\n",
       "        (0): Linear(in_features=300, out_features=300, bias=True)\n",
       "      )\n",
       "      (1): Sequential(\n",
       "        (0): ReLU()\n",
       "        (1): Dropout(p=0.0, inplace=False)\n",
       "        (2): Linear(in_features=300, out_features=2, bias=True)\n",
       "      )\n",
       "    )\n",
       "    (criterion): BoundedMSE(task_weights=[[1.0]])\n",
       "    (output_transform): Identity()\n",
       "  )\n",
       "  (bond_predictor): RegressionFFN(\n",
       "    (ffn): MLP(\n",
       "      (0): Sequential(\n",
       "        (0): Linear(in_features=600, out_features=300, bias=True)\n",
       "      )\n",
       "      (1): Sequential(\n",
       "        (0): ReLU()\n",
       "        (1): Dropout(p=0.0, inplace=False)\n",
       "        (2): Linear(in_features=300, out_features=2, bias=True)\n",
       "      )\n",
       "    )\n",
       "    (criterion): BoundedMSE(task_weights=[[1.0]])\n",
       "    (output_transform): Identity()\n",
       "  )\n",
       "  (bns): ModuleList(\n",
       "    (0-2): 3 x Identity()\n",
       "  )\n",
       "  (X_d_transform): Identity()\n",
       "  (metricss): ModuleList(\n",
       "    (0-2): 3 x ModuleList(\n",
       "      (0): MAE(task_weights=[[1.0]])\n",
       "      (1): RMSE(task_weights=[[1.0]])\n",
       "      (2): BoundedMSE(task_weights=[[1.0]])\n",
       "    )\n",
       "  )\n",
       ")"
      ]
     },
     "execution_count": 8,
     "metadata": {},
     "output_type": "execute_result"
    }
   ],
   "source": [
    "model"
   ]
  },
  {
   "cell_type": "code",
   "execution_count": 9,
   "id": "132b16dd",
   "metadata": {},
   "outputs": [
    {
     "name": "stdout",
     "output_type": "stream",
     "text": [
      "(2, 2, 2)\n",
      "(2, 2, 2)\n",
      "(1, 1, 1)\n",
      "(BoundedMSE(task_weights=[[1.0]]), BoundedMSE(task_weights=[[1.0]]), BoundedMSE(task_weights=[[1.0]]))\n"
     ]
    }
   ],
   "source": [
    "print(model.output_dimss)\n",
    "print(model.n_taskss)\n",
    "print(model.n_targetss)\n",
    "print(model.criterions)"
   ]
  },
  {
   "cell_type": "code",
   "execution_count": 10,
   "id": "b3051d28",
   "metadata": {},
   "outputs": [
    {
     "name": "stderr",
     "output_type": "stream",
     "text": [
      "GPU available: False, used: False\n",
      "TPU available: False, using: 0 TPU cores\n",
      "HPU available: False, using: 0 HPUs\n"
     ]
    }
   ],
   "source": [
    "checkpointing = ModelCheckpoint(\n",
    "    dirpath=\"checkpoints\",\n",
    "    filename=\"best-{epoch}-{val_loss:.2f}\",\n",
    "    monitor=\"val_loss\",\n",
    "    mode=\"min\",\n",
    "    save_last=True,\n",
    ")\n",
    "\n",
    "trainer = pl.Trainer(\n",
    "    logger=False,\n",
    "    enable_checkpointing=True,\n",
    "    enable_progress_bar=True,\n",
    "    accelerator=\"auto\",\n",
    "    devices=1,\n",
    "    max_epochs=20,\n",
    "    callbacks=[checkpointing],\n",
    ")"
   ]
  },
  {
   "cell_type": "code",
   "execution_count": 11,
   "id": "b54e324e",
   "metadata": {},
   "outputs": [],
   "source": [
    "! rm -rf checkpoints/\n",
    "! rm temp.pt"
   ]
  },
  {
   "cell_type": "code",
   "execution_count": 12,
   "id": "d5f4f787",
   "metadata": {},
   "outputs": [
    {
     "name": "stderr",
     "output_type": "stream",
     "text": [
      "Loading `train_dataloader` to estimate number of stepping batches.\n",
      "/home/knathan/anaconda3/envs/chemprop/lib/python3.11/site-packages/lightning/pytorch/trainer/connectors/data_connector.py:424: The 'train_dataloader' does not have many workers which may be a bottleneck. Consider increasing the value of the `num_workers` argument` to `num_workers=11` in the `DataLoader` to improve performance.\n",
      "\n",
      "  | Name            | Type                  | Params | Mode \n",
      "------------------------------------------------------------------\n",
      "0 | message_passing | MABAtomMessagePassing | 322 K  | train\n",
      "1 | agg             | SumAggregation        | 0      | train\n",
      "2 | mol_predictor   | RegressionFFN         | 90.9 K | train\n",
      "3 | atom_predictor  | RegressionFFN         | 90.9 K | train\n",
      "4 | bond_predictor  | RegressionFFN         | 180 K  | train\n",
      "5 | bns             | ModuleList            | 0      | train\n",
      "6 | X_d_transform   | Identity              | 0      | train\n",
      "7 | metricss        | ModuleList            | 0      | train\n",
      "------------------------------------------------------------------\n",
      "684 K     Trainable params\n",
      "0         Non-trainable params\n",
      "684 K     Total params\n",
      "2.740     Total estimated model params size (MB)\n",
      "59        Modules in train mode\n",
      "0         Modules in eval mode\n"
     ]
    },
    {
     "name": "stdout",
     "output_type": "stream",
     "text": [
      "                                                                           "
     ]
    },
    {
     "name": "stderr",
     "output_type": "stream",
     "text": [
      "/home/knathan/anaconda3/envs/chemprop/lib/python3.11/site-packages/lightning/pytorch/trainer/connectors/data_connector.py:424: The 'val_dataloader' does not have many workers which may be a bottleneck. Consider increasing the value of the `num_workers` argument` to `num_workers=11` in the `DataLoader` to improve performance.\n"
     ]
    },
    {
     "name": "stdout",
     "output_type": "stream",
     "text": [
      "Epoch 19: 100%|██████████| 1/1 [00:00<00:00,  7.89it/s, mol_train_loss_step=93.70, atom_train_loss_step=10.70, bond_train_loss_step=7.490, train_loss_step=112.0, mol_val_loss=86.10, atom_val_loss=10.50, bond_val_loss=7.050, val_loss=104.0, mol_train_loss_epoch=93.70, atom_train_loss_epoch=10.70, bond_train_loss_epoch=7.490, train_loss_epoch=112.0]"
     ]
    },
    {
     "name": "stderr",
     "output_type": "stream",
     "text": [
      "`Trainer.fit` stopped: `max_epochs=20` reached.\n"
     ]
    },
    {
     "name": "stdout",
     "output_type": "stream",
     "text": [
      "Epoch 19: 100%|██████████| 1/1 [00:00<00:00,  5.08it/s, mol_train_loss_step=93.70, atom_train_loss_step=10.70, bond_train_loss_step=7.490, train_loss_step=112.0, mol_val_loss=86.10, atom_val_loss=10.50, bond_val_loss=7.050, val_loss=104.0, mol_train_loss_epoch=93.70, atom_train_loss_epoch=10.70, bond_train_loss_epoch=7.490, train_loss_epoch=112.0]\n"
     ]
    }
   ],
   "source": [
    "trainer.fit(model, train_dataloader, val_dataloader)"
   ]
  },
  {
   "cell_type": "code",
   "execution_count": 13,
   "id": "d177eb79",
   "metadata": {},
   "outputs": [
    {
     "name": "stderr",
     "output_type": "stream",
     "text": [
      "/home/knathan/anaconda3/envs/chemprop/lib/python3.11/site-packages/lightning/pytorch/trainer/connectors/checkpoint_connector.py:145: `.test(ckpt_path=None)` was called without a model. The best model of the previous `fit` call will be used. You can pass `.test(ckpt_path='best')` to use the best model or `.test(ckpt_path='last')` to use the last model. If you pass a value, this warning will be silenced.\n",
      "Restoring states from the checkpoint path at /home/knathan/chemprop/examples/mol_atom_bond/checkpoints/best-epoch=19-val_loss=103.71.ckpt\n",
      "Loaded model weights from the checkpoint at /home/knathan/chemprop/examples/mol_atom_bond/checkpoints/best-epoch=19-val_loss=103.71.ckpt\n",
      "/home/knathan/anaconda3/envs/chemprop/lib/python3.11/site-packages/lightning/pytorch/trainer/connectors/data_connector.py:424: The 'test_dataloader' does not have many workers which may be a bottleneck. Consider increasing the value of the `num_workers` argument` to `num_workers=11` in the `DataLoader` to improve performance.\n"
     ]
    },
    {
     "name": "stdout",
     "output_type": "stream",
     "text": [
      "Testing DataLoader 0: 100%|██████████| 1/1 [00:00<00:00, 52.18it/s]\n"
     ]
    },
    {
     "data": {
      "text/html": [
       "<pre style=\"white-space:pre;overflow-x:auto;line-height:normal;font-family:Menlo,'DejaVu Sans Mono',consolas,'Courier New',monospace\">┏━━━━━━━━━━━━━━━━━━━━━━━━━━━┳━━━━━━━━━━━━━━━━━━━━━━━━━━━┓\n",
       "┃<span style=\"font-weight: bold\">        Test metric        </span>┃<span style=\"font-weight: bold\">       DataLoader 0        </span>┃\n",
       "┡━━━━━━━━━━━━━━━━━━━━━━━━━━━╇━━━━━━━━━━━━━━━━━━━━━━━━━━━┩\n",
       "│<span style=\"color: #008080; text-decoration-color: #008080\">       atom_test/mae       </span>│<span style=\"color: #800080; text-decoration-color: #800080\">    3.8589937686920166     </span>│\n",
       "│<span style=\"color: #008080; text-decoration-color: #008080\">      atom_test/rmse       </span>│<span style=\"color: #800080; text-decoration-color: #800080\">     5.04846715927124      </span>│\n",
       "│<span style=\"color: #008080; text-decoration-color: #008080\">       bond_test/mae       </span>│<span style=\"color: #800080; text-decoration-color: #800080\">     2.726095199584961     </span>│\n",
       "│<span style=\"color: #008080; text-decoration-color: #008080\">      bond_test/rmse       </span>│<span style=\"color: #800080; text-decoration-color: #800080\">    3.7746450901031494     </span>│\n",
       "│<span style=\"color: #008080; text-decoration-color: #008080\">       mol_test/mae        </span>│<span style=\"color: #800080; text-decoration-color: #800080\">     9.562576293945312     </span>│\n",
       "│<span style=\"color: #008080; text-decoration-color: #008080\">       mol_test/rmse       </span>│<span style=\"color: #800080; text-decoration-color: #800080\">    13.192347526550293     </span>│\n",
       "└───────────────────────────┴───────────────────────────┘\n",
       "</pre>\n"
      ],
      "text/plain": [
       "┏━━━━━━━━━━━━━━━━━━━━━━━━━━━┳━━━━━━━━━━━━━━━━━━━━━━━━━━━┓\n",
       "┃\u001b[1m \u001b[0m\u001b[1m       Test metric       \u001b[0m\u001b[1m \u001b[0m┃\u001b[1m \u001b[0m\u001b[1m      DataLoader 0       \u001b[0m\u001b[1m \u001b[0m┃\n",
       "┡━━━━━━━━━━━━━━━━━━━━━━━━━━━╇━━━━━━━━━━━━━━━━━━━━━━━━━━━┩\n",
       "│\u001b[36m \u001b[0m\u001b[36m      atom_test/mae      \u001b[0m\u001b[36m \u001b[0m│\u001b[35m \u001b[0m\u001b[35m   3.8589937686920166    \u001b[0m\u001b[35m \u001b[0m│\n",
       "│\u001b[36m \u001b[0m\u001b[36m     atom_test/rmse      \u001b[0m\u001b[36m \u001b[0m│\u001b[35m \u001b[0m\u001b[35m    5.04846715927124     \u001b[0m\u001b[35m \u001b[0m│\n",
       "│\u001b[36m \u001b[0m\u001b[36m      bond_test/mae      \u001b[0m\u001b[36m \u001b[0m│\u001b[35m \u001b[0m\u001b[35m    2.726095199584961    \u001b[0m\u001b[35m \u001b[0m│\n",
       "│\u001b[36m \u001b[0m\u001b[36m     bond_test/rmse      \u001b[0m\u001b[36m \u001b[0m│\u001b[35m \u001b[0m\u001b[35m   3.7746450901031494    \u001b[0m\u001b[35m \u001b[0m│\n",
       "│\u001b[36m \u001b[0m\u001b[36m      mol_test/mae       \u001b[0m\u001b[36m \u001b[0m│\u001b[35m \u001b[0m\u001b[35m    9.562576293945312    \u001b[0m\u001b[35m \u001b[0m│\n",
       "│\u001b[36m \u001b[0m\u001b[36m      mol_test/rmse      \u001b[0m\u001b[36m \u001b[0m│\u001b[35m \u001b[0m\u001b[35m   13.192347526550293    \u001b[0m\u001b[35m \u001b[0m│\n",
       "└───────────────────────────┴───────────────────────────┘\n"
      ]
     },
     "metadata": {},
     "output_type": "display_data"
    }
   ],
   "source": [
    "results = trainer.test(dataloaders=test_dataloader)"
   ]
  },
  {
   "cell_type": "code",
   "execution_count": 14,
   "id": "13ce67b8",
   "metadata": {},
   "outputs": [
    {
     "name": "stderr",
     "output_type": "stream",
     "text": [
      "/home/knathan/anaconda3/envs/chemprop/lib/python3.11/site-packages/lightning/pytorch/trainer/connectors/data_connector.py:424: The 'predict_dataloader' does not have many workers which may be a bottleneck. Consider increasing the value of the `num_workers` argument` to `num_workers=11` in the `DataLoader` to improve performance.\n"
     ]
    },
    {
     "name": "stdout",
     "output_type": "stream",
     "text": [
      "Predicting DataLoader 0: 100%|██████████| 1/1 [00:00<00:00, 81.18it/s]\n"
     ]
    }
   ],
   "source": [
    "predss = trainer.predict(model, predict_dataloader)\n",
    "mol_preds, atom_preds, bond_preds = (torch.concat(tensors) for tensors in zip(*predss))"
   ]
  },
  {
   "cell_type": "code",
   "execution_count": 15,
   "id": "854e213d",
   "metadata": {},
   "outputs": [
    {
     "data": {
      "text/plain": [
       "MolAtomBondMPNN(\n",
       "  (message_passing): MABAtomMessagePassing(\n",
       "    (W_i): Linear(in_features=72, out_features=300, bias=False)\n",
       "    (W_h): Linear(in_features=314, out_features=300, bias=False)\n",
       "    (W_vo): Linear(in_features=372, out_features=300, bias=True)\n",
       "    (W_eo): Linear(in_features=314, out_features=300, bias=True)\n",
       "    (dropout): Dropout(p=0.0, inplace=False)\n",
       "    (tau): ReLU()\n",
       "    (V_d_transform): Identity()\n",
       "    (E_d_transform): Identity()\n",
       "    (graph_transform): Identity()\n",
       "  )\n",
       "  (agg): SumAggregation()\n",
       "  (mol_predictor): RegressionFFN(\n",
       "    (ffn): MLP(\n",
       "      (0): Sequential(\n",
       "        (0): Linear(in_features=300, out_features=300, bias=True)\n",
       "      )\n",
       "      (1): Sequential(\n",
       "        (0): ReLU()\n",
       "        (1): Dropout(p=0.0, inplace=False)\n",
       "        (2): Linear(in_features=300, out_features=2, bias=True)\n",
       "      )\n",
       "    )\n",
       "    (criterion): BoundedMSE(task_weights=[[1.0]])\n",
       "    (output_transform): Identity()\n",
       "  )\n",
       "  (atom_predictor): RegressionFFN(\n",
       "    (ffn): MLP(\n",
       "      (0): Sequential(\n",
       "        (0): Linear(in_features=300, out_features=300, bias=True)\n",
       "      )\n",
       "      (1): Sequential(\n",
       "        (0): ReLU()\n",
       "        (1): Dropout(p=0.0, inplace=False)\n",
       "        (2): Linear(in_features=300, out_features=2, bias=True)\n",
       "      )\n",
       "    )\n",
       "    (criterion): BoundedMSE(task_weights=[[1.0]])\n",
       "    (output_transform): Identity()\n",
       "  )\n",
       "  (bond_predictor): RegressionFFN(\n",
       "    (ffn): MLP(\n",
       "      (0): Sequential(\n",
       "        (0): Linear(in_features=600, out_features=300, bias=True)\n",
       "      )\n",
       "      (1): Sequential(\n",
       "        (0): ReLU()\n",
       "        (1): Dropout(p=0.0, inplace=False)\n",
       "        (2): Linear(in_features=300, out_features=2, bias=True)\n",
       "      )\n",
       "    )\n",
       "    (criterion): BoundedMSE(task_weights=[[1.0]])\n",
       "    (output_transform): Identity()\n",
       "  )\n",
       "  (bns): ModuleList(\n",
       "    (0-2): 3 x Identity()\n",
       "  )\n",
       "  (X_d_transform): Identity()\n",
       "  (metricss): ModuleList(\n",
       "    (0-2): 3 x ModuleList(\n",
       "      (0): MAE(task_weights=[[1.0]])\n",
       "      (1): RMSE(task_weights=[[1.0]])\n",
       "      (2): BoundedMSE(task_weights=[[1.0]])\n",
       "    )\n",
       "  )\n",
       ")"
      ]
     },
     "execution_count": 15,
     "metadata": {},
     "output_type": "execute_result"
    }
   ],
   "source": [
    "models.utils.save_model(\"temp.pt\", model)\n",
    "models.MolAtomBondMPNN.load_from_file(\"temp.pt\")"
   ]
  },
  {
   "cell_type": "code",
   "execution_count": 16,
   "id": "e5d8fe04",
   "metadata": {},
   "outputs": [
    {
     "data": {
      "text/plain": [
       "MolAtomBondMPNN(\n",
       "  (message_passing): MABAtomMessagePassing(\n",
       "    (W_i): Linear(in_features=72, out_features=300, bias=False)\n",
       "    (W_h): Linear(in_features=314, out_features=300, bias=False)\n",
       "    (W_vo): Linear(in_features=372, out_features=300, bias=True)\n",
       "    (W_eo): Linear(in_features=314, out_features=300, bias=True)\n",
       "    (dropout): Dropout(p=0.0, inplace=False)\n",
       "    (tau): ReLU()\n",
       "    (V_d_transform): Identity()\n",
       "    (E_d_transform): Identity()\n",
       "    (graph_transform): Identity()\n",
       "  )\n",
       "  (agg): SumAggregation()\n",
       "  (mol_predictor): RegressionFFN(\n",
       "    (ffn): MLP(\n",
       "      (0): Sequential(\n",
       "        (0): Linear(in_features=300, out_features=300, bias=True)\n",
       "      )\n",
       "      (1): Sequential(\n",
       "        (0): ReLU()\n",
       "        (1): Dropout(p=0.0, inplace=False)\n",
       "        (2): Linear(in_features=300, out_features=2, bias=True)\n",
       "      )\n",
       "    )\n",
       "    (criterion): BoundedMSE(task_weights=[[1.0]])\n",
       "    (output_transform): Identity()\n",
       "  )\n",
       "  (atom_predictor): RegressionFFN(\n",
       "    (ffn): MLP(\n",
       "      (0): Sequential(\n",
       "        (0): Linear(in_features=300, out_features=300, bias=True)\n",
       "      )\n",
       "      (1): Sequential(\n",
       "        (0): ReLU()\n",
       "        (1): Dropout(p=0.0, inplace=False)\n",
       "        (2): Linear(in_features=300, out_features=2, bias=True)\n",
       "      )\n",
       "    )\n",
       "    (criterion): BoundedMSE(task_weights=[[1.0]])\n",
       "    (output_transform): Identity()\n",
       "  )\n",
       "  (bond_predictor): RegressionFFN(\n",
       "    (ffn): MLP(\n",
       "      (0): Sequential(\n",
       "        (0): Linear(in_features=600, out_features=300, bias=True)\n",
       "      )\n",
       "      (1): Sequential(\n",
       "        (0): ReLU()\n",
       "        (1): Dropout(p=0.0, inplace=False)\n",
       "        (2): Linear(in_features=300, out_features=2, bias=True)\n",
       "      )\n",
       "    )\n",
       "    (criterion): BoundedMSE(task_weights=[[1.0]])\n",
       "    (output_transform): Identity()\n",
       "  )\n",
       "  (bns): ModuleList(\n",
       "    (0-2): 3 x Identity()\n",
       "  )\n",
       "  (X_d_transform): Identity()\n",
       "  (metricss): ModuleList(\n",
       "    (0-2): 3 x ModuleList(\n",
       "      (0): MAE(task_weights=[[1.0]])\n",
       "      (1): RMSE(task_weights=[[1.0]])\n",
       "      (2): BoundedMSE(task_weights=[[1.0]])\n",
       "    )\n",
       "  )\n",
       ")"
      ]
     },
     "execution_count": 16,
     "metadata": {},
     "output_type": "execute_result"
    }
   ],
   "source": [
    "models.MolAtomBondMPNN.load_from_checkpoint(\"checkpoints/last.ckpt\")"
   ]
  }
 ],
 "metadata": {
  "kernelspec": {
   "display_name": "chemprop",
   "language": "python",
   "name": "python3"
  },
  "language_info": {
   "codemirror_mode": {
    "name": "ipython",
    "version": 3
   },
   "file_extension": ".py",
   "mimetype": "text/x-python",
   "name": "python",
   "nbconvert_exporter": "python",
   "pygments_lexer": "ipython3",
   "version": "3.11.8"
  }
 },
 "nbformat": 4,
 "nbformat_minor": 5
}
