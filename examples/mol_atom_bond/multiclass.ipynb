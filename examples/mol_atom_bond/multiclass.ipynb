{
 "cells": [
  {
   "cell_type": "markdown",
   "id": "32722362",
   "metadata": {},
   "source": [
    "[![Open In Colab](https://colab.research.google.com/assets/colab-badge.svg)](https://colab.research.google.com/github/chemprop/chemprop/blob/main/examples/mol_atom_bond/multiclass.ipynb)"
   ]
  },
  {
   "cell_type": "code",
   "execution_count": 1,
   "id": "20cc6055",
   "metadata": {},
   "outputs": [],
   "source": [
    "# Install chemprop from GitHub if running in Google Colab\n",
    "import os\n",
    "\n",
    "if os.getenv(\"COLAB_RELEASE_TAG\"):\n",
    "    try:\n",
    "        import chemprop\n",
    "    except ImportError:\n",
    "        !git clone https://github.com/chemprop/chemprop.git\n",
    "        %cd chemprop\n",
    "        !pip install .\n",
    "        %cd examples/mol_atom_bond"
   ]
  },
  {
   "cell_type": "code",
   "execution_count": 2,
   "id": "9065d87e",
   "metadata": {},
   "outputs": [],
   "source": [
    "import ast\n",
    "from pathlib import Path\n",
    "\n",
    "from lightning import pytorch as pl\n",
    "from lightning.pytorch.callbacks import ModelCheckpoint\n",
    "import numpy as np\n",
    "import pandas as pd\n",
    "import torch\n",
    "\n",
    "from chemprop import data, featurizers, models, nn\n",
    "\n",
    "columns = [\"smiles\", \"mol_y1\", \"mol_y2\", \"atom_y1\", \"atom_y2\", \"bond_y1\", \"bond_y2\", \"weight\"]\n",
    "chemprop_dir = Path.cwd().parent.parent\n",
    "data_dir = chemprop_dir / \"tests\" / \"data\" / \"mol_atom_bond\""
   ]
  },
  {
   "cell_type": "code",
   "execution_count": 3,
   "id": "d76490f4",
   "metadata": {},
   "outputs": [],
   "source": [
    "df_input = pd.read_csv(data_dir / \"multiclass.csv\")\n",
    "smis = df_input.loc[:, columns[0]].values\n",
    "mol_ys = df_input.loc[:, columns[1:3]].values\n",
    "atoms_ys = df_input.loc[:, columns[3:5]].values\n",
    "bonds_ys = df_input.loc[:, columns[5:7]].values\n",
    "weights = df_input.loc[:, columns[7]].values\n",
    "\n",
    "atoms_ys = [\n",
    "    np.array([ast.literal_eval(atom_y) for atom_y in atom_ys], dtype=float).T\n",
    "    for atom_ys in atoms_ys\n",
    "]\n",
    "bonds_ys = [\n",
    "    np.array([ast.literal_eval(bond_y) for bond_y in bond_ys], dtype=float).T\n",
    "    for bond_ys in bonds_ys\n",
    "]\n",
    "\n",
    "datapoints = [\n",
    "    data.MolAtomBondDatapoint.from_smi(\n",
    "        smi,\n",
    "        keep_h=True,\n",
    "        add_h=False,\n",
    "        reorder_atoms=True,\n",
    "        y=mol_ys[i],\n",
    "        atom_y=atoms_ys[i],\n",
    "        bond_y=bonds_ys[i],\n",
    "    )\n",
    "    for i, smi in enumerate(smis)\n",
    "]\n",
    "featurizer = featurizers.SimpleMoleculeMolGraphFeaturizer()\n",
    "\n",
    "train_dataset = data.MolAtomBondDataset(datapoints, featurizer=featurizer)\n",
    "val_dataset = data.MolAtomBondDataset(datapoints, featurizer=featurizer)\n",
    "test_dataset = data.MolAtomBondDataset(datapoints, featurizer=featurizer)\n",
    "predict_dataset = data.MolAtomBondDataset(datapoints, featurizer=featurizer)\n",
    "\n",
    "train_dataloader = data.build_dataloader(train_dataset, shuffle=True)\n",
    "val_dataloader = data.build_dataloader(val_dataset, shuffle=False)\n",
    "test_dataloader = data.build_dataloader(test_dataset, shuffle=False)\n",
    "predict_dataloader = data.build_dataloader(predict_dataset, shuffle=False)"
   ]
  },
  {
   "cell_type": "code",
   "execution_count": 4,
   "id": "cede1449",
   "metadata": {},
   "outputs": [],
   "source": [
    "mp = nn.MABBondMessagePassing()"
   ]
  },
  {
   "cell_type": "code",
   "execution_count": 5,
   "id": "5da5beb6",
   "metadata": {},
   "outputs": [],
   "source": [
    "agg = nn.NormAggregation()\n",
    "mol_predictor = nn.MulticlassClassificationFFN(n_tasks=mol_ys.shape[1], n_classes=3)\n",
    "atom_predictor = nn.MulticlassClassificationFFN(n_tasks=atoms_ys[0].shape[1], n_classes=3)\n",
    "bond_predictor = nn.MulticlassClassificationFFN(\n",
    "    input_dim=(mp.output_dims[1] * 2), n_tasks=bonds_ys[0].shape[1], n_classes=3\n",
    ")"
   ]
  },
  {
   "cell_type": "code",
   "execution_count": 6,
   "id": "ab1d3bfc",
   "metadata": {},
   "outputs": [],
   "source": [
    "model = models.MolAtomBondMPNN(\n",
    "    message_passing=mp,\n",
    "    agg=agg,\n",
    "    mol_predictor=mol_predictor,\n",
    "    atom_predictor=atom_predictor,\n",
    "    bond_predictor=bond_predictor,\n",
    ")"
   ]
  },
  {
   "cell_type": "code",
   "execution_count": 7,
   "id": "85b9f9f0",
   "metadata": {},
   "outputs": [
    {
     "data": {
      "text/plain": [
       "MolAtomBondMPNN(\n",
       "  (message_passing): MABBondMessagePassing(\n",
       "    (W_i): Linear(in_features=86, out_features=300, bias=False)\n",
       "    (W_h): Linear(in_features=300, out_features=300, bias=False)\n",
       "    (W_vo): Linear(in_features=372, out_features=300, bias=True)\n",
       "    (W_eo): Linear(in_features=314, out_features=300, bias=True)\n",
       "    (dropout): Dropout(p=0.0, inplace=False)\n",
       "    (tau): ReLU()\n",
       "    (V_d_transform): Identity()\n",
       "    (E_d_transform): Identity()\n",
       "    (graph_transform): Identity()\n",
       "  )\n",
       "  (agg): NormAggregation()\n",
       "  (mol_predictor): MulticlassClassificationFFN(\n",
       "    (ffn): MLP(\n",
       "      (0): Sequential(\n",
       "        (0): Linear(in_features=300, out_features=300, bias=True)\n",
       "      )\n",
       "      (1): Sequential(\n",
       "        (0): ReLU()\n",
       "        (1): Dropout(p=0.0, inplace=False)\n",
       "        (2): Linear(in_features=300, out_features=6, bias=True)\n",
       "      )\n",
       "    )\n",
       "    (criterion): CrossEntropyLoss(task_weights=[[1.0, 1.0]])\n",
       "    (output_transform): Identity()\n",
       "  )\n",
       "  (atom_predictor): MulticlassClassificationFFN(\n",
       "    (ffn): MLP(\n",
       "      (0): Sequential(\n",
       "        (0): Linear(in_features=300, out_features=300, bias=True)\n",
       "      )\n",
       "      (1): Sequential(\n",
       "        (0): ReLU()\n",
       "        (1): Dropout(p=0.0, inplace=False)\n",
       "        (2): Linear(in_features=300, out_features=6, bias=True)\n",
       "      )\n",
       "    )\n",
       "    (criterion): CrossEntropyLoss(task_weights=[[1.0, 1.0]])\n",
       "    (output_transform): Identity()\n",
       "  )\n",
       "  (bond_predictor): MulticlassClassificationFFN(\n",
       "    (ffn): MLP(\n",
       "      (0): Sequential(\n",
       "        (0): Linear(in_features=600, out_features=300, bias=True)\n",
       "      )\n",
       "      (1): Sequential(\n",
       "        (0): ReLU()\n",
       "        (1): Dropout(p=0.0, inplace=False)\n",
       "        (2): Linear(in_features=300, out_features=6, bias=True)\n",
       "      )\n",
       "    )\n",
       "    (criterion): CrossEntropyLoss(task_weights=[[1.0, 1.0]])\n",
       "    (output_transform): Identity()\n",
       "  )\n",
       "  (bns): ModuleList(\n",
       "    (0-2): 3 x Identity()\n",
       "  )\n",
       "  (X_d_transform): Identity()\n",
       "  (metricss): ModuleList(\n",
       "    (0-2): 3 x ModuleList(\n",
       "      (0): MulticlassMCCMetric(task_weights=[[1.0]])\n",
       "      (1): CrossEntropyLoss(task_weights=[[1.0, 1.0]])\n",
       "    )\n",
       "  )\n",
       ")"
      ]
     },
     "execution_count": 7,
     "metadata": {},
     "output_type": "execute_result"
    }
   ],
   "source": [
    "model"
   ]
  },
  {
   "cell_type": "code",
   "execution_count": 8,
   "id": "132b16dd",
   "metadata": {},
   "outputs": [
    {
     "name": "stdout",
     "output_type": "stream",
     "text": [
      "(6, 6, 6)\n",
      "(2, 2, 2)\n",
      "(1, 1, 1)\n",
      "(CrossEntropyLoss(task_weights=[[1.0, 1.0]]), CrossEntropyLoss(task_weights=[[1.0, 1.0]]), CrossEntropyLoss(task_weights=[[1.0, 1.0]]))\n"
     ]
    }
   ],
   "source": [
    "print(model.output_dimss)\n",
    "print(model.n_taskss)\n",
    "print(model.n_targetss)\n",
    "print(model.criterions)"
   ]
  },
  {
   "cell_type": "code",
   "execution_count": 9,
   "id": "b3051d28",
   "metadata": {},
   "outputs": [
    {
     "name": "stderr",
     "output_type": "stream",
     "text": [
      "GPU available: False, used: False\n",
      "TPU available: False, using: 0 TPU cores\n",
      "HPU available: False, using: 0 HPUs\n"
     ]
    }
   ],
   "source": [
    "checkpointing = ModelCheckpoint(\n",
    "    dirpath=\"checkpoints\",\n",
    "    filename=\"best-{epoch}-{val_loss:.2f}\",\n",
    "    monitor=\"val_loss\",\n",
    "    mode=\"min\",\n",
    "    save_last=True,\n",
    ")\n",
    "\n",
    "trainer = pl.Trainer(\n",
    "    logger=False,\n",
    "    enable_checkpointing=True,\n",
    "    enable_progress_bar=True,\n",
    "    accelerator=\"auto\",\n",
    "    devices=1,\n",
    "    max_epochs=20,\n",
    "    callbacks=[checkpointing],\n",
    ")"
   ]
  },
  {
   "cell_type": "code",
   "execution_count": 10,
   "id": "03ffdd2d",
   "metadata": {},
   "outputs": [],
   "source": [
    "! rm -rf checkpoints/\n",
    "! rm temp.pt"
   ]
  },
  {
   "cell_type": "code",
   "execution_count": 11,
   "id": "d5f4f787",
   "metadata": {},
   "outputs": [
    {
     "name": "stderr",
     "output_type": "stream",
     "text": [
      "Loading `train_dataloader` to estimate number of stepping batches.\n",
      "/home/knathan/anaconda3/envs/chemprop/lib/python3.11/site-packages/lightning/pytorch/trainer/connectors/data_connector.py:424: The 'train_dataloader' does not have many workers which may be a bottleneck. Consider increasing the value of the `num_workers` argument` to `num_workers=11` in the `DataLoader` to improve performance.\n",
      "\n",
      "  | Name            | Type                        | Params | Mode \n",
      "------------------------------------------------------------------------\n",
      "0 | message_passing | MABBondMessagePassing       | 322 K  | train\n",
      "1 | agg             | NormAggregation             | 0      | train\n",
      "2 | mol_predictor   | MulticlassClassificationFFN | 92.1 K | train\n",
      "3 | atom_predictor  | MulticlassClassificationFFN | 92.1 K | train\n",
      "4 | bond_predictor  | MulticlassClassificationFFN | 182 K  | train\n",
      "5 | bns             | ModuleList                  | 0      | train\n",
      "6 | X_d_transform   | Identity                    | 0      | train\n",
      "7 | metricss        | ModuleList                  | 0      | train\n",
      "------------------------------------------------------------------------\n",
      "688 K     Trainable params\n",
      "0         Non-trainable params\n",
      "688 K     Total params\n",
      "2.754     Total estimated model params size (MB)\n",
      "56        Modules in train mode\n",
      "0         Modules in eval mode\n"
     ]
    },
    {
     "name": "stdout",
     "output_type": "stream",
     "text": [
      "Sanity Checking DataLoader 0: 100%|██████████| 1/1 [00:00<00:00,  8.55it/s]"
     ]
    },
    {
     "name": "stderr",
     "output_type": "stream",
     "text": [
      "/home/knathan/anaconda3/envs/chemprop/lib/python3.11/site-packages/lightning/pytorch/trainer/connectors/data_connector.py:424: The 'val_dataloader' does not have many workers which may be a bottleneck. Consider increasing the value of the `num_workers` argument` to `num_workers=11` in the `DataLoader` to improve performance.\n"
     ]
    },
    {
     "name": "stdout",
     "output_type": "stream",
     "text": [
      "Epoch 19: 100%|██████████| 1/1 [00:00<00:00,  5.21it/s, mol_train_loss_step=1.070, atom_train_loss_step=0.613, bond_train_loss_step=0.512, train_loss_step=2.200, mol_val_loss=1.070, atom_val_loss=0.605, bond_val_loss=0.505, val_loss=2.180, mol_train_loss_epoch=1.070, atom_train_loss_epoch=0.613, bond_train_loss_epoch=0.512, train_loss_epoch=2.200]"
     ]
    },
    {
     "name": "stderr",
     "output_type": "stream",
     "text": [
      "`Trainer.fit` stopped: `max_epochs=20` reached.\n"
     ]
    },
    {
     "name": "stdout",
     "output_type": "stream",
     "text": [
      "Epoch 19: 100%|██████████| 1/1 [00:00<00:00,  3.36it/s, mol_train_loss_step=1.070, atom_train_loss_step=0.613, bond_train_loss_step=0.512, train_loss_step=2.200, mol_val_loss=1.070, atom_val_loss=0.605, bond_val_loss=0.505, val_loss=2.180, mol_train_loss_epoch=1.070, atom_train_loss_epoch=0.613, bond_train_loss_epoch=0.512, train_loss_epoch=2.200]\n"
     ]
    }
   ],
   "source": [
    "trainer.fit(model, train_dataloader, val_dataloader)"
   ]
  },
  {
   "cell_type": "code",
   "execution_count": 12,
   "id": "d177eb79",
   "metadata": {},
   "outputs": [
    {
     "name": "stderr",
     "output_type": "stream",
     "text": [
      "/home/knathan/anaconda3/envs/chemprop/lib/python3.11/site-packages/lightning/pytorch/trainer/connectors/checkpoint_connector.py:145: `.test(ckpt_path=None)` was called without a model. The best model of the previous `fit` call will be used. You can pass `.test(ckpt_path='best')` to use the best model or `.test(ckpt_path='last')` to use the last model. If you pass a value, this warning will be silenced.\n",
      "Restoring states from the checkpoint path at /home/knathan/chemprop/examples/mol_atom_bond/checkpoints/best-epoch=19-val_loss=2.18.ckpt\n",
      "Loaded model weights from the checkpoint at /home/knathan/chemprop/examples/mol_atom_bond/checkpoints/best-epoch=19-val_loss=2.18.ckpt\n",
      "/home/knathan/anaconda3/envs/chemprop/lib/python3.11/site-packages/lightning/pytorch/trainer/connectors/data_connector.py:424: The 'test_dataloader' does not have many workers which may be a bottleneck. Consider increasing the value of the `num_workers` argument` to `num_workers=11` in the `DataLoader` to improve performance.\n"
     ]
    },
    {
     "name": "stdout",
     "output_type": "stream",
     "text": [
      "Testing DataLoader 0: 100%|██████████| 1/1 [00:00<00:00, 34.66it/s]\n"
     ]
    },
    {
     "data": {
      "text/html": [
       "<pre style=\"white-space:pre;overflow-x:auto;line-height:normal;font-family:Menlo,'DejaVu Sans Mono',consolas,'Courier New',monospace\">┏━━━━━━━━━━━━━━━━━━━━━━━━━━━┳━━━━━━━━━━━━━━━━━━━━━━━━━━━┓\n",
       "┃<span style=\"font-weight: bold\">        Test metric        </span>┃<span style=\"font-weight: bold\">       DataLoader 0        </span>┃\n",
       "┡━━━━━━━━━━━━━━━━━━━━━━━━━━━╇━━━━━━━━━━━━━━━━━━━━━━━━━━━┩\n",
       "│<span style=\"color: #008080; text-decoration-color: #008080\"> atom_test/multiclass-mcc  </span>│<span style=\"color: #800080; text-decoration-color: #800080\">    0.30000436305999756    </span>│\n",
       "│<span style=\"color: #008080; text-decoration-color: #008080\"> bond_test/multiclass-mcc  </span>│<span style=\"color: #800080; text-decoration-color: #800080\">    0.5832045674324036     </span>│\n",
       "│<span style=\"color: #008080; text-decoration-color: #008080\">  mol_test/multiclass-mcc  </span>│<span style=\"color: #800080; text-decoration-color: #800080\">    0.5008894801139832     </span>│\n",
       "└───────────────────────────┴───────────────────────────┘\n",
       "</pre>\n"
      ],
      "text/plain": [
       "┏━━━━━━━━━━━━━━━━━━━━━━━━━━━┳━━━━━━━━━━━━━━━━━━━━━━━━━━━┓\n",
       "┃\u001b[1m \u001b[0m\u001b[1m       Test metric       \u001b[0m\u001b[1m \u001b[0m┃\u001b[1m \u001b[0m\u001b[1m      DataLoader 0       \u001b[0m\u001b[1m \u001b[0m┃\n",
       "┡━━━━━━━━━━━━━━━━━━━━━━━━━━━╇━━━━━━━━━━━━━━━━━━━━━━━━━━━┩\n",
       "│\u001b[36m \u001b[0m\u001b[36matom_test/multiclass-mcc \u001b[0m\u001b[36m \u001b[0m│\u001b[35m \u001b[0m\u001b[35m   0.30000436305999756   \u001b[0m\u001b[35m \u001b[0m│\n",
       "│\u001b[36m \u001b[0m\u001b[36mbond_test/multiclass-mcc \u001b[0m\u001b[36m \u001b[0m│\u001b[35m \u001b[0m\u001b[35m   0.5832045674324036    \u001b[0m\u001b[35m \u001b[0m│\n",
       "│\u001b[36m \u001b[0m\u001b[36m mol_test/multiclass-mcc \u001b[0m\u001b[36m \u001b[0m│\u001b[35m \u001b[0m\u001b[35m   0.5008894801139832    \u001b[0m\u001b[35m \u001b[0m│\n",
       "└───────────────────────────┴───────────────────────────┘\n"
      ]
     },
     "metadata": {},
     "output_type": "display_data"
    }
   ],
   "source": [
    "results = trainer.test(dataloaders=test_dataloader)"
   ]
  },
  {
   "cell_type": "code",
   "execution_count": 13,
   "id": "13ce67b8",
   "metadata": {},
   "outputs": [
    {
     "name": "stderr",
     "output_type": "stream",
     "text": [
      "/home/knathan/anaconda3/envs/chemprop/lib/python3.11/site-packages/lightning/pytorch/trainer/connectors/data_connector.py:424: The 'predict_dataloader' does not have many workers which may be a bottleneck. Consider increasing the value of the `num_workers` argument` to `num_workers=11` in the `DataLoader` to improve performance.\n"
     ]
    },
    {
     "name": "stdout",
     "output_type": "stream",
     "text": [
      "Predicting DataLoader 0: 100%|██████████| 1/1 [00:00<00:00, 84.67it/s] \n"
     ]
    }
   ],
   "source": [
    "predss = trainer.predict(model, predict_dataloader)\n",
    "mol_preds, atom_preds, bond_preds = (torch.concat(tensors) for tensors in zip(*predss))"
   ]
  },
  {
   "cell_type": "code",
   "execution_count": 14,
   "id": "854e213d",
   "metadata": {},
   "outputs": [
    {
     "data": {
      "text/plain": [
       "MolAtomBondMPNN(\n",
       "  (message_passing): MABBondMessagePassing(\n",
       "    (W_i): Linear(in_features=86, out_features=300, bias=False)\n",
       "    (W_h): Linear(in_features=300, out_features=300, bias=False)\n",
       "    (W_vo): Linear(in_features=372, out_features=300, bias=True)\n",
       "    (W_eo): Linear(in_features=314, out_features=300, bias=True)\n",
       "    (dropout): Dropout(p=0.0, inplace=False)\n",
       "    (tau): ReLU()\n",
       "    (V_d_transform): Identity()\n",
       "    (E_d_transform): Identity()\n",
       "    (graph_transform): Identity()\n",
       "  )\n",
       "  (agg): NormAggregation()\n",
       "  (mol_predictor): MulticlassClassificationFFN(\n",
       "    (ffn): MLP(\n",
       "      (0): Sequential(\n",
       "        (0): Linear(in_features=300, out_features=300, bias=True)\n",
       "      )\n",
       "      (1): Sequential(\n",
       "        (0): ReLU()\n",
       "        (1): Dropout(p=0.0, inplace=False)\n",
       "        (2): Linear(in_features=300, out_features=6, bias=True)\n",
       "      )\n",
       "    )\n",
       "    (criterion): CrossEntropyLoss(task_weights=[[1.0, 1.0]])\n",
       "    (output_transform): Identity()\n",
       "  )\n",
       "  (atom_predictor): MulticlassClassificationFFN(\n",
       "    (ffn): MLP(\n",
       "      (0): Sequential(\n",
       "        (0): Linear(in_features=300, out_features=300, bias=True)\n",
       "      )\n",
       "      (1): Sequential(\n",
       "        (0): ReLU()\n",
       "        (1): Dropout(p=0.0, inplace=False)\n",
       "        (2): Linear(in_features=300, out_features=6, bias=True)\n",
       "      )\n",
       "    )\n",
       "    (criterion): CrossEntropyLoss(task_weights=[[1.0, 1.0]])\n",
       "    (output_transform): Identity()\n",
       "  )\n",
       "  (bond_predictor): MulticlassClassificationFFN(\n",
       "    (ffn): MLP(\n",
       "      (0): Sequential(\n",
       "        (0): Linear(in_features=600, out_features=300, bias=True)\n",
       "      )\n",
       "      (1): Sequential(\n",
       "        (0): ReLU()\n",
       "        (1): Dropout(p=0.0, inplace=False)\n",
       "        (2): Linear(in_features=300, out_features=6, bias=True)\n",
       "      )\n",
       "    )\n",
       "    (criterion): CrossEntropyLoss(task_weights=[[1.0, 1.0]])\n",
       "    (output_transform): Identity()\n",
       "  )\n",
       "  (bns): ModuleList(\n",
       "    (0-2): 3 x Identity()\n",
       "  )\n",
       "  (X_d_transform): Identity()\n",
       "  (metricss): ModuleList(\n",
       "    (0-2): 3 x ModuleList(\n",
       "      (0): MulticlassMCCMetric(task_weights=[[1.0]])\n",
       "      (1): CrossEntropyLoss(task_weights=[[1.0, 1.0]])\n",
       "    )\n",
       "  )\n",
       ")"
      ]
     },
     "execution_count": 14,
     "metadata": {},
     "output_type": "execute_result"
    }
   ],
   "source": [
    "models.utils.save_model(\"temp.pt\", model)\n",
    "models.MolAtomBondMPNN.load_from_file(\"temp.pt\")"
   ]
  },
  {
   "cell_type": "code",
   "execution_count": 15,
   "id": "e5d8fe04",
   "metadata": {},
   "outputs": [
    {
     "data": {
      "text/plain": [
       "MolAtomBondMPNN(\n",
       "  (message_passing): MABBondMessagePassing(\n",
       "    (W_i): Linear(in_features=86, out_features=300, bias=False)\n",
       "    (W_h): Linear(in_features=300, out_features=300, bias=False)\n",
       "    (W_vo): Linear(in_features=372, out_features=300, bias=True)\n",
       "    (W_eo): Linear(in_features=314, out_features=300, bias=True)\n",
       "    (dropout): Dropout(p=0.0, inplace=False)\n",
       "    (tau): ReLU()\n",
       "    (V_d_transform): Identity()\n",
       "    (E_d_transform): Identity()\n",
       "    (graph_transform): Identity()\n",
       "  )\n",
       "  (agg): NormAggregation()\n",
       "  (mol_predictor): MulticlassClassificationFFN(\n",
       "    (ffn): MLP(\n",
       "      (0): Sequential(\n",
       "        (0): Linear(in_features=300, out_features=300, bias=True)\n",
       "      )\n",
       "      (1): Sequential(\n",
       "        (0): ReLU()\n",
       "        (1): Dropout(p=0.0, inplace=False)\n",
       "        (2): Linear(in_features=300, out_features=6, bias=True)\n",
       "      )\n",
       "    )\n",
       "    (criterion): CrossEntropyLoss(task_weights=[[1.0, 1.0]])\n",
       "    (output_transform): Identity()\n",
       "  )\n",
       "  (atom_predictor): MulticlassClassificationFFN(\n",
       "    (ffn): MLP(\n",
       "      (0): Sequential(\n",
       "        (0): Linear(in_features=300, out_features=300, bias=True)\n",
       "      )\n",
       "      (1): Sequential(\n",
       "        (0): ReLU()\n",
       "        (1): Dropout(p=0.0, inplace=False)\n",
       "        (2): Linear(in_features=300, out_features=6, bias=True)\n",
       "      )\n",
       "    )\n",
       "    (criterion): CrossEntropyLoss(task_weights=[[1.0, 1.0]])\n",
       "    (output_transform): Identity()\n",
       "  )\n",
       "  (bond_predictor): MulticlassClassificationFFN(\n",
       "    (ffn): MLP(\n",
       "      (0): Sequential(\n",
       "        (0): Linear(in_features=600, out_features=300, bias=True)\n",
       "      )\n",
       "      (1): Sequential(\n",
       "        (0): ReLU()\n",
       "        (1): Dropout(p=0.0, inplace=False)\n",
       "        (2): Linear(in_features=300, out_features=6, bias=True)\n",
       "      )\n",
       "    )\n",
       "    (criterion): CrossEntropyLoss(task_weights=[[1.0, 1.0]])\n",
       "    (output_transform): Identity()\n",
       "  )\n",
       "  (bns): ModuleList(\n",
       "    (0-2): 3 x Identity()\n",
       "  )\n",
       "  (X_d_transform): Identity()\n",
       "  (metricss): ModuleList(\n",
       "    (0-2): 3 x ModuleList(\n",
       "      (0): MulticlassMCCMetric(task_weights=[[1.0]])\n",
       "      (1): CrossEntropyLoss(task_weights=[[1.0, 1.0]])\n",
       "    )\n",
       "  )\n",
       ")"
      ]
     },
     "execution_count": 15,
     "metadata": {},
     "output_type": "execute_result"
    }
   ],
   "source": [
    "models.MolAtomBondMPNN.load_from_checkpoint(\"checkpoints/last.ckpt\")"
   ]
  }
 ],
 "metadata": {
  "kernelspec": {
   "display_name": "chemprop",
   "language": "python",
   "name": "python3"
  },
  "language_info": {
   "codemirror_mode": {
    "name": "ipython",
    "version": 3
   },
   "file_extension": ".py",
   "mimetype": "text/x-python",
   "name": "python",
   "nbconvert_exporter": "python",
   "pygments_lexer": "ipython3",
   "version": "3.11.8"
  }
 },
 "nbformat": 4,
 "nbformat_minor": 5
}
