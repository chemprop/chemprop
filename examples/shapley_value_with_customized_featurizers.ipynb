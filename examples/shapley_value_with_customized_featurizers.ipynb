{
 "cells": [
  {
   "cell_type": "markdown",
   "metadata": {},
   "source": [
    "# Shapley value analysis for Chemprop models"
   ]
  },
  {
   "cell_type": "markdown",
   "metadata": {},
   "source": [
    "This notebook demonstrates how to perform Shapley (SHAP) value analysis for a chemprop model. In addition, it also serves as an example on how to customize chemprop featurizers.\n",
    "\n",
    "* Example 1: Shapley value analysis to explain importance of default chemprop atom and bond features\n",
    "* Example 2: Shapley value analysis to explain importance of particular atom/node and bond/edge\n",
    "* Example 3: Shapley value analysis to explain importance of extra features (not yet implemented, will be done in the future release, this is likely eaiser to be achieved by modifying MoleculeDatapoint and dataloader functions)\n",
    "\n",
    "Disclaimer: This notebook is for feature demonstration purposes only. The models used in this notebook are not trained models, and the computed Shapley values are provided solely for illustrative purposes. \n",
    "\n",
    "Note: This notebook is developed for Chemprop v2. \n",
    "\n",
    "For Chemprop v1 SHAP implementation checkout: https://github.com/oscarwumit/chemprop_developing/tree/shap_v1\n",
    "\n",
    "This notebook requires the SHAP package, do \"pip install shap\" if you don't have it installed."
   ]
  },
  {
   "cell_type": "markdown",
   "metadata": {},
   "source": [
    "### Citation for SHAP implementation in Chemprop\n",
    "\n",
    "Li & Wu, et al. “When Do Quantum Mechanical Descriptors Help Graph Neural Networks to Predict Chemical Properties?” Journal of the American Chemical Society, vol. 146, no. 33, Aug. 2024, pp. 23103–20. https://doi.org/10.1021/jacs.4c04670.\n",
    "\n",
    "Bibtex format\n",
    "<pre>\n",
    "@article{li_and_wu_qm_des_2024, \n",
    "\ttitle = {When {Do} {Quantum} {Mechanical} {Descriptors} {Help} {Graph} {Neural} {Networks} to {Predict} {Chemical} {Properties}?}, \n",
    "\tvolume = {146}, \n",
    "\tcopyright = {https://doi.org/10.15223/policy-029}, \n",
    "\tissn = {0002-7863, 1520-5126}, \n",
    "\turl = {https://pubs.acs.org/doi/10.1021/jacs.4c04670}, \n",
    "\tdoi = {10.1021/jacs.4c04670}, \n",
    "\tlanguage = {en}, \n",
    "\tnumber = {33}, \n",
    "\turldate = {2025-01-13}, \n",
    "\tjournal = {Journal of the American Chemical Society}, \n",
    "\tauthor = {Li, Shih-Cheng and Wu, Haoyang and Menon, Angiras and Spiekermann, Kevin A. and Li, Yi-Pei and Green, William H.}, \n",
    "\tmonth = aug, \n",
    "\tyear = {2024}, \n",
    "\tpages = {23103--23120}, \n",
    "} \n",
    "</pre>"
   ]
  },
  {
   "cell_type": "markdown",
   "metadata": {},
   "source": [
    "### Customize Chemprop featurizers for SHAP analysis"
   ]
  },
  {
   "cell_type": "code",
   "execution_count": null,
   "metadata": {},
   "outputs": [],
   "source": [
    "# Import dependencies and classes\n",
    "import sys\n",
    "\n",
    "from copy import deepcopy\n",
    "from lightning import pytorch as pl\n",
    "from pathlib import Path\n",
    "\n",
    "import pandas as pd\n",
    "import numpy as np\n",
    "import torch\n",
    "\n",
    "from dataclasses import InitVar, dataclass\n",
    "from typing import List, Sequence, Tuple, Union, Optional\n",
    "from rdkit import Chem\n",
    "from rdkit.Chem import Mol, Draw\n",
    "from rdkit.Chem.rdchem import Atom, Bond, BondType\n",
    "\n",
    "from chemprop.featurizers.atom import MultiHotAtomFeaturizer \n",
    "from chemprop.featurizers.bond import MultiHotBondFeaturizer \n",
    "from chemprop.featurizers.molgraph.molecule import SimpleMoleculeMolGraphFeaturizer \n",
    "\n",
    "from chemprop.data.molgraph import MolGraph \n",
    "from chemprop.featurizers.base import GraphFeaturizer \n",
    "from chemprop.featurizers.molgraph.mixins import _MolGraphFeaturizerMixin \n",
    "\n",
    "from chemprop import data, featurizers, models \n",
    "\n",
    "import shap # do \"pip install shap\" if you don't have it installed\n",
    "\n",
    "import logging\n",
    "\n",
    "# Set logging level to WARNING to suppress INFO logs\n",
    "logging.getLogger(\"lightning.pytorch.utilities.rank_zero\").setLevel(logging.WARNING)"
   ]
  },
  {
   "cell_type": "markdown",
   "metadata": {},
   "source": [
    "#### CustomMultiHotAtomFeaturizer"
   ]
  },
  {
   "cell_type": "code",
   "execution_count": null,
   "metadata": {},
   "outputs": [],
   "source": [
    "class CustomMultiHotAtomFeaturizer(MultiHotAtomFeaturizer):\n",
    "    \"\"\"A custom MultiHotAtomFeaturizer that allows for selective feature ablation.\n",
    "        \n",
    "    Parameters\n",
    "    ----------\n",
    "    keep_features : List[bool], optional\n",
    "        a list of booleans to indicate which atom features to keep. If None, all features are kept. For any element that is False, the corresponding feature's encoding is set to all zeros. Useful for ablation and SHAP analysis.\n",
    "    \"\"\"\n",
    "    \n",
    "    def __init__(self,\n",
    "                 atomic_nums: Sequence[int],\n",
    "                 degrees: Sequence[int],\n",
    "                 formal_charges: Sequence[int],\n",
    "                 chiral_tags: Sequence[int],\n",
    "                 num_Hs: Sequence[int],\n",
    "                 hybridizations: Sequence[int],\n",
    "                 keep_features: List[bool] = None):\n",
    "        super().__init__(atomic_nums, degrees, formal_charges, chiral_tags, num_Hs, hybridizations)\n",
    "        \n",
    "        if keep_features is None:\n",
    "            keep_features = [True] * (len(self._subfeats) + 2)\n",
    "        self.keep_features = keep_features\n",
    "\n",
    "    def __call__(self, a: Atom | None) -> np.ndarray:\n",
    "        x = np.zeros(self._MultiHotAtomFeaturizer__size)\n",
    "        if a is None:\n",
    "            return x\n",
    "        \n",
    "        feats = [\n",
    "            a.GetAtomicNum(),\n",
    "            a.GetTotalDegree(),\n",
    "            a.GetFormalCharge(),\n",
    "            int(a.GetChiralTag()),\n",
    "            int(a.GetTotalNumHs()),\n",
    "            a.GetHybridization(),\n",
    "        ]\n",
    "        \n",
    "        i = 0\n",
    "        for feat, choices, keep in zip(feats, self._subfeats, self.keep_features[:len(feats)]):\n",
    "            j = choices.get(feat, len(choices))\n",
    "            if keep:\n",
    "                x[i + j] = 1\n",
    "            i += len(choices) + 1\n",
    "        \n",
    "        if self.keep_features[len(feats)]:\n",
    "            x[i] = int(a.GetIsAromatic())\n",
    "        if self.keep_features[len(feats) + 1]:\n",
    "            x[i + 1] = 0.01 * a.GetMass()\n",
    "\n",
    "        return x\n",
    "\n",
    "    def zero_mask(self) -> np.ndarray:\n",
    "        \"\"\"Featurize the atom by setting all bits to zero.\"\"\"\n",
    "        return np.zeros(len(self))"
   ]
  },
  {
   "cell_type": "code",
   "execution_count": null,
   "metadata": {},
   "outputs": [],
   "source": [
    "# Example usage\n",
    "atomic_nums = [6, 7, 8]\n",
    "degrees = [1, 2, 3]\n",
    "formal_charges = [-1, 0, 1]\n",
    "chiral_tags = [0, 1, 2]\n",
    "num_Hs = [0, 1, 2]\n",
    "hybridizations = [1, 2, 3]\n",
    "\n",
    "keep_features_all = [True] * 8\n",
    "keep_features_some = [True, True, False, True, False, True, True, False]\n",
    "keep_features_none = [False] * 8\n",
    "\n",
    "featurizer_all = CustomMultiHotAtomFeaturizer(\n",
    "    atomic_nums=atomic_nums,\n",
    "    degrees=degrees,\n",
    "    formal_charges=formal_charges,\n",
    "    chiral_tags=chiral_tags,\n",
    "    num_Hs=num_Hs,\n",
    "    hybridizations=hybridizations,\n",
    "    keep_features=keep_features_all\n",
    ")\n",
    "\n",
    "featurizer_some = CustomMultiHotAtomFeaturizer(\n",
    "    atomic_nums=atomic_nums,\n",
    "    degrees=degrees,\n",
    "    formal_charges=formal_charges,\n",
    "    chiral_tags=chiral_tags,\n",
    "    num_Hs=num_Hs,\n",
    "    hybridizations=hybridizations,\n",
    "    keep_features=keep_features_some\n",
    ")\n",
    "\n",
    "featurizer_none = CustomMultiHotAtomFeaturizer(\n",
    "    atomic_nums=atomic_nums,\n",
    "    degrees=degrees,\n",
    "    formal_charges=formal_charges,\n",
    "    chiral_tags=chiral_tags,\n",
    "    num_Hs=num_Hs,\n",
    "    hybridizations=hybridizations,\n",
    "    keep_features=keep_features_none\n",
    ")\n",
    "\n",
    "mol = Chem.MolFromSmiles('CCO')\n",
    "atom = mol.GetAtomWithIdx(0)  # Get the first atom\n",
    "\n",
    "features = featurizer_all(atom)\n",
    "print(\"Atom features all:\", features)\n",
    "\n",
    "features = featurizer_some(atom)\n",
    "print(\"Atom features some:\", features)\n",
    "\n",
    "features = featurizer_none(atom)\n",
    "print(\"Atom features none:\", features)"
   ]
  },
  {
   "cell_type": "markdown",
   "metadata": {},
   "source": [
    "#### CustomMultiHotBondFeaturizer"
   ]
  },
  {
   "cell_type": "code",
   "execution_count": null,
   "metadata": {},
   "outputs": [],
   "source": [
    "class CustomMultiHotBondFeaturizer(MultiHotBondFeaturizer):\n",
    "    \"\"\"A custom MultiHotBondFeaturizer that allows for selective feature ablation.\n",
    "    \n",
    "    Parameters\n",
    "    ----------\n",
    "    keep_features : List[bool], optional\n",
    "        a list of booleans to indicate which bond features to keep except for nullity. If None, all features are kept. For any element that is False, the corresponding feature's encoding is set to all zeros. Useful for ablation and SHAP analysis.\n",
    "    \"\"\"\n",
    "    \n",
    "    def __init__(self,\n",
    "                 bond_types: Sequence[BondType] | None = None,\n",
    "                 stereos: Sequence[int] | None = None,\n",
    "                 keep_features: List[bool] = None):\n",
    "        super().__init__(bond_types, stereos)\n",
    "        \n",
    "        self._MultiHotBondFeaturizer__size = 1 + len(self.bond_types) + 2 + (len(self.stereo) + 1)\n",
    "\n",
    "        if keep_features is None:\n",
    "            keep_features = [True] * 4 \n",
    "        self.keep_features = keep_features        \n",
    "\n",
    "    def __len__(self) -> int:\n",
    "        return self._MultiHotBondFeaturizer__size\n",
    "\n",
    "    def __call__(self, b: Bond) -> np.ndarray:\n",
    "        x = np.zeros(len(self), int)\n",
    "\n",
    "        if b is None:\n",
    "            x[0] = 1\n",
    "            return x\n",
    "        i = 1\n",
    "        bond_type = b.GetBondType()\n",
    "        bt_bit, size = self.one_hot_index(bond_type, self.bond_types)\n",
    "        if self.keep_features[0] and bt_bit != size:\n",
    "            x[i + bt_bit] = 1\n",
    "        i += size - 1\n",
    "\n",
    "        if self.keep_features[1]:\n",
    "            x[i] = int(b.GetIsConjugated())\n",
    "        if self.keep_features[2]:\n",
    "            x[i + 1] = int(b.IsInRing())\n",
    "        i += 2\n",
    "\n",
    "        if self.keep_features[3]:\n",
    "            stereo_bit, _ = self.one_hot_index(int(b.GetStereo()), self.stereo)\n",
    "            x[i + stereo_bit] = 1\n",
    "\n",
    "        return x\n",
    "\n",
    "    def zero_mask(self) -> np.ndarray:\n",
    "        \"\"\"Featurize the bond by setting all bits to zero.\"\"\"\n",
    "        return np.zeros(len(self), int)\n",
    "\n",
    "    @classmethod\n",
    "    def one_hot_index(cls, x, xs: Sequence) -> tuple[int, int]:\n",
    "        \"\"\"Returns a tuple of the index of ``x`` in ``xs`` and ``len(xs) + 1`` if ``x`` is in ``xs``.\n",
    "        Otherwise, returns a tuple with ``len(xs)`` and ``len(xs) + 1``.\"\"\"\n",
    "        n = len(xs)\n",
    "        return xs.index(x) if x in xs else n, n + 1"
   ]
  },
  {
   "cell_type": "code",
   "execution_count": null,
   "metadata": {},
   "outputs": [],
   "source": [
    "# Example usage\n",
    "bond_types = [BondType.SINGLE, BondType.DOUBLE, BondType.TRIPLE, BondType.AROMATIC]\n",
    "stereos = [0, 1, 2, 3, 4, 5]\n",
    "keep_features_all = [True] * 4\n",
    "keep_features_some = [True, False, True, False]\n",
    "keep_features_none = [False] * 4\n",
    "\n",
    "featurizer_all = CustomMultiHotBondFeaturizer(\n",
    "    bond_types=bond_types,\n",
    "    stereos=stereos,\n",
    "    keep_features=keep_features_all\n",
    ")\n",
    "\n",
    "featurizer_some = CustomMultiHotBondFeaturizer(\n",
    "    bond_types=bond_types,\n",
    "    stereos=stereos,\n",
    "    keep_features=keep_features_some\n",
    ")\n",
    "\n",
    "featurizer_none = CustomMultiHotBondFeaturizer(\n",
    "    bond_types=bond_types,\n",
    "    stereos=stereos,\n",
    "    keep_features=keep_features_none\n",
    ")\n",
    "\n",
    "mol = Chem.MolFromSmiles('CCO')\n",
    "bond = mol.GetBondWithIdx(0)  # Get the first bond\n",
    "\n",
    "features = featurizer_all(bond)\n",
    "print(\"Bond features all:\", features)\n",
    "\n",
    "features = featurizer_some(bond)\n",
    "print(\"Bond features some:\", features)\n",
    "\n",
    "features = featurizer_none(bond)\n",
    "print(\"Bond features none:\", features)"
   ]
  },
  {
   "cell_type": "markdown",
   "metadata": {},
   "source": [
    "#### CustomSimpleMoleculeMolGraphFeaturizer"
   ]
  },
  {
   "cell_type": "code",
   "execution_count": null,
   "metadata": {},
   "outputs": [],
   "source": [
    "@dataclass\n",
    "class CustomSimpleMoleculeMolGraphFeaturizer(SimpleMoleculeMolGraphFeaturizer):\n",
    "    \"\"\"A custom SimpleMoleculeMolGraphFeaturizer with additional feature control.\"\"\"\n",
    "    \n",
    "    keep_atom_features: Optional[List[bool]] = None\n",
    "    keep_bond_features: Optional[List[bool]] = None\n",
    "    keep_atoms: Optional[List[bool]] = None\n",
    "    keep_bonds: Optional[List[bool]] = None\n",
    "\n",
    "    def __post_init__(self, extra_atom_fdim: int = 0, extra_bond_fdim: int = 0):\n",
    "        super().__post_init__(extra_atom_fdim, extra_bond_fdim)\n",
    "\n",
    "        if isinstance(self.atom_featurizer, CustomMultiHotAtomFeaturizer) and self.keep_atom_features is not None:\n",
    "            self.atom_featurizer.keep_features = self.keep_atom_features\n",
    "        if isinstance(self.bond_featurizer, CustomMultiHotBondFeaturizer) and self.keep_bond_features is not None:\n",
    "            self.bond_featurizer.keep_features = self.keep_bond_features\n",
    "\n",
    "    def __call__(\n",
    "        self,\n",
    "        mol: Chem.Mol,\n",
    "        atom_features_extra: np.ndarray | None = None,\n",
    "        bond_features_extra: np.ndarray | None = None,\n",
    "    ) -> MolGraph:\n",
    "        n_atoms = mol.GetNumAtoms()\n",
    "        n_bonds = mol.GetNumBonds()\n",
    "\n",
    "        if self.keep_atoms is None:\n",
    "            self.keep_atoms = [True] * n_atoms\n",
    "        if self.keep_bonds is None:\n",
    "            self.keep_bonds = [True] * n_bonds\n",
    "\n",
    "        if atom_features_extra is not None and len(atom_features_extra) != n_atoms:\n",
    "            raise ValueError(\n",
    "                \"Input molecule must have same number of atoms as `len(atom_features_extra)`!\"\n",
    "                f\"got: {n_atoms} and {len(atom_features_extra)}, respectively\"\n",
    "            )\n",
    "        if bond_features_extra is not None and len(bond_features_extra) != n_bonds:\n",
    "            raise ValueError(\n",
    "                \"Input molecule must have same number of bonds as `len(bond_features_extra)`!\"\n",
    "                f\"got: {n_bonds} and {len(bond_features_extra)}, respectively\"\n",
    "            )\n",
    "        if n_atoms == 0:\n",
    "            V = np.zeros((1, self.atom_fdim), dtype=np.single)\n",
    "        else:\n",
    "            V = np.array([self.atom_featurizer(a) if self.keep_atoms[a.GetIdx()] else self.atom_featurizer.zero_mask()\n",
    "                          for a in mol.GetAtoms()], dtype=np.single)\n",
    "\n",
    "        if atom_features_extra is not None:\n",
    "            V = np.hstack((V, atom_features_extra))\n",
    "\n",
    "        E = np.empty((2 * n_bonds, self.bond_fdim))\n",
    "        edge_index = [[], []]\n",
    "\n",
    "        i = 0\n",
    "        for u in range(n_atoms):\n",
    "            for v in range(u + 1, n_atoms):\n",
    "                bond = mol.GetBondBetweenAtoms(u, v)\n",
    "                if bond is None:\n",
    "                    continue\n",
    "\n",
    "                x_e = self.bond_featurizer(bond) if self.keep_bonds[bond.GetIdx()] else self.bond_featurizer.zero_mask()\n",
    "\n",
    "                if bond_features_extra is not None:\n",
    "                    x_e = np.concatenate((x_e, bond_features_extra[bond.GetIdx()]), dtype=np.single)\n",
    "\n",
    "                E[i: i + 2] = x_e\n",
    "                edge_index[0].extend([u, v])\n",
    "                edge_index[1].extend([v, u])\n",
    "                i += 2\n",
    "\n",
    "        rev_edge_index = np.arange(len(E)).reshape(-1, 2)[:, ::-1].ravel()\n",
    "        edge_index = np.array(edge_index, int)\n",
    "        return MolGraph(V, E, edge_index, rev_edge_index)"
   ]
  },
  {
   "cell_type": "code",
   "execution_count": null,
   "metadata": {},
   "outputs": [],
   "source": [
    "# Example usage\n",
    "atom_featurizer = CustomMultiHotAtomFeaturizer(\n",
    "    atomic_nums=[6, 7, 8],\n",
    "    degrees=[1, 2, 3],\n",
    "    formal_charges=[-1, 0, 1],\n",
    "    chiral_tags=[0, 1, 2],\n",
    "    num_Hs=[0, 1, 2],\n",
    "    hybridizations=[1, 2, 3],\n",
    "    keep_features=[True, True, False, True, False, True, True, False]\n",
    ")\n",
    "\n",
    "bond_featurizer = CustomMultiHotBondFeaturizer(\n",
    "    bond_types=[BondType.SINGLE, BondType.DOUBLE, BondType.TRIPLE, BondType.AROMATIC],\n",
    "    stereos=[0, 1, 2, 3, 4, 5],\n",
    "    keep_features=[True, False, True, False]\n",
    ")\n",
    "\n",
    "featurizer = CustomSimpleMoleculeMolGraphFeaturizer(\n",
    "    atom_featurizer=atom_featurizer,\n",
    "    bond_featurizer=bond_featurizer,\n",
    "    keep_atom_features=[True, True, False, True, False, True, True, False],\n",
    "    keep_bond_features=[True, False, True, False],\n",
    ")\n",
    "\n",
    "# Example molecule (RDKit Mol object required)\n",
    "from rdkit import Chem\n",
    "mol = Chem.MolFromSmiles('CCO')\n",
    "\n",
    "mol_graph = featurizer(mol)\n",
    "print(\"Molecule graph:\", mol_graph)"
   ]
  },
  {
   "cell_type": "markdown",
   "metadata": {},
   "source": [
    "### SHAP analysis to interpret Chemprop model prediction"
   ]
  },
  {
   "cell_type": "markdown",
   "metadata": {},
   "source": [
    "### Example 1: Shapley value analysis to explain importance of default chemprop atom and bond features"
   ]
  },
  {
   "cell_type": "code",
   "execution_count": null,
   "metadata": {},
   "outputs": [],
   "source": [
    "chemprop_dir = Path.cwd().parent\n",
    "\n",
    "# load chemprop model checkpoint file\n",
    "checkpoint_path = chemprop_dir / \"tests\" / \"data\" / \"example_model_v2_regression_mol.ckpt\" \n",
    "mpnn = models.MPNN.load_from_checkpoint(checkpoint_path)\n",
    "\n",
    "# load data\n",
    "test_path = chemprop_dir / \"tests\" / \"data\" / \"regression\" / \"mol\" / \"mol.csv\"\n",
    "smiles_column = 'smiles'\n",
    "df_test = pd.read_csv(test_path)\n",
    "smis = df_test[smiles_column]\n",
    "test_data = [data.MoleculeDatapoint.from_smi(smi) for smi in smis]\n",
    "\n",
    "# pick a test molecule for demonstration \n",
    "test_mol = smis.iloc[0]\n",
    "print(f\"Testing molecule: {test_mol}\")"
   ]
  },
  {
   "cell_type": "code",
   "execution_count": null,
   "metadata": {},
   "outputs": [],
   "source": [
    "# initialize the featurizer\n",
    "atom_featurizer = CustomMultiHotAtomFeaturizer.v2() # chemprop v2 default atom featurizer settings\n",
    "bond_featurizer = CustomMultiHotBondFeaturizer()"
   ]
  },
  {
   "cell_type": "code",
   "execution_count": null,
   "metadata": {},
   "outputs": [],
   "source": [
    "# A helper function to get predictions from a molecule with ability to keep or remove specific atom and bond features\n",
    "def get_predictions(keep_atom_features: Optional[List[bool]], keep_bond_features: Optional[List[bool]], mol: str) -> float:\n",
    "    featurizer = CustomSimpleMoleculeMolGraphFeaturizer(\n",
    "        atom_featurizer=atom_featurizer,\n",
    "        bond_featurizer=bond_featurizer,\n",
    "        keep_atom_features=keep_atom_features,\n",
    "        keep_bond_features=keep_bond_features\n",
    "    )\n",
    "    test_data = [data.MoleculeDatapoint.from_smi(mol)]\n",
    "    test_dset = data.MoleculeDataset(test_data, featurizer=featurizer)\n",
    "    test_loader = data.build_dataloader(test_dset, shuffle=False, batch_size=1)\n",
    "\n",
    "    with torch.inference_mode():\n",
    "        trainer = pl.Trainer(\n",
    "            logger=False,\n",
    "            enable_progress_bar=False,\n",
    "            accelerator=\"cpu\",\n",
    "            devices=1\n",
    "        )\n",
    "        test_preds = trainer.predict(mpnn, test_loader)\n",
    "    return test_preds[0][0]"
   ]
  },
  {
   "cell_type": "code",
   "execution_count": null,
   "metadata": {},
   "outputs": [],
   "source": [
    "# example prediction with different keep_atom_features and keep_bond_features\n",
    "\n",
    "# keep all atom and bond features\n",
    "keep_atom_features_0 = [True]*8\n",
    "keep_bond_features_0 = [True]*4\n",
    "\n",
    "# keep some atom and bond features\n",
    "keep_atom_features_1 = [True, True, False, True, True, False, True, True]\n",
    "keep_bond_features_1 = [True, True, False, True]\n",
    "\n",
    "# remove all atom and bond features\n",
    "keep_atom_features_2 = [False]*8\n",
    "keep_bond_features_2 = [False]*4\n",
    "\n",
    "pred_0 = get_predictions(keep_atom_features_0, keep_bond_features_0, test_mol)\n",
    "pred_1 = get_predictions(keep_atom_features_1, keep_bond_features_1, test_mol)\n",
    "pred_2 = get_predictions(keep_atom_features_2, keep_bond_features_2, test_mol)\n",
    "\n",
    "print(f\"Prediction with keep_features set 0: {pred_0}\") # expected 2.2535\n",
    "print(f\"Prediction with keep_features set 1: {pred_1}\") # expected 2.2319\n",
    "print(f\"Prediction with keep_features set 2: {pred_2}\") # expected 2.1880"
   ]
  },
  {
   "cell_type": "code",
   "execution_count": null,
   "metadata": {},
   "outputs": [],
   "source": [
    "# An example wrapper class for use as the model input in SHAP explainer\n",
    "# The wrapper needs to be initialized first with the molecule to be explained, and then can be called with a boolean list representing the features to keep\n",
    "# The wrapper is needed because SHAP explainer requires a callable model with a single input argument, adapt X as needed\n",
    "class MoleculeModelWrapper:\n",
    "    def __init__(self, mol: str):\n",
    "        self.mol = mol\n",
    "    \n",
    "    def __call__(self, X):\n",
    "        preds = []\n",
    "        for keep_features in X:\n",
    "            try:\n",
    "                # unpacking X, indices corresponds to feature orders from default chemprop featurizer, adapt as needed\n",
    "                keep_atom_features = keep_features[:8] # 8 atom features\n",
    "                keep_bond_features = keep_features[8:] # 4 bond features\n",
    "            except:\n",
    "                print(f\"Invalid input: {keep_features}\")\n",
    "                raise\n",
    "            pred = get_predictions(keep_atom_features, keep_bond_features, self.mol)\n",
    "            preds.append([pred.item()])\n",
    "        return np.array(preds)"
   ]
  },
  {
   "cell_type": "code",
   "execution_count": null,
   "metadata": {},
   "outputs": [],
   "source": [
    "# An example masker function for use with SHAP explainer\n",
    "# The masker function takes in a binary mask and the input data X, and returns the masked input data. This simulates the effect of masking out certain features.\n",
    "def binary_masker(binary_mask, x):\n",
    "    masked_x = deepcopy(x)\n",
    "    masked_x[binary_mask == 0] = 0\n",
    "    return np.array([masked_x])"
   ]
  },
  {
   "cell_type": "code",
   "execution_count": null,
   "metadata": {},
   "outputs": [],
   "source": [
    "# Initialize the model wrapper with the test molecule\n",
    "model_wrapper = MoleculeModelWrapper(test_mol)"
   ]
  },
  {
   "cell_type": "code",
   "execution_count": null,
   "metadata": {},
   "outputs": [],
   "source": [
    "# Test the model wrapper with a random feature choice\n",
    "keep_features = [1] * 12  # 8 atom features + 4 bond features\n",
    "feature_choice = np.array([keep_features])\n",
    "model_wrapper(feature_choice) # expected 2.25354171"
   ]
  },
  {
   "cell_type": "code",
   "execution_count": null,
   "metadata": {},
   "outputs": [],
   "source": [
    "# Initialize the SHAP explainer with the model wrapper and masker\n",
    "explainer = shap.PermutationExplainer(model_wrapper, masker=binary_masker)"
   ]
  },
  {
   "cell_type": "code",
   "execution_count": null,
   "metadata": {},
   "outputs": [],
   "source": [
    "# Compute SHAP values, using 100 evaluations of different feature choices (notice that feature choices are masked out randomly by the binary masker, so the results may vary between runs)\n",
    "explanation = explainer(feature_choice, max_evals=100) "
   ]
  },
  {
   "cell_type": "code",
   "execution_count": null,
   "metadata": {},
   "outputs": [],
   "source": [
    "# Print the SHAP values\n",
    "explanation"
   ]
  },
  {
   "cell_type": "code",
   "execution_count": null,
   "metadata": {},
   "outputs": [],
   "source": [
    "# Plot the SHAP values\n",
    "shap.plots.bar(explanation, max_display=15)"
   ]
  },
  {
   "cell_type": "code",
   "execution_count": null,
   "metadata": {},
   "outputs": [],
   "source": [
    "# Plot the SHAP values\n",
    "shap.plots.bar(explanation[0])"
   ]
  },
  {
   "cell_type": "markdown",
   "metadata": {},
   "source": [
    "### Example 2: Shapley value analysis to explain importance of particular atom/node and bond/edge"
   ]
  },
  {
   "cell_type": "code",
   "execution_count": null,
   "metadata": {},
   "outputs": [],
   "source": [
    "mol = Chem.MolFromSmiles(test_mol)\n",
    "mol"
   ]
  },
  {
   "cell_type": "code",
   "execution_count": null,
   "metadata": {},
   "outputs": [],
   "source": [
    "n_atoms = mol.GetNumAtoms()\n",
    "n_bonds = mol.GetNumBonds()\n",
    "print(f\"Number of atoms: {n_atoms}, Number of bonds: {n_bonds}\")"
   ]
  },
  {
   "cell_type": "code",
   "execution_count": null,
   "metadata": {},
   "outputs": [],
   "source": [
    "# initialize the featurizer\n",
    "atom_featurizer = CustomMultiHotAtomFeaturizer.v2() # chemprop v2 default atom featurizer settings\n",
    "bond_featurizer = CustomMultiHotBondFeaturizer()"
   ]
  },
  {
   "cell_type": "code",
   "execution_count": null,
   "metadata": {},
   "outputs": [],
   "source": [
    "# A helper function to get predictions from a molecule with ability to keep or remove specific atom/node or bond/edge\n",
    "def get_predictions(keep_atoms: Optional[List[bool]], keep_bonds: Optional[List[bool]], mol: str) -> float:\n",
    "    featurizer = CustomSimpleMoleculeMolGraphFeaturizer(\n",
    "        atom_featurizer=atom_featurizer,\n",
    "        bond_featurizer=bond_featurizer,\n",
    "        keep_atoms=keep_atoms,\n",
    "        keep_bonds=keep_bonds\n",
    "    )\n",
    "    test_data = [data.MoleculeDatapoint.from_smi(mol)]\n",
    "    test_dset = data.MoleculeDataset(test_data, featurizer=featurizer)\n",
    "    test_loader = data.build_dataloader(test_dset, shuffle=False, batch_size=1)\n",
    "\n",
    "    with torch.inference_mode():\n",
    "        trainer = pl.Trainer(\n",
    "            logger=False,\n",
    "            enable_progress_bar=False,\n",
    "            accelerator=\"cpu\",\n",
    "            devices=1\n",
    "        )\n",
    "        test_preds = trainer.predict(mpnn, test_loader)\n",
    "    return test_preds[0][0]"
   ]
  },
  {
   "cell_type": "code",
   "execution_count": null,
   "metadata": {},
   "outputs": [],
   "source": [
    "# example prediction with different keep_atoms and keep_bonds\n",
    "\n",
    "# keep all atoms and bonds\n",
    "keep_atoms_0 = [True] * n_atoms\n",
    "keep_bonds_0 = [True] * n_bonds\n",
    "\n",
    "# remove all atoms and bonds\n",
    "keep_atoms_1 = [False] * n_atoms\n",
    "keep_bonds_1 = [False] * n_bonds\n",
    "\n",
    "pred_0 = get_predictions(keep_atoms_0, keep_bonds_0, test_mol)\n",
    "pred_1 = get_predictions(keep_atoms_1, keep_bonds_1, test_mol)\n",
    "\n",
    "print(f\"Prediction with all atoms and bonds kept: {pred_0}\") # expected 2.2535\n",
    "print(f\"Prediction with all atoms and bonds removed: {pred_1}\") # expected 2.1880"
   ]
  },
  {
   "cell_type": "code",
   "execution_count": null,
   "metadata": {},
   "outputs": [],
   "source": [
    "# An example wrapper class for use as the model input in SHAP explainer\n",
    "class MoleculeModelWrapper:\n",
    "    def __init__(self, mol: str):\n",
    "        self.mol = mol\n",
    "        self.n_atoms = mol.GetNumAtoms()\n",
    "        self.n_bonds = mol.GetNumBonds()\n",
    "    \n",
    "    def __call__(self, X):\n",
    "        preds = []\n",
    "        for keep_features in X:\n",
    "            try:\n",
    "                # unpacking X, indices corresponds to atom.GetIdx() and bond.GetIdx() from rdkit mol, adapt as needed\n",
    "                keep_atoms = keep_features[:self.n_atoms]\n",
    "                keep_bonds = keep_features[self.n_atoms:self.n_atoms + self.n_bonds]\n",
    "            except Exception as e:\n",
    "                print(f\"Invalid input: {keep_features}\")\n",
    "                raise e\n",
    "            pred = get_predictions(keep_atoms, keep_bonds, self.mol)\n",
    "            preds.append([pred.item()])\n",
    "        return np.array(preds)"
   ]
  },
  {
   "cell_type": "code",
   "execution_count": null,
   "metadata": {},
   "outputs": [],
   "source": [
    "# An example masker function for use with SHAP explainer\n",
    "# The masker function takes in a binary mask and the input data X, and returns the masked input data. This simulates the effect of masking out certain features.\n",
    "def binary_masker(binary_mask, x):\n",
    "    masked_x = deepcopy(x)\n",
    "    masked_x[binary_mask == 0] = 0\n",
    "    return np.array([masked_x])"
   ]
  },
  {
   "cell_type": "code",
   "execution_count": null,
   "metadata": {},
   "outputs": [],
   "source": [
    "# Initialize the model wrapper with the test molecule, number of atoms and bonds\n",
    "model_wrapper = MoleculeModelWrapper(test_mol)"
   ]
  },
  {
   "cell_type": "code",
   "execution_count": null,
   "metadata": {},
   "outputs": [],
   "source": [
    "# Test the model wrapper with a random node/edge choice\n",
    "keep_features = [1] * (n_atoms + n_bonds)\n",
    "feature_choice = np.array([keep_features])\n",
    "model_wrapper(feature_choice)"
   ]
  },
  {
   "cell_type": "code",
   "execution_count": null,
   "metadata": {},
   "outputs": [],
   "source": [
    "# Initialize the SHAP explainer with the model wrapper and masker\n",
    "explainer = shap.PermutationExplainer(model_wrapper, masker=binary_masker)"
   ]
  },
  {
   "cell_type": "code",
   "execution_count": null,
   "metadata": {},
   "outputs": [],
   "source": [
    "# Compute SHAP values, using 100 evaluations of different node/edge choices (notice that nodes and edges are masked out randomly by the binary masker, so the results may vary between runs)\n",
    "explanation = explainer(feature_choice, max_evals=100)"
   ]
  },
  {
   "cell_type": "code",
   "execution_count": null,
   "metadata": {},
   "outputs": [],
   "source": [
    "# Print the SHAP values\n",
    "explanation"
   ]
  },
  {
   "cell_type": "code",
   "execution_count": null,
   "metadata": {},
   "outputs": [],
   "source": [
    "# Plot the SHAP values, notice that \"feature 0\" corresponds to the first atom, \"feature 1\" corresponds to the second atom, and so on also for bonds\n",
    "shap.plots.bar(explanation, max_display=15)"
   ]
  },
  {
   "cell_type": "code",
   "execution_count": null,
   "metadata": {},
   "outputs": [],
   "source": [
    "# Get the SHAP values for atoms and bonds\n",
    "shap_values = explanation.values[0]\n",
    "atom_shap_values = shap_values[:n_atoms]\n",
    "bond_shap_values = shap_values[n_atoms:n_atoms + n_bonds]"
   ]
  },
  {
   "cell_type": "code",
   "execution_count": null,
   "metadata": {},
   "outputs": [],
   "source": [
    "# Draw molecule with atom SHAP values\n",
    "atom_labels = {i: f'{atom_shap_values[i]:.3f}' for i in range(n_atoms) if atom_shap_values[i] != 0}\n",
    "mol_with_atom_shap = Chem.Mol(mol)\n",
    "for atom in mol_with_atom_shap.GetAtoms():\n",
    "    atom_idx = atom.GetIdx()\n",
    "    if atom_idx in atom_labels:\n",
    "        atom.SetProp('atomNote', atom_labels[atom_idx])\n",
    "img_atom_shap = Draw.MolToImage(mol_with_atom_shap, size=(800, 800), kekulize=True)\n",
    "img_atom_shap.save('atom_shap_values.png')\n",
    "\n",
    "# Draw molecule with bond SHAP values\n",
    "bond_labels = {bond.GetIdx(): f'{bond_shap_values[bond.GetIdx()]:.3f}' for bond in mol.GetBonds() if bond_shap_values[bond.GetIdx()] != 0}\n",
    "mol_with_bond_shap = Chem.Mol(mol)\n",
    "for bond in mol_with_bond_shap.GetBonds():\n",
    "    bond_idx = bond.GetIdx()\n",
    "    if bond_idx in bond_labels:\n",
    "        bond.SetProp('bondNote', bond_labels[bond_idx])\n",
    "img_bond_shap = Draw.MolToImage(mol_with_bond_shap, size=(800, 800), kekulize=True)\n",
    "img_bond_shap.save('bond_shap_values.png')\n",
    "\n",
    "# Display the images if running in a Jupyter notebook\n",
    "try:\n",
    "    from IPython.display import Image, display\n",
    "    display(Image(filename='atom_shap_values.png'))\n",
    "    display(Image(filename='bond_shap_values.png'))\n",
    "except ImportError:\n",
    "    print(\"IPython is not installed. Images are saved as 'atom_shap_values.png' and 'bond_shap_values.png'.\")"
   ]
  }
 ],
 "metadata": {
  "kernelspec": {
   "display_name": "chemprop_dev",
   "language": "python",
   "name": "python3"
  },
  "language_info": {
   "codemirror_mode": {
    "name": "ipython",
    "version": 3
   },
   "file_extension": ".py",
   "mimetype": "text/x-python",
   "name": "python",
   "nbconvert_exporter": "python",
   "pygments_lexer": "ipython3",
   "version": "3.11.5"
  }
 },
 "nbformat": 4,
 "nbformat_minor": 2
}
