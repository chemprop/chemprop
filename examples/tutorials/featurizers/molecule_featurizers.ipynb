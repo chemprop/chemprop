{
 "cells": [
  {
   "cell_type": "code",
   "execution_count": 1,
   "metadata": {},
   "outputs": [],
   "source": [
    "from rdkit import Chem\n",
<<<<<<< HEAD
    "from pathlib import Path\n",
    "from chemprop import data, utils\n",
    "from rdkit.Chem import rdFingerprintGenerator\n",
    "from dataclasses import dataclass"
=======
    "from chemprop import utils\n",
    "from chemprop.featurizers.molecule import MorganBinaryFeaturizer, MorganCountFeaturizer"
>>>>>>> dc861add (update molecule featurizer notebook)
   ]
  },
  {
   "cell_type": "markdown",
   "metadata": {},
   "source": [
    "### Extra datapoint descriptors from molecule featurizers"
   ]
  },
  {
   "cell_type": "markdown",
   "metadata": {},
   "source": [
    "Datapoints can have extra descriptors concatenated to the learned representation before sending to the FFN. Often these extra datapoitn desriptors are molecule features. Chemprop implements Morgan fingerprint molecule featurizers. Custom molecule featurizers can also be created."
   ]
  },
  {
   "cell_type": "markdown",
   "metadata": {},
   "source": [
    "### Morgan fingerprint featurizers"
   ]
  },
  {
   "cell_type": "markdown",
   "metadata": {},
   "source": [
    "Morgan fingerprint can either use a binary or count representation of molecular structures. The radius of structures, length of the fingerprint, and whether to include chirality can all be customized. The default radius is 2, the default length is 2048, and chirality is included by default."
   ]
  },
  {
   "cell_type": "code",
   "execution_count": 2,
   "metadata": {},
   "outputs": [],
   "source": [
    "import numpy as np\n",
    "from rdkit import Chem\n",
    "from chemprop.data import MoleculeDatapoint, MoleculeDataset\n",
    "\n",
    "smis = [\"C\" * i for i in range(1, 11)]\n",
    "ys = np.random.rand(len(smis), 1)\n",
    "\n",
    "molecule_featurizer = MorganBinaryFeaturizer()\n",
    "extra_datapoint_descriptors = [\n",
    "    molecule_featurizer(utils.make_mol(smis[0], keep_h=False, add_h=False)) for smi in smis\n",
    "]\n",
    "datapoints = [\n",
    "    MoleculeDatapoint.from_smi(smi, y, x_d=x_d)\n",
    "    for smi, y, x_d in zip(smis, ys, extra_datapoint_descriptors)\n",
    "]"
   ]
  },
  {
   "cell_type": "code",
   "execution_count": 3,
   "metadata": {},
   "outputs": [
    {
     "data": {
      "text/plain": [
       "((1024,), array([0, 0, 0, ..., 0, 0, 0], dtype=int32))"
      ]
     },
     "execution_count": 3,
     "metadata": {},
     "output_type": "execute_result"
    }
   ],
   "source": [
    "molecule_featurizer = MorganCountFeaturizer(radius=3, length=1024, include_chirality=False)\n",
    "morgan_fp = molecule_featurizer(Chem.MolFromSmiles(smis[0]))\n",
    "morgan_fp.shape, morgan_fp"
   ]
  },
  {
   "cell_type": "markdown",
   "metadata": {},
   "source": [
    "### Creating custom featurizers\n",
    "Custom molecule featurizers should follow the structure of `VectorFeaturizer[Mol]` (`chemprop.featurizers.base.VectorFeaturizer` and `rdkit.Chem.Mol`). That is they must define the following methods:\n",
    "- ```__len__(self) -> int```\n",
    "- ```__call__(self, mol: Chem.mol) -> np.ndarray```"
   ]
  },
  {
   "cell_type": "code",
   "execution_count": 4,
   "metadata": {},
   "outputs": [],
   "source": [
<<<<<<< HEAD
    "smis = df_test['smiles']\n",
    "ys = df_test.loc[:, target_columns].values"
   ]
  },
  {
   "cell_type": "markdown",
   "metadata": {},
   "source": [
    "# Creating custom featurizers\n",
    "Custom featurizers can be made by inheriting the ```SimpleMoleculeMolGraphFeaturizer``` class.\n",
    "These featurizers must override the following methods:\n",
    "- ```__len__(self)```\n",
    "- ```__call__(self, mol: Chem.mol)```\n",
=======
    "from chemprop.featurizers.base import VectorFeaturizer\n",
>>>>>>> dc861add (update molecule featurizer notebook)
    "\n",
    "\n",
    "class CustomMoleculeFeaturizer(VectorFeaturizer[Chem.Mol]):\n",
    "    def __len__(self) -> int:\n",
    "        return 1\n",
    "\n",
    "    def __call__(self, mol: Chem.Mol) -> np.ndarray:\n",
    "        total_atoms = mol.GetNumAtoms()\n",
    "        return np.array([total_atoms])"
   ]
  },
  {
   "cell_type": "code",
   "execution_count": 5,
   "metadata": {},
<<<<<<< HEAD
   "outputs": [],
   "source": [
    "@dataclass\n",
    "class MorganFingerprintMoleculeFeaturizer:\n",
    "    fp_size: int = 2048\n",
    "\n",
    "    def __post_init__(self):\n",
    "        self.mfpgen = rdFingerprintGenerator.GetMorganGenerator(radius=2, fpSize=self.fp_size)\n",
    "\n",
    "    def __len__(self) -> int:\n",
    "        \"\"\"the length of the feature vector\"\"\"\n",
    "        return self.fp_size\n",
    "\n",
    "    def __call__(self, mol: Chem.Mol) -> np.ndarray:\n",
    "        \"\"\"Featurize the molecule ``mol``\"\"\"\n",
    "        fp = self.mfpgen.GetFingerprintAsNumPy(mol)\n",
    "        return fp"
   ]
  },
  {
   "cell_type": "markdown",
   "metadata": {},
   "source": [
    "## Testing the featurizer"
   ]
  },
  {
   "cell_type": "code",
   "execution_count": 6,
   "metadata": {},
=======
>>>>>>> dc861add (update molecule featurizer notebook)
   "outputs": [
    {
     "data": {
      "text/plain": [
       "array([1])"
      ]
     },
     "execution_count": 5,
     "metadata": {},
     "output_type": "execute_result"
    }
   ],
   "source": [
<<<<<<< HEAD
    "mf = MorganFingerprintMoleculeFeaturizer()\n",
    "morgan = mf(utils.make_mol(smis[0], keep_h=False, add_h=False))\n",
    "morgan.shape, morgan"
   ]
  },
  {
   "cell_type": "markdown",
   "metadata": {},
   "source": [
    "## Loading featurizers into datapoints"
   ]
  },
  {
   "cell_type": "code",
   "execution_count": 7,
   "metadata": {},
   "outputs": [
    {
     "data": {
      "text/plain": [
       "[MoleculeDatapoint(mol=<rdkit.Chem.rdchem.Mol object at 0x7f8f12c369d0>, y=array([-0.77]), weight=1.0, gt_mask=None, lt_mask=None, x_d=array([0, 1, 0, ..., 0, 0, 0], dtype=uint8), x_phase=None, name='OCC3OC(OCC2OC(OC(C#N)c1ccccc1)C(O)C(O)C2O)C(O)C(O)C3O', V_f=None, E_f=None, V_d=None),\n",
       " MoleculeDatapoint(mol=<rdkit.Chem.rdchem.Mol object at 0x7f8f12c36810>, y=array([-3.3]), weight=1.0, gt_mask=None, lt_mask=None, x_d=array([0, 0, 0, ..., 0, 0, 0], dtype=uint8), x_phase=None, name='Cc1occc1C(=O)Nc2ccccc2', V_f=None, E_f=None, V_d=None),\n",
       " MoleculeDatapoint(mol=<rdkit.Chem.rdchem.Mol object at 0x7f8f12c368f0>, y=array([-2.06]), weight=1.0, gt_mask=None, lt_mask=None, x_d=array([0, 0, 0, ..., 0, 0, 0], dtype=uint8), x_phase=None, name='CC(C)=CCCC(C)=CC(=O)', V_f=None, E_f=None, V_d=None),\n",
       " MoleculeDatapoint(mol=<rdkit.Chem.rdchem.Mol object at 0x7f8f12c36ab0>, y=array([-7.87]), weight=1.0, gt_mask=None, lt_mask=None, x_d=array([0, 0, 0, ..., 0, 0, 0], dtype=uint8), x_phase=None, name='c1ccc2c(c1)ccc3c2ccc4c5ccccc5ccc43', V_f=None, E_f=None, V_d=None),\n",
       " MoleculeDatapoint(mol=<rdkit.Chem.rdchem.Mol object at 0x7f8f12c36b90>, y=array([-1.33]), weight=1.0, gt_mask=None, lt_mask=None, x_d=array([0, 0, 0, ..., 0, 0, 0], dtype=uint8), x_phase=None, name='c1ccsc1', V_f=None, E_f=None, V_d=None)]"
      ]
     },
     "execution_count": 7,
     "metadata": {},
     "output_type": "execute_result"
    }
   ],
   "source": [
    "mfs = [MorganFingerprintMoleculeFeaturizer()] # supply a list of all featurizers that \n",
    "                                              # will generate the extra descriptors. This is separate \n",
    "                                              # from the main featurizer supplied to molecule datasets.\n",
    "                                              \n",
    "# An arbitrary amount of molecule featurizers can be supplied to each datapoint in a dataset.\n",
    "# Note that pre-obtained extra descriptors cannot also be added at the same time, as shown in\n",
    "# the loaded molecule features notebook. An attempt to do so will result in an error.\n",
    "                                              \n",
    "all_data = [data.MoleculeDatapoint.from_smi(smi, y=y, mfs=mfs) for smi, y in zip(smis, ys)]\n",
    "all_data[:5]"
=======
    "mf = CustomMoleculeFeaturizer()\n",
    "mf(utils.make_mol(smis[0], keep_h=False, add_h=False))"
>>>>>>> dc861add (update molecule featurizer notebook)
   ]
  }
 ],
 "metadata": {
  "kernelspec": {
   "display_name": "Python 3",
   "language": "python",
   "name": "python3"
  },
  "language_info": {
   "codemirror_mode": {
    "name": "ipython",
    "version": 3
   },
   "file_extension": ".py",
   "mimetype": "text/x-python",
   "name": "python",
   "nbconvert_exporter": "python",
   "pygments_lexer": "ipython3",
   "version": "3.11.8"
  },
  "orig_nbformat": 4
 },
 "nbformat": 4,
 "nbformat_minor": 2
}
