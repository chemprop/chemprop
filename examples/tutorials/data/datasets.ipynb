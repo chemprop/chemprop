{
 "cells": [
  {
   "cell_type": "code",
   "execution_count": 1,
   "metadata": {},
   "outputs": [],
   "source": [
    "from chemprop.data.datasets import MoleculeDataset, ReactionDataset, MulticomponentDataset"
   ]
  },
  {
   "cell_type": "markdown",
   "metadata": {},
   "source": [
    "### Datasets"
   ]
  },
  {
   "cell_type": "markdown",
   "metadata": {},
   "source": [
    "To make a dataset you first need a list of datapoints. See the datapoint notebook for more details."
   ]
  },
  {
   "cell_type": "code",
   "execution_count": 2,
   "metadata": {},
   "outputs": [],
   "source": [
    "import numpy as np\n",
    "from chemprop.data import MoleculeDatapoint, ReactionDatapoint\n",
    "\n",
    "ys = np.random.rand(2, 1)\n",
    "\n",
    "smis = [\"C\", \"CC\"]\n",
    "mol_datapoints = [MoleculeDatapoint.from_smi(smi, y) for smi, y in zip(smis, ys)]\n",
    "\n",
    "rxn_smis = [\"[H:2][O:1][H:3]>>[H:2][O:1].[H:3]\", \"[H:2][S:1][H:3]>>[H:2][S:1].[H:3]\"]\n",
    "rxn_datapoints = [\n",
    "    ReactionDatapoint.from_smi(rxn_smi, y, keep_h=True) for rxn_smi, y in zip(rxn_smis, ys)\n",
    "]"
   ]
  },
  {
   "cell_type": "code",
   "execution_count": 3,
   "metadata": {},
   "outputs": [
    {
     "data": {
      "text/plain": [
       "MoleculeDataset(data=[MoleculeDatapoint(mol=<rdkit.Chem.rdchem.Mol object at 0x7f3002bd51c0>, y=array([0.14280278]), weight=1.0, gt_mask=None, lt_mask=None, x_d=None, x_phase=None, name='C', V_f=None, E_f=None, V_d=None), MoleculeDatapoint(mol=<rdkit.Chem.rdchem.Mol object at 0x7f3002bd52a0>, y=array([0.86053701]), weight=1.0, gt_mask=None, lt_mask=None, x_d=None, x_phase=None, name='CC', V_f=None, E_f=None, V_d=None)], featurizer=SimpleMoleculeMolGraphFeaturizer(atom_featurizer=<chemprop.featurizers.atom.MultiHotAtomFeaturizer object at 0x7f30843ec3d0>, bond_featurizer=<chemprop.featurizers.bond.MultiHotBondFeaturizer object at 0x7f30843e6350>))"
      ]
     },
     "execution_count": 3,
     "metadata": {},
     "output_type": "execute_result"
    }
   ],
   "source": [
    "MoleculeDataset(mol_datapoints)"
   ]
  },
  {
   "cell_type": "code",
   "execution_count": 4,
   "metadata": {},
   "outputs": [
    {
     "data": {
      "text/plain": [
       "ReactionDataset(data=[ReactionDatapoint(rct=<rdkit.Chem.rdchem.Mol object at 0x7f3002bd5380>, pdt=<rdkit.Chem.rdchem.Mol object at 0x7f3002bd53f0>, y=array([0.14280278]), weight=1.0, gt_mask=None, lt_mask=None, x_d=None, x_phase=None, name='[H:2][O:1][H:3]>>[H:2][O:1].[H:3]'), ReactionDatapoint(rct=<rdkit.Chem.rdchem.Mol object at 0x7f3002bd54d0>, pdt=<rdkit.Chem.rdchem.Mol object at 0x7f3002bd5540>, y=array([0.86053701]), weight=1.0, gt_mask=None, lt_mask=None, x_d=None, x_phase=None, name='[H:2][S:1][H:3]>>[H:2][S:1].[H:3]')], featurizer=CondensedGraphOfReactionFeaturizer(atom_featurizer=<chemprop.featurizers.atom.MultiHotAtomFeaturizer object at 0x7f3002bdf190>, bond_featurizer=<chemprop.featurizers.bond.MultiHotBondFeaturizer object at 0x7f3002bdf150>))"
      ]
     },
     "execution_count": 4,
     "metadata": {},
     "output_type": "execute_result"
    }
   ],
   "source": [
    "ReactionDataset(rxn_datapoints)"
   ]
  },
  {
   "cell_type": "markdown",
   "metadata": {},
   "source": [
    "### Dataset properties"
   ]
  },
  {
   "cell_type": "markdown",
   "metadata": {},
   "source": [
    "The properties of datapoints are collated in a dataset."
   ]
  },
  {
   "cell_type": "code",
   "execution_count": 5,
   "metadata": {},
   "outputs": [
    {
     "name": "stdout",
     "output_type": "stream",
     "text": [
      "[[0.14280278]\n",
      " [0.86053701]]\n",
      "['C', 'CC']\n"
     ]
    }
   ],
   "source": [
    "dataset = MoleculeDataset(mol_datapoints)\n",
    "print(dataset.Y)\n",
    "print(dataset.names)"
   ]
  },
  {
   "cell_type": "markdown",
   "metadata": {},
   "source": [
    "Datasets return a `Datum` when indexed. A `Datum` contains a `MolGraph` (see the molgraph featurizer notebook), the extra atom and datapoint level descriptors, the target(s), the weights, and masks for bounded loss functions."
   ]
  },
  {
   "cell_type": "code",
   "execution_count": 6,
   "metadata": {},
   "outputs": [
    {
     "data": {
      "text/plain": [
       "Datum(mg=MolGraph(V=array([[0.     , 0.     , 0.     , 0.     , 0.     , 1.     , 0.     ,\n",
       "        0.     , 0.     , 0.     , 0.     , 0.     , 0.     , 0.     ,\n",
       "        0.     , 0.     , 0.     , 0.     , 0.     , 0.     , 0.     ,\n",
       "        0.     , 0.     , 0.     , 0.     , 0.     , 0.     , 0.     ,\n",
       "        0.     , 0.     , 0.     , 0.     , 0.     , 0.     , 0.     ,\n",
       "        0.     , 0.     , 0.     , 0.     , 0.     , 0.     , 0.     ,\n",
       "        1.     , 0.     , 0.     , 0.     , 0.     , 0.     , 0.     ,\n",
       "        1.     , 0.     , 1.     , 0.     , 0.     , 0.     , 0.     ,\n",
       "        0.     , 0.     , 0.     , 0.     , 1.     , 0.     , 0.     ,\n",
       "        0.     , 0.     , 0.     , 1.     , 0.     , 0.     , 0.     ,\n",
       "        0.     , 0.12011]], dtype=float32), E=array([], shape=(0, 14), dtype=float64), edge_index=array([], shape=(2, 0), dtype=int64), rev_edge_index=array([], dtype=int64)), V_d=None, x_d=None, y=array([0.14280278]), weight=1.0, lt_mask=None, gt_mask=None)"
      ]
     },
     "execution_count": 6,
     "metadata": {},
     "output_type": "execute_result"
    }
   ],
   "source": [
    "dataset[0]"
   ]
  },
  {
   "cell_type": "markdown",
   "metadata": {},
   "source": [
    "### Caching"
   ]
  },
  {
   "cell_type": "markdown",
   "metadata": {},
   "source": [
    "The `MolGraph`s are generated as needed by default. For small to medium dataset (exact sizes not yet benchmarked), it is more efficient to generate and cache the molgraphs when the dataset is created. \n",
    "\n",
    "If the cache needs to be recreated, set the cache to True again. To clear the cache, set it to False. \n",
    "\n",
    "Note we recommend scaling additional atom and bond features (see the scaling notebook for details) before setting the cache, as scaling them after caching will require the cache to be recreated, which is done automatically."
   ]
  },
  {
   "cell_type": "code",
   "execution_count": 7,
   "metadata": {},
   "outputs": [],
   "source": [
    "dataset.cache = True  # Generate the molgraphs and cache them\n",
    "dataset.cache = True  # Recreate the cache\n",
    "dataset.cache = False  # Clear the cache\n",
    "\n",
    "dataset.cache = True  # Cache created with unscaled extra bond features\n",
    "dataset.normalize_inputs(key=\"E_f\")  # Cache recreated automatically with scaled extra bond features"
   ]
  },
  {
   "cell_type": "markdown",
   "metadata": {},
   "source": [
    "### Datasets with custom featurizers"
   ]
  },
  {
   "cell_type": "markdown",
   "metadata": {},
   "source": [
    "`SimpleMoleculeMolGraphFeaturizer` and `CGRFeaturizer` are the default featurizers. Customized featurizers can also be given when making a dataset."
   ]
  },
  {
   "cell_type": "code",
   "execution_count": 8,
   "metadata": {},
   "outputs": [
    {
     "data": {
      "text/plain": [
       "MoleculeDataset(data=[MoleculeDatapoint(mol=<rdkit.Chem.rdchem.Mol object at 0x7f3002bd51c0>, y=array([0.14280278]), weight=1.0, gt_mask=None, lt_mask=None, x_d=None, x_phase=None, name='C', V_f=None, E_f=None, V_d=None), MoleculeDatapoint(mol=<rdkit.Chem.rdchem.Mol object at 0x7f3002bd52a0>, y=array([0.86053701]), weight=1.0, gt_mask=None, lt_mask=None, x_d=None, x_phase=None, name='CC', V_f=None, E_f=None, V_d=None)], featurizer=SimpleMoleculeMolGraphFeaturizer(atom_featurizer=<chemprop.featurizers.atom.MultiHotAtomFeaturizer object at 0x7f3002b77550>, bond_featurizer=<chemprop.featurizers.bond.MultiHotBondFeaturizer object at 0x7f3002bfc410>))"
      ]
     },
     "execution_count": 8,
     "metadata": {},
     "output_type": "execute_result"
    }
   ],
   "source": [
    "from chemprop.featurizers import SimpleMoleculeMolGraphFeaturizer, MultiHotAtomFeaturizer\n",
    "\n",
    "mol_featurizer = SimpleMoleculeMolGraphFeaturizer(atom_featurizer=MultiHotAtomFeaturizer.v1())\n",
    "MoleculeDataset(mol_datapoints, featurizer=mol_featurizer)"
   ]
  },
  {
   "cell_type": "markdown",
   "metadata": {},
   "source": [
    "### Multicomponent datasets"
   ]
  },
  {
   "cell_type": "markdown",
   "metadata": {},
   "source": [
    "`MulticomponentDataset` is for datasets whose target values depend on multiple components. It is composed of parallel `MoleculeDataset`s and `ReactionDataset`s."
   ]
  },
  {
   "cell_type": "code",
   "execution_count": 9,
   "metadata": {},
   "outputs": [
    {
     "data": {
      "text/plain": [
       "<chemprop.data.datasets.MulticomponentDataset at 0x7f3002bffb90>"
      ]
     },
     "execution_count": 9,
     "metadata": {},
     "output_type": "execute_result"
    }
   ],
   "source": [
    "mol_dataset = MoleculeDataset(mol_datapoints)\n",
    "rxn_dataset = ReactionDataset(rxn_datapoints)\n",
    "\n",
    "# e.g. reaction in solvent\n",
    "multi_dataset = MulticomponentDataset(datasets=[mol_dataset, rxn_dataset])\n",
    "\n",
    "# e.g. solubility\n",
    "MulticomponentDataset(datasets=[mol_dataset, mol_dataset])"
   ]
  },
  {
   "cell_type": "markdown",
   "metadata": {},
   "source": [
    "`MulticomponentDataset`s return a list of `Datum`s and collate the properties of their datasets. Note that datapoint level properties like target values and extra datapoint descriptors are only retrieved from the first dataset in datasets."
   ]
  },
  {
   "cell_type": "code",
   "execution_count": 10,
   "metadata": {},
   "outputs": [
    {
     "data": {
      "text/plain": [
       "[Datum(mg=MolGraph(V=array([[0.     , 0.     , 0.     , 0.     , 0.     , 1.     , 0.     ,\n",
       "         0.     , 0.     , 0.     , 0.     , 0.     , 0.     , 0.     ,\n",
       "         0.     , 0.     , 0.     , 0.     , 0.     , 0.     , 0.     ,\n",
       "         0.     , 0.     , 0.     , 0.     , 0.     , 0.     , 0.     ,\n",
       "         0.     , 0.     , 0.     , 0.     , 0.     , 0.     , 0.     ,\n",
       "         0.     , 0.     , 0.     , 0.     , 0.     , 0.     , 0.     ,\n",
       "         1.     , 0.     , 0.     , 0.     , 0.     , 0.     , 0.     ,\n",
       "         1.     , 0.     , 1.     , 0.     , 0.     , 0.     , 0.     ,\n",
       "         0.     , 0.     , 0.     , 0.     , 1.     , 0.     , 0.     ,\n",
       "         0.     , 0.     , 0.     , 1.     , 0.     , 0.     , 0.     ,\n",
       "         0.     , 0.12011]], dtype=float32), E=array([], shape=(0, 14), dtype=float64), edge_index=array([], shape=(2, 0), dtype=int64), rev_edge_index=array([], dtype=int64)), V_d=None, x_d=None, y=array([0.14280278]), weight=1.0, lt_mask=None, gt_mask=None),\n",
       " Datum(mg=MolGraph(V=array([[ 1.     ,  0.     ,  0.     ,  0.     ,  0.     ,  0.     ,\n",
       "          0.     ,  0.     ,  0.     ,  0.     ,  0.     ,  0.     ,\n",
       "          0.     ,  0.     ,  0.     ,  0.     ,  0.     ,  0.     ,\n",
       "          0.     ,  0.     ,  0.     ,  0.     ,  0.     ,  0.     ,\n",
       "          0.     ,  0.     ,  0.     ,  0.     ,  0.     ,  0.     ,\n",
       "          0.     ,  0.     ,  0.     ,  0.     ,  0.     ,  0.     ,\n",
       "          0.     ,  0.     ,  0.     ,  1.     ,  0.     ,  0.     ,\n",
       "          0.     ,  0.     ,  0.     ,  0.     ,  0.     ,  0.     ,\n",
       "          0.     ,  1.     ,  0.     ,  1.     ,  0.     ,  0.     ,\n",
       "          0.     ,  0.     ,  1.     ,  0.     ,  0.     ,  0.     ,\n",
       "          0.     ,  0.     ,  1.     ,  0.     ,  0.     ,  0.     ,\n",
       "          0.     ,  0.     ,  0.     ,  0.     ,  0.     ,  0.01008,\n",
       "          0.     ,  0.     ,  0.     ,  0.     ,  0.     ,  0.     ,\n",
       "          0.     ,  0.     ,  0.     ,  0.     ,  0.     ,  0.     ,\n",
       "          0.     ,  0.     ,  0.     ,  0.     ,  0.     ,  0.     ,\n",
       "          0.     ,  0.     ,  0.     ,  0.     ,  0.     ,  0.     ,\n",
       "          0.     ,  0.     ,  0.     ,  0.     ,  0.     ,  0.     ,\n",
       "          0.     ,  0.     ,  0.     ,  0.     ],\n",
       "        [ 0.     ,  0.     ,  0.     ,  0.     ,  0.     ,  0.     ,\n",
       "          0.     ,  1.     ,  0.     ,  0.     ,  0.     ,  0.     ,\n",
       "          0.     ,  0.     ,  0.     ,  0.     ,  0.     ,  0.     ,\n",
       "          0.     ,  0.     ,  0.     ,  0.     ,  0.     ,  0.     ,\n",
       "          0.     ,  0.     ,  0.     ,  0.     ,  0.     ,  0.     ,\n",
       "          0.     ,  0.     ,  0.     ,  0.     ,  0.     ,  0.     ,\n",
       "          0.     ,  0.     ,  0.     ,  0.     ,  1.     ,  0.     ,\n",
       "          0.     ,  0.     ,  0.     ,  0.     ,  0.     ,  0.     ,\n",
       "          0.     ,  1.     ,  0.     ,  1.     ,  0.     ,  0.     ,\n",
       "          0.     ,  0.     ,  1.     ,  0.     ,  0.     ,  0.     ,\n",
       "          0.     ,  0.     ,  0.     ,  0.     ,  0.     ,  0.     ,\n",
       "          1.     ,  0.     ,  0.     ,  0.     ,  0.     ,  0.15999,\n",
       "          0.     ,  1.     , -1.     ,  0.     ,  0.     ,  0.     ,\n",
       "          0.     ,  0.     ,  0.     ,  0.     ,  0.     ,  0.     ,\n",
       "          0.     ,  0.     ,  0.     ,  0.     ,  0.     ,  0.     ,\n",
       "          0.     ,  0.     ,  0.     ,  0.     ,  0.     ,  0.     ,\n",
       "          0.     ,  0.     ,  0.     ,  0.     ,  0.     ,  0.     ,\n",
       "          0.     ,  0.     ,  0.     ,  0.     ],\n",
       "        [ 1.     ,  0.     ,  0.     ,  0.     ,  0.     ,  0.     ,\n",
       "          0.     ,  0.     ,  0.     ,  0.     ,  0.     ,  0.     ,\n",
       "          0.     ,  0.     ,  0.     ,  0.     ,  0.     ,  0.     ,\n",
       "          0.     ,  0.     ,  0.     ,  0.     ,  0.     ,  0.     ,\n",
       "          0.     ,  0.     ,  0.     ,  0.     ,  0.     ,  0.     ,\n",
       "          0.     ,  0.     ,  0.     ,  0.     ,  0.     ,  0.     ,\n",
       "          0.     ,  0.     ,  0.     ,  1.     ,  0.     ,  0.     ,\n",
       "          0.     ,  0.     ,  0.     ,  0.     ,  0.     ,  0.     ,\n",
       "          0.     ,  1.     ,  0.     ,  1.     ,  0.     ,  0.     ,\n",
       "          0.     ,  0.     ,  1.     ,  0.     ,  0.     ,  0.     ,\n",
       "          0.     ,  0.     ,  1.     ,  0.     ,  0.     ,  0.     ,\n",
       "          0.     ,  0.     ,  0.     ,  0.     ,  0.     ,  0.01008,\n",
       "          1.     , -1.     ,  0.     ,  0.     ,  0.     ,  0.     ,\n",
       "          0.     ,  0.     ,  0.     ,  0.     ,  0.     ,  0.     ,\n",
       "          0.     ,  0.     ,  0.     ,  0.     ,  0.     ,  0.     ,\n",
       "          0.     ,  0.     ,  0.     ,  0.     ,  0.     ,  0.     ,\n",
       "          0.     ,  0.     ,  0.     ,  0.     ,  0.     ,  0.     ,\n",
       "          0.     ,  0.     ,  0.     ,  0.     ]]), E=array([[ 0,  1,  0,  0,  0,  0,  0,  1,  0,  0,  0,  0,  0,  0,  0,  0,\n",
       "          0,  0,  0,  0,  0,  0,  0,  0,  0,  0,  0,  0],\n",
       "        [ 0,  1,  0,  0,  0,  0,  0,  1,  0,  0,  0,  0,  0,  0,  0,  0,\n",
       "          0,  0,  0,  0,  0,  0,  0,  0,  0,  0,  0,  0],\n",
       "        [ 0,  1,  0,  0,  0,  0,  0,  1,  0,  0,  0,  0,  0,  0,  1, -1,\n",
       "          0,  0,  0,  0,  0, -1,  0,  0,  0,  0,  0,  0],\n",
       "        [ 0,  1,  0,  0,  0,  0,  0,  1,  0,  0,  0,  0,  0,  0,  1, -1,\n",
       "          0,  0,  0,  0,  0, -1,  0,  0,  0,  0,  0,  0]]), edge_index=array([[0, 1, 1, 2],\n",
       "        [1, 0, 2, 1]]), rev_edge_index=array([1, 0, 3, 2])), V_d=None, x_d=None, y=array([0.14280278]), weight=1.0, lt_mask=None, gt_mask=None)]"
      ]
     },
     "execution_count": 10,
     "metadata": {},
     "output_type": "execute_result"
    }
   ],
   "source": [
    "multi_dataset[0]"
   ]
  },
  {
   "cell_type": "code",
   "execution_count": 11,
   "metadata": {},
   "outputs": [
    {
     "data": {
      "text/plain": [
       "array([[0.14280278],\n",
       "       [0.86053701]])"
      ]
     },
     "execution_count": 11,
     "metadata": {},
     "output_type": "execute_result"
    }
   ],
   "source": [
    "multi_dataset.datasets[0].Y"
   ]
  },
  {
   "cell_type": "code",
   "execution_count": 12,
   "metadata": {},
   "outputs": [
    {
     "data": {
      "text/plain": [
       "[('C', ('[O:1]([H:2])[H:3]', '[H:3].[O:1][H:2]')),\n",
       " ('CC', ('[S:1]([H:2])[H:3]', '[H:3].[S:1][H:2]'))]"
      ]
     },
     "execution_count": 12,
     "metadata": {},
     "output_type": "execute_result"
    }
   ],
   "source": [
    "multi_dataset.smiles"
   ]
  }
 ],
 "metadata": {
  "kernelspec": {
   "display_name": "chemprop",
   "language": "python",
   "name": "python3"
  },
  "language_info": {
   "codemirror_mode": {
    "name": "ipython",
    "version": 3
   },
   "file_extension": ".py",
   "mimetype": "text/x-python",
   "name": "python",
   "nbconvert_exporter": "python",
   "pygments_lexer": "ipython3",
   "version": "3.11.8"
  }
 },
 "nbformat": 4,
 "nbformat_minor": 2
}
