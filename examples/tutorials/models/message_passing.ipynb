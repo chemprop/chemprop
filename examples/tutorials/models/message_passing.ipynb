{
 "cells": [
  {
   "cell_type": "code",
   "execution_count": 1,
   "metadata": {},
   "outputs": [],
   "source": [
    "from chemprop.nn.message_passing.base import BondMessagePassing, AtomMessagePassing"
   ]
  },
  {
   "cell_type": "markdown",
   "metadata": {},
   "source": [
    "Example dataloader to make inputs to the message passing layer. See the dataloader notebook for more details."
   ]
  },
  {
   "cell_type": "code",
   "execution_count": 2,
   "metadata": {},
   "outputs": [],
   "source": [
    "import numpy as np\n",
    "from chemprop.data import MoleculeDatapoint, MoleculeDataset, build_dataloader\n",
    "\n",
    "smis = [\"C\" * i for i in range(1, 4)]\n",
    "ys = np.random.rand(len(smis), 1)\n",
    "dataset = MoleculeDataset([MoleculeDatapoint.from_smi(smi, y) for smi, y in zip(smis, ys)])\n",
    "dataloader = build_dataloader(dataset)"
   ]
  },
  {
   "cell_type": "markdown",
   "metadata": {},
   "source": [
    "### Message Passing"
   ]
  },
  {
   "cell_type": "markdown",
   "metadata": {},
   "source": [
    "There are two message passing schemes. Chemprop prefers a D-MPNN scheme (`BondMessagePassing`) where messages are passed between directed edges (bonds) rather than between nodes (atoms) as would be done in a traditional MPNN (`AtomMessagePassing`)."
   ]
  },
  {
   "cell_type": "code",
   "execution_count": 3,
   "metadata": {},
   "outputs": [],
   "source": [
    "mp = AtomMessagePassing()\n",
    "mp = BondMessagePassing()"
   ]
  },
  {
   "cell_type": "markdown",
   "metadata": {},
   "source": [
    "### Input dimensions"
   ]
  },
  {
   "cell_type": "markdown",
   "metadata": {},
   "source": [
    "By default, the bond message passing layer's input dimension is the sum of atom and bond features from the default atom and bond featurizers (see the featurizer notebook for more details). If you use a custom featurizer, the message passing layer needs to be told when created.\n",
    "\n",
    "Also note that an atom message passing's default input dimension is the length of the atom features from the default atom featurizer."
   ]
  },
  {
   "cell_type": "code",
   "execution_count": 4,
   "metadata": {},
   "outputs": [
    {
     "data": {
      "text/plain": [
       "True"
      ]
     },
     "execution_count": 4,
     "metadata": {},
     "output_type": "execute_result"
    }
   ],
   "source": [
    "from chemprop.featurizers import SimpleMoleculeMolGraphFeaturizer\n",
    "\n",
    "n_atom_features, n_bond_features = SimpleMoleculeMolGraphFeaturizer().shape\n",
    "(n_atom_features + n_bond_features) == mp.W_i.in_features"
   ]
  },
  {
   "cell_type": "code",
   "execution_count": 5,
   "metadata": {},
   "outputs": [],
   "source": [
    "from chemprop.featurizers import MultiHotAtomFeaturizer\n",
    "\n",
    "n_bonds = 1\n",
    "n_extra_bond_features = 12\n",
    "extra_bond_features = np.random.rand(n_bonds, n_extra_bond_features)\n",
    "featurizer = SimpleMoleculeMolGraphFeaturizer(\n",
    "    atom_featurizer=MultiHotAtomFeaturizer.organic(), extra_bond_fdim=n_extra_bond_features\n",
    ")\n",
    "dataset = MoleculeDataset(\n",
    "    data=[MoleculeDatapoint.from_smi(smi, y, E_f=extra_bond_features) for smi, y in zip(smis, ys)],\n",
    "    featurizer=featurizer,\n",
    ")\n",
    "\n",
    "mp = BondMessagePassing(d_v=featurizer.atom_fdim, d_e=featurizer.bond_fdim)"
   ]
  },
  {
   "cell_type": "markdown",
   "metadata": {},
   "source": [
    "If extra atom descriptors are used, the message passing layer also needs to be told. A separate weight matrix is created and optimized to transform the concatenated hidden representation and extra descriptors back to the hidden dimension after message passing is complete. "
   ]
  },
  {
   "cell_type": "code",
   "execution_count": 6,
   "metadata": {},
   "outputs": [],
   "source": [
    "n_atoms = 2\n",
    "n_extra_atom_descriptors = 28\n",
    "extra_atom_descriptors = np.random.rand(n_atoms, n_extra_atom_descriptors)\n",
    "dataset = MoleculeDataset(\n",
    "    [MoleculeDatapoint.from_smi(smi, y, V_d=extra_bond_features) for smi, y in zip(smis, ys)]\n",
    ")\n",
    "\n",
    "mp = BondMessagePassing(d_vd=n_extra_atom_descriptors)"
   ]
  },
  {
   "cell_type": "markdown",
   "metadata": {},
   "source": [
    "### Customization"
   ]
  },
  {
   "cell_type": "markdown",
   "metadata": {},
   "source": [
    "The following hyperparameters of the message passing layer are customizable:\n",
    " - the hidden dimension during message passing, default: 300\n",
    " - whether a bias term used, default: False\n",
    " - the number of message passing iterations, default: 3\n",
    " - whether to pass messages on undirected edges, default: False\n",
    " - the dropout probability, default: 0.0 (i.e. no dropout)\n",
    " - which activation function, default: ReLU"
   ]
  },
  {
   "cell_type": "code",
   "execution_count": 7,
   "metadata": {},
   "outputs": [],
   "source": [
    "mp = BondMessagePassing(\n",
    "    d_h=600, bias=True, depth=5, undirected=True, dropout=0.5, activation=\"tanh\"\n",
    ")"
   ]
  },
  {
   "cell_type": "markdown",
   "metadata": {},
   "source": [
    "The output of message passing is a torch tensor of shape # of atoms in batch x length of hidden representation."
   ]
  },
  {
   "cell_type": "code",
   "execution_count": 8,
   "metadata": {},
   "outputs": [
    {
     "data": {
      "text/plain": [
       "torch.Size([6, 600])"
      ]
     },
     "execution_count": 8,
     "metadata": {},
     "output_type": "execute_result"
    }
   ],
   "source": [
    "batch_molgraph, extra_atom_descriptors, *_ = next(iter(dataloader))\n",
    "hidden_atom_representations = mp(batch_molgraph, extra_atom_descriptors)\n",
    "hidden_atom_representations.shape"
   ]
  },
  {
   "cell_type": "markdown",
   "metadata": {},
   "source": [
    "### Scaling\n",
    "\n",
    "Scaling transforms for extra atom features, bond features and atom descriptors are given to the message passing layer to be used during inference. See the scaling notebook for more details."
   ]
  },
  {
   "cell_type": "markdown",
   "metadata": {},
   "source": [
    "### Computations\n",
    "\n",
    "See the source code or [Chemprop paper](https://pubs.acs.org/doi/10.1021/acs.jcim.3c01250) for details of the actual calculations done in the message passing layer. "
   ]
  }
 ],
 "metadata": {
  "kernelspec": {
   "display_name": "chemprop",
   "language": "python",
   "name": "python3"
  },
  "language_info": {
   "codemirror_mode": {
    "name": "ipython",
    "version": 3
   },
   "file_extension": ".py",
   "mimetype": "text/x-python",
   "name": "python",
   "nbconvert_exporter": "python",
   "pygments_lexer": "ipython3",
   "version": "3.11.8"
  }
 },
 "nbformat": 4,
 "nbformat_minor": 2
}
