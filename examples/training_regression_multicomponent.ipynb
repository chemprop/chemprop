{
 "cells": [
  {
   "cell_type": "code",
   "execution_count": 1,
   "metadata": {},
   "outputs": [
    {
     "ename": "NameError",
     "evalue": "name 'OutputTransform' is not defined",
     "output_type": "error",
     "traceback": [
      "\u001b[0;31m---------------------------------------------------------------------------\u001b[0m",
      "\u001b[0;31mNameError\u001b[0m                                 Traceback (most recent call last)",
      "\u001b[1;32m/Users/hwpang/Software/chemprop/examples/training_regression_multicomponent.ipynb Cell 1\u001b[0m line \u001b[0;36m7\n\u001b[1;32m      <a href='vscode-notebook-cell:/Users/hwpang/Software/chemprop/examples/training_regression_multicomponent.ipynb#W0sZmlsZQ%3D%3D?line=4'>5</a>\u001b[0m \u001b[39mfrom\u001b[39;00m \u001b[39mchemprop\u001b[39;00m\u001b[39m.\u001b[39;00m\u001b[39mv2\u001b[39;00m \u001b[39mimport\u001b[39;00m data\n\u001b[1;32m      <a href='vscode-notebook-cell:/Users/hwpang/Software/chemprop/examples/training_regression_multicomponent.ipynb#W0sZmlsZQ%3D%3D?line=5'>6</a>\u001b[0m \u001b[39mfrom\u001b[39;00m \u001b[39mchemprop\u001b[39;00m\u001b[39m.\u001b[39;00m\u001b[39mv2\u001b[39;00m \u001b[39mimport\u001b[39;00m featurizers\n\u001b[0;32m----> <a href='vscode-notebook-cell:/Users/hwpang/Software/chemprop/examples/training_regression_multicomponent.ipynb#W0sZmlsZQ%3D%3D?line=6'>7</a>\u001b[0m \u001b[39mfrom\u001b[39;00m \u001b[39mchemprop\u001b[39;00m\u001b[39m.\u001b[39;00m\u001b[39mv2\u001b[39;00m\u001b[39m.\u001b[39;00m\u001b[39mmodels\u001b[39;00m \u001b[39mimport\u001b[39;00m modules, models, metrics, multi\n",
      "File \u001b[0;32m~/Software/chemprop/chemprop/v2/models/__init__.py:11\u001b[0m\n\u001b[1;32m      9\u001b[0m \u001b[39mfrom\u001b[39;00m \u001b[39m.\u001b[39;00m\u001b[39mloss\u001b[39;00m \u001b[39mimport\u001b[39;00m LossFunction\n\u001b[1;32m     10\u001b[0m \u001b[39mfrom\u001b[39;00m \u001b[39m.\u001b[39;00m\u001b[39mmetrics\u001b[39;00m \u001b[39mimport\u001b[39;00m Metric, MetricRegistry\n\u001b[0;32m---> 11\u001b[0m \u001b[39mfrom\u001b[39;00m \u001b[39m.\u001b[39;00m\u001b[39mmulti\u001b[39;00m \u001b[39mimport\u001b[39;00m MulticomponentMPNN\n",
      "File \u001b[0;32m~/Software/chemprop/chemprop/v2/models/multi.py:14\u001b[0m\n\u001b[1;32m     10\u001b[0m \u001b[39mfrom\u001b[39;00m \u001b[39mchemprop\u001b[39;00m\u001b[39m.\u001b[39;00m\u001b[39mv2\u001b[39;00m\u001b[39m.\u001b[39;00m\u001b[39mmodels\u001b[39;00m\u001b[39m.\u001b[39;00m\u001b[39mloss\u001b[39;00m \u001b[39mimport\u001b[39;00m LossFunction\n\u001b[1;32m     11\u001b[0m \u001b[39mfrom\u001b[39;00m \u001b[39mchemprop\u001b[39;00m\u001b[39m.\u001b[39;00m\u001b[39mv2\u001b[39;00m\u001b[39m.\u001b[39;00m\u001b[39mmodels\u001b[39;00m\u001b[39m.\u001b[39;00m\u001b[39mmetrics\u001b[39;00m \u001b[39mimport\u001b[39;00m Metric\n\u001b[0;32m---> 14\u001b[0m \u001b[39mclass\u001b[39;49;00m \u001b[39mMulticomponentMPNN\u001b[39;49;00m(MPNN):\n\u001b[1;32m     15\u001b[0m     \u001b[39mdef\u001b[39;49;00m \u001b[39m__init__\u001b[39;49m(\n\u001b[1;32m     16\u001b[0m         \u001b[39mself\u001b[39;49m,\n\u001b[1;32m     17\u001b[0m         message_passing: MulticomponentMessagePassing,\n\u001b[0;32m   (...)\u001b[0m\n\u001b[1;32m     27\u001b[0m         final_lr: \u001b[39mfloat\u001b[39;49m \u001b[39m=\u001b[39;49m \u001b[39m1e-4\u001b[39;49m,\n\u001b[1;32m     28\u001b[0m     ):\n\u001b[1;32m     29\u001b[0m         \u001b[39msuper\u001b[39;49m()\u001b[39m.\u001b[39;49m\u001b[39m__init__\u001b[39;49m(\n\u001b[1;32m     30\u001b[0m             message_passing,\n\u001b[1;32m     31\u001b[0m             agg,\n\u001b[0;32m   (...)\u001b[0m\n\u001b[1;32m     40\u001b[0m             final_lr,\n\u001b[1;32m     41\u001b[0m         )\n",
      "File \u001b[0;32m~/Software/chemprop/chemprop/v2/models/multi.py:20\u001b[0m, in \u001b[0;36mMulticomponentMPNN\u001b[0;34m()\u001b[0m\n\u001b[1;32m     14\u001b[0m \u001b[39mclass\u001b[39;00m \u001b[39mMulticomponentMPNN\u001b[39;00m(MPNN):\n\u001b[1;32m     15\u001b[0m     \u001b[39mdef\u001b[39;00m \u001b[39m__init__\u001b[39m(\n\u001b[1;32m     16\u001b[0m         \u001b[39mself\u001b[39m,\n\u001b[1;32m     17\u001b[0m         message_passing: MulticomponentMessagePassing,\n\u001b[1;32m     18\u001b[0m         agg: Aggregation,\n\u001b[1;32m     19\u001b[0m         ffn: nn\u001b[39m.\u001b[39mSequential,\n\u001b[0;32m---> 20\u001b[0m         transform: OutputTransform,\n\u001b[1;32m     21\u001b[0m         loss_fn: LossFunction,\n\u001b[1;32m     22\u001b[0m         metrics: Iterable[Metric],\n\u001b[1;32m     23\u001b[0m         task_weights: Tensor \u001b[39m|\u001b[39m \u001b[39mNone\u001b[39;00m \u001b[39m=\u001b[39m \u001b[39mNone\u001b[39;00m,\n\u001b[1;32m     24\u001b[0m         warmup_epochs: \u001b[39mint\u001b[39m \u001b[39m=\u001b[39m \u001b[39m2\u001b[39m,\n\u001b[1;32m     25\u001b[0m         init_lr: \u001b[39mfloat\u001b[39m \u001b[39m=\u001b[39m \u001b[39m1e-4\u001b[39m,\n\u001b[1;32m     26\u001b[0m         max_lr: \u001b[39mfloat\u001b[39m \u001b[39m=\u001b[39m \u001b[39m1e-3\u001b[39m,\n\u001b[1;32m     27\u001b[0m         final_lr: \u001b[39mfloat\u001b[39m \u001b[39m=\u001b[39m \u001b[39m1e-4\u001b[39m,\n\u001b[1;32m     28\u001b[0m     ):\n\u001b[1;32m     29\u001b[0m         \u001b[39msuper\u001b[39m()\u001b[39m.\u001b[39m\u001b[39m__init__\u001b[39m(\n\u001b[1;32m     30\u001b[0m             message_passing,\n\u001b[1;32m     31\u001b[0m             agg,\n\u001b[0;32m   (...)\u001b[0m\n\u001b[1;32m     40\u001b[0m             final_lr,\n\u001b[1;32m     41\u001b[0m         )\n\u001b[1;32m     43\u001b[0m     \u001b[39mdef\u001b[39;00m \u001b[39mfingerprint\u001b[39m(\n\u001b[1;32m     44\u001b[0m         \u001b[39mself\u001b[39m, bmgs: Iterable[BatchMolGraph], V_ds: Iterable[Tensor], X_f: Tensor \u001b[39m|\u001b[39m \u001b[39mNone\u001b[39;00m \u001b[39m=\u001b[39m \u001b[39mNone\u001b[39;00m\n\u001b[1;32m     45\u001b[0m     ) \u001b[39m-\u001b[39m\u001b[39m>\u001b[39m Tensor:\n",
      "\u001b[0;31mNameError\u001b[0m: name 'OutputTransform' is not defined"
     ]
    }
   ],
   "source": [
    "import pandas as pd\n",
    "\n",
    "from lightning import pytorch as pl\n",
    "\n",
    "from chemprop.v2 import data\n",
    "from chemprop.v2 import featurizers\n",
    "from chemprop.v2.models import modules, models, metrics, multi"
   ]
  },
  {
   "cell_type": "markdown",
   "metadata": {},
   "source": [
    "# Load data"
   ]
  },
  {
   "cell_type": "code",
   "execution_count": null,
   "metadata": {},
   "outputs": [],
   "source": [
    "# change your data inputs here\n",
    "input_path = '../tests/data/regression_multimolecule.csv' # path to your data .csv file containing SMILES strings and target values\n",
    "smiles_columns = ['smiles', 'solvent'] # name of the column containing SMILES strings\n",
    "target_columns = ['peakwavs_max'] # list of names of the columns containing targets"
   ]
  },
  {
   "cell_type": "code",
   "execution_count": null,
   "metadata": {},
   "outputs": [
    {
     "data": {
      "text/html": [
       "<div>\n",
       "<style scoped>\n",
       "    .dataframe tbody tr th:only-of-type {\n",
       "        vertical-align: middle;\n",
       "    }\n",
       "\n",
       "    .dataframe tbody tr th {\n",
       "        vertical-align: top;\n",
       "    }\n",
       "\n",
       "    .dataframe thead th {\n",
       "        text-align: right;\n",
       "    }\n",
       "</style>\n",
       "<table border=\"1\" class=\"dataframe\">\n",
       "  <thead>\n",
       "    <tr style=\"text-align: right;\">\n",
       "      <th></th>\n",
       "      <th>smiles</th>\n",
       "      <th>solvent</th>\n",
       "      <th>peakwavs_max</th>\n",
       "    </tr>\n",
       "  </thead>\n",
       "  <tbody>\n",
       "    <tr>\n",
       "      <th>0</th>\n",
       "      <td>CCCCN1C(=O)C(=C/C=C/C=C/C=C2N(CCCC)c3ccccc3N2C...</td>\n",
       "      <td>ClCCl</td>\n",
       "      <td>642.0</td>\n",
       "    </tr>\n",
       "    <tr>\n",
       "      <th>1</th>\n",
       "      <td>C(=C/c1cnccn1)\\c1ccc(N(c2ccccc2)c2ccc(/C=C/c3c...</td>\n",
       "      <td>ClCCl</td>\n",
       "      <td>420.0</td>\n",
       "    </tr>\n",
       "    <tr>\n",
       "      <th>2</th>\n",
       "      <td>CN(C)c1ccc2c(-c3ccc(N)cc3C(=O)[O-])c3ccc(=[N+]...</td>\n",
       "      <td>O</td>\n",
       "      <td>544.0</td>\n",
       "    </tr>\n",
       "    <tr>\n",
       "      <th>3</th>\n",
       "      <td>c1ccc2[nH]ccc2c1</td>\n",
       "      <td>O</td>\n",
       "      <td>290.0</td>\n",
       "    </tr>\n",
       "    <tr>\n",
       "      <th>4</th>\n",
       "      <td>CCN(CC)c1ccc2c(c1)OC1=C(/C=C/C3=[N+](C)c4ccc5c...</td>\n",
       "      <td>ClC(Cl)Cl</td>\n",
       "      <td>736.0</td>\n",
       "    </tr>\n",
       "    <tr>\n",
       "      <th>...</th>\n",
       "      <td>...</td>\n",
       "      <td>...</td>\n",
       "      <td>...</td>\n",
       "    </tr>\n",
       "    <tr>\n",
       "      <th>495</th>\n",
       "      <td>CCC(=O)c1ccc2cc(N(C)C)ccc2c1</td>\n",
       "      <td>Clc1ccccc1</td>\n",
       "      <td>254.0</td>\n",
       "    </tr>\n",
       "    <tr>\n",
       "      <th>496</th>\n",
       "      <td>O=Cc1cc(O)c(C=O)cc1O</td>\n",
       "      <td>CN(C)P(=O)(N(C)C)N(C)C</td>\n",
       "      <td>427.0</td>\n",
       "    </tr>\n",
       "    <tr>\n",
       "      <th>497</th>\n",
       "      <td>Cc1ccc(C2=C3C=c4c(oc5ccccc45)=[N+]3[B-](F)(F)n...</td>\n",
       "      <td>CC#N</td>\n",
       "      <td>578.0</td>\n",
       "    </tr>\n",
       "    <tr>\n",
       "      <th>498</th>\n",
       "      <td>Cc1ccc(-c2nc(-c3cc([N+](=O)[O-])ccc3O)[nH]c2-c...</td>\n",
       "      <td>CO</td>\n",
       "      <td>284.0</td>\n",
       "    </tr>\n",
       "    <tr>\n",
       "      <th>499</th>\n",
       "      <td>CCc1ccc(-c2nc(-c3ccc(-n4c5ccccc5c5ccccc54)cc3)...</td>\n",
       "      <td>C1CCOC1</td>\n",
       "      <td>343.0</td>\n",
       "    </tr>\n",
       "  </tbody>\n",
       "</table>\n",
       "<p>500 rows × 3 columns</p>\n",
       "</div>"
      ],
      "text/plain": [
       "                                                smiles  \\\n",
       "0    CCCCN1C(=O)C(=C/C=C/C=C/C=C2N(CCCC)c3ccccc3N2C...   \n",
       "1    C(=C/c1cnccn1)\\c1ccc(N(c2ccccc2)c2ccc(/C=C/c3c...   \n",
       "2    CN(C)c1ccc2c(-c3ccc(N)cc3C(=O)[O-])c3ccc(=[N+]...   \n",
       "3                                     c1ccc2[nH]ccc2c1   \n",
       "4    CCN(CC)c1ccc2c(c1)OC1=C(/C=C/C3=[N+](C)c4ccc5c...   \n",
       "..                                                 ...   \n",
       "495                       CCC(=O)c1ccc2cc(N(C)C)ccc2c1   \n",
       "496                               O=Cc1cc(O)c(C=O)cc1O   \n",
       "497  Cc1ccc(C2=C3C=c4c(oc5ccccc45)=[N+]3[B-](F)(F)n...   \n",
       "498  Cc1ccc(-c2nc(-c3cc([N+](=O)[O-])ccc3O)[nH]c2-c...   \n",
       "499  CCc1ccc(-c2nc(-c3ccc(-n4c5ccccc5c5ccccc54)cc3)...   \n",
       "\n",
       "                    solvent  peakwavs_max  \n",
       "0                     ClCCl         642.0  \n",
       "1                     ClCCl         420.0  \n",
       "2                         O         544.0  \n",
       "3                         O         290.0  \n",
       "4                 ClC(Cl)Cl         736.0  \n",
       "..                      ...           ...  \n",
       "495              Clc1ccccc1         254.0  \n",
       "496  CN(C)P(=O)(N(C)C)N(C)C         427.0  \n",
       "497                    CC#N         578.0  \n",
       "498                      CO         284.0  \n",
       "499                 C1CCOC1         343.0  \n",
       "\n",
       "[500 rows x 3 columns]"
      ]
     },
     "execution_count": 3,
     "metadata": {},
     "output_type": "execute_result"
    }
   ],
   "source": [
    "# load data\n",
    "df_input = pd.read_csv(input_path)\n",
    "df_input"
   ]
  },
  {
   "cell_type": "code",
   "execution_count": null,
   "metadata": {},
   "outputs": [],
   "source": [
    "# get SMILES and targets\n",
    "smiss = df_input.loc[:, smiles_columns].values\n",
    "ys = df_input.loc[:, target_columns].values"
   ]
  },
  {
   "cell_type": "code",
   "execution_count": null,
   "metadata": {},
   "outputs": [
    {
     "data": {
      "text/plain": [
       "(array([['CCCCN1C(=O)C(=C/C=C/C=C/C=C2N(CCCC)c3ccccc3N2CCCC)C(=O)N(CCCC)C1=S',\n",
       "         'ClCCl'],\n",
       "        ['C(=C/c1cnccn1)\\\\c1ccc(N(c2ccccc2)c2ccc(/C=C/c3cnccn3)cc2)cc1',\n",
       "         'ClCCl'],\n",
       "        ['CN(C)c1ccc2c(-c3ccc(N)cc3C(=O)[O-])c3ccc(=[N+](C)C)cc-3oc2c1',\n",
       "         'O'],\n",
       "        ['c1ccc2[nH]ccc2c1', 'O'],\n",
       "        ['CCN(CC)c1ccc2c(c1)OC1=C(/C=C/C3=[N+](C)c4ccc5ccccc5c4C3(C)C)CCCC1=C2c1ccccc1C(=O)O',\n",
       "         'ClC(Cl)Cl']], dtype=object),\n",
       " array([[642.],\n",
       "        [420.],\n",
       "        [544.],\n",
       "        [290.],\n",
       "        [736.]]))"
      ]
     },
     "execution_count": 5,
     "metadata": {},
     "output_type": "execute_result"
    }
   ],
   "source": [
    "smiss[:5], ys[:5]"
   ]
  },
  {
   "cell_type": "code",
   "execution_count": null,
   "metadata": {},
   "outputs": [],
   "source": [
    "# make list of molecule datapoints. \n",
    "all_data = [[data.MoleculeDatapoint.from_smi(smis[0], y) for smis, y in zip(smiss, ys)]]\n",
    "all_data += [[data.MoleculeDatapoint.from_smi(smis[i]) for smis in smiss] for i in range(1, len(smiles_columns))]\n"
   ]
  },
  {
   "cell_type": "markdown",
   "metadata": {},
   "source": [
    "# Split data"
   ]
  },
  {
   "cell_type": "code",
   "execution_count": null,
   "metadata": {},
   "outputs": [],
   "source": [
    "# change your data splitting inputs here\n",
    "split_key_molecule_column = 'smiles' # key molecule used for splitting\n",
    "split = 'random' # type of split\n",
    "sizes = (0.8, 0.1, 0.1) # sizes of train, validation, and test sets"
   ]
  },
  {
   "cell_type": "code",
   "execution_count": null,
   "metadata": {},
   "outputs": [
    {
     "data": {
      "text/plain": [
       "['CV_NO_VAL',\n",
       " 'CV',\n",
       " 'SCAFFOLD_BALANCED',\n",
       " 'RANDOM_WITH_REPEATED_SMILES',\n",
       " 'RANDOM',\n",
       " 'KENNARD_STONE',\n",
       " 'KMEANS']"
      ]
     },
     "execution_count": 8,
     "metadata": {},
     "output_type": "execute_result"
    }
   ],
   "source": [
    "# available split types\n",
    "list(data.SplitType.keys())"
   ]
  },
  {
   "cell_type": "code",
   "execution_count": null,
   "metadata": {},
   "outputs": [],
   "source": [
    "# split data based on key molecule\n",
    "split_key_molecule_index = smiles_columns.index(split_key_molecule_column)\n",
    "train_data, val_data, test_data, train_val_test_indices = data.split_data(all_data[split_key_molecule_index], split=split, sizes=sizes)\n",
    "train_dataset = data.MoleculeDataset(train_data)\n",
    "val_dataset = data.MoleculeDataset(val_data)\n",
    "test_dataset = data.MoleculeDataset(test_data)"
   ]
  },
  {
   "cell_type": "code",
   "execution_count": null,
   "metadata": {},
   "outputs": [],
   "source": [
    "# apply same split to other molecules\n",
    "train_datasets, val_datasets, test_datasets = [train_dataset], [val_dataset], [test_dataset]\n",
    "for i in range(len(all_data)):\n",
    "    if i != split_key_molecule_index:\n",
    "        train_data, val_data, test_data, _ = data.split_data(all_data[i], train_val_test_indices=train_val_test_indices)\n",
    "        train_dataset = data.MoleculeDataset(train_data)\n",
    "        val_dataset = data.MoleculeDataset(val_data)\n",
    "        test_dataset = data.MoleculeDataset(test_data)\n",
    "        train_datasets.append(train_dataset)\n",
    "        val_datasets.append(val_dataset)\n",
    "        test_datasets.append(test_dataset)"
   ]
  },
  {
   "cell_type": "code",
   "execution_count": null,
   "metadata": {},
   "outputs": [
    {
     "data": {
      "text/html": [
       "<style>#sk-container-id-1 {color: black;}#sk-container-id-1 pre{padding: 0;}#sk-container-id-1 div.sk-toggleable {background-color: white;}#sk-container-id-1 label.sk-toggleable__label {cursor: pointer;display: block;width: 100%;margin-bottom: 0;padding: 0.3em;box-sizing: border-box;text-align: center;}#sk-container-id-1 label.sk-toggleable__label-arrow:before {content: \"▸\";float: left;margin-right: 0.25em;color: #696969;}#sk-container-id-1 label.sk-toggleable__label-arrow:hover:before {color: black;}#sk-container-id-1 div.sk-estimator:hover label.sk-toggleable__label-arrow:before {color: black;}#sk-container-id-1 div.sk-toggleable__content {max-height: 0;max-width: 0;overflow: hidden;text-align: left;background-color: #f0f8ff;}#sk-container-id-1 div.sk-toggleable__content pre {margin: 0.2em;color: black;border-radius: 0.25em;background-color: #f0f8ff;}#sk-container-id-1 input.sk-toggleable__control:checked~div.sk-toggleable__content {max-height: 200px;max-width: 100%;overflow: auto;}#sk-container-id-1 input.sk-toggleable__control:checked~label.sk-toggleable__label-arrow:before {content: \"▾\";}#sk-container-id-1 div.sk-estimator input.sk-toggleable__control:checked~label.sk-toggleable__label {background-color: #d4ebff;}#sk-container-id-1 div.sk-label input.sk-toggleable__control:checked~label.sk-toggleable__label {background-color: #d4ebff;}#sk-container-id-1 input.sk-hidden--visually {border: 0;clip: rect(1px 1px 1px 1px);clip: rect(1px, 1px, 1px, 1px);height: 1px;margin: -1px;overflow: hidden;padding: 0;position: absolute;width: 1px;}#sk-container-id-1 div.sk-estimator {font-family: monospace;background-color: #f0f8ff;border: 1px dotted black;border-radius: 0.25em;box-sizing: border-box;margin-bottom: 0.5em;}#sk-container-id-1 div.sk-estimator:hover {background-color: #d4ebff;}#sk-container-id-1 div.sk-parallel-item::after {content: \"\";width: 100%;border-bottom: 1px solid gray;flex-grow: 1;}#sk-container-id-1 div.sk-label:hover label.sk-toggleable__label {background-color: #d4ebff;}#sk-container-id-1 div.sk-serial::before {content: \"\";position: absolute;border-left: 1px solid gray;box-sizing: border-box;top: 0;bottom: 0;left: 50%;z-index: 0;}#sk-container-id-1 div.sk-serial {display: flex;flex-direction: column;align-items: center;background-color: white;padding-right: 0.2em;padding-left: 0.2em;position: relative;}#sk-container-id-1 div.sk-item {position: relative;z-index: 1;}#sk-container-id-1 div.sk-parallel {display: flex;align-items: stretch;justify-content: center;background-color: white;position: relative;}#sk-container-id-1 div.sk-item::before, #sk-container-id-1 div.sk-parallel-item::before {content: \"\";position: absolute;border-left: 1px solid gray;box-sizing: border-box;top: 0;bottom: 0;left: 50%;z-index: -1;}#sk-container-id-1 div.sk-parallel-item {display: flex;flex-direction: column;z-index: 1;position: relative;background-color: white;}#sk-container-id-1 div.sk-parallel-item:first-child::after {align-self: flex-end;width: 50%;}#sk-container-id-1 div.sk-parallel-item:last-child::after {align-self: flex-start;width: 50%;}#sk-container-id-1 div.sk-parallel-item:only-child::after {width: 0;}#sk-container-id-1 div.sk-dashed-wrapped {border: 1px dashed gray;margin: 0 0.4em 0.5em 0.4em;box-sizing: border-box;padding-bottom: 0.4em;background-color: white;}#sk-container-id-1 div.sk-label label {font-family: monospace;font-weight: bold;display: inline-block;line-height: 1.2em;}#sk-container-id-1 div.sk-label-container {text-align: center;}#sk-container-id-1 div.sk-container {/* jupyter's `normalize.less` sets `[hidden] { display: none; }` but bootstrap.min.css set `[hidden] { display: none !important; }` so we also need the `!important` here to be able to override the default hidden behavior on the sphinx rendered scikit-learn.org. See: https://github.com/scikit-learn/scikit-learn/issues/21755 */display: inline-block !important;position: relative;}#sk-container-id-1 div.sk-text-repr-fallback {display: none;}</style><div id=\"sk-container-id-1\" class=\"sk-top-container\"><div class=\"sk-text-repr-fallback\"><pre>StandardScaler()</pre><b>In a Jupyter environment, please rerun this cell to show the HTML representation or trust the notebook. <br />On GitHub, the HTML representation is unable to render, please try loading this page with nbviewer.org.</b></div><div class=\"sk-container\" hidden><div class=\"sk-item\"><div class=\"sk-estimator sk-toggleable\"><input class=\"sk-toggleable__control sk-hidden--visually\" id=\"sk-estimator-id-1\" type=\"checkbox\" checked><label for=\"sk-estimator-id-1\" class=\"sk-toggleable__label sk-toggleable__label-arrow\">StandardScaler</label><div class=\"sk-toggleable__content\"><pre>StandardScaler()</pre></div></div></div></div></div>"
      ],
      "text/plain": [
       "StandardScaler()"
      ]
     },
     "execution_count": 11,
     "metadata": {},
     "output_type": "execute_result"
    }
   ],
   "source": [
    "train_mcdset = data.MulticomponentDataset(train_datasets)\n",
    "scaler = train_mcdset.normalize_targets()\n",
    "\n",
    "val_mcdset = data.MulticomponentDataset(val_datasets)\n",
    "val_mcdset.normalize_targets(scaler)\n",
    "test_mcdset = data.MulticomponentDataset(test_datasets)\n",
    "test_mcdset.normalize_targets(scaler)\n"
   ]
  },
  {
   "cell_type": "code",
   "execution_count": null,
   "metadata": {},
   "outputs": [],
   "source": [
    "train_loader = data.MolGraphDataLoader(train_mcdset)\n",
    "val_loader = data.MolGraphDataLoader(val_mcdset, shuffle=False)\n",
    "test_loader = data.MolGraphDataLoader(test_mcdset, shuffle=False)"
   ]
  },
  {
   "cell_type": "code",
   "execution_count": null,
   "metadata": {},
   "outputs": [],
   "source": [
    "mcmp = modules.MulticomponentMessagePassing(\n",
    "    blocks=[modules.BondMessageBlock() for i in range(len(smiles_columns))],\n",
    "    n_components=len(smiles_columns),\n",
    ")"
   ]
  },
  {
   "cell_type": "code",
   "execution_count": null,
   "metadata": {},
   "outputs": [],
   "source": [
    "agg = modules.MeanAggregation()"
   ]
  },
  {
   "cell_type": "code",
   "execution_count": null,
   "metadata": {},
   "outputs": [],
   "source": [
    "ffn = modules.RegressionFFN(\n",
    "    loc=scaler.mean_, # pass in the mean of the training targets\n",
    "    scale=scaler.scale_, # pass in the scale of the training targets\n",
    ")"
   ]
  },
  {
   "cell_type": "code",
   "execution_count": null,
   "metadata": {},
   "outputs": [],
   "source": [
    "metric_list = [metrics.RMSEMetric(), metrics.MAEMetric()] # Only the first metric is used for training and early stopping"
   ]
  },
  {
   "cell_type": "code",
   "execution_count": null,
   "metadata": {},
   "outputs": [
    {
     "ename": "AttributeError",
     "evalue": "'MulticomponentMessagePassing' object has no attribute 'hparams'",
     "output_type": "error",
     "traceback": [
      "\u001b[0;31m---------------------------------------------------------------------------\u001b[0m",
      "\u001b[0;31mAttributeError\u001b[0m                            Traceback (most recent call last)",
      "\u001b[1;32m/Users/hwpang/Software/chemprop/examples/training_regression_multicomponent.ipynb Cell 19\u001b[0m line \u001b[0;36m1\n\u001b[0;32m----> <a href='vscode-notebook-cell:/Users/hwpang/Software/chemprop/examples/training_regression_multicomponent.ipynb#X26sZmlsZQ%3D%3D?line=0'>1</a>\u001b[0m mcmpnn \u001b[39m=\u001b[39m multi\u001b[39m.\u001b[39;49mMulticomponentMPNN(\n\u001b[1;32m      <a href='vscode-notebook-cell:/Users/hwpang/Software/chemprop/examples/training_regression_multicomponent.ipynb#X26sZmlsZQ%3D%3D?line=1'>2</a>\u001b[0m     mcmp,\n\u001b[1;32m      <a href='vscode-notebook-cell:/Users/hwpang/Software/chemprop/examples/training_regression_multicomponent.ipynb#X26sZmlsZQ%3D%3D?line=2'>3</a>\u001b[0m     agg,\n\u001b[1;32m      <a href='vscode-notebook-cell:/Users/hwpang/Software/chemprop/examples/training_regression_multicomponent.ipynb#X26sZmlsZQ%3D%3D?line=3'>4</a>\u001b[0m     ffn,\n\u001b[1;32m      <a href='vscode-notebook-cell:/Users/hwpang/Software/chemprop/examples/training_regression_multicomponent.ipynb#X26sZmlsZQ%3D%3D?line=4'>5</a>\u001b[0m     metrics\u001b[39m=\u001b[39;49mmetric_list,\n\u001b[1;32m      <a href='vscode-notebook-cell:/Users/hwpang/Software/chemprop/examples/training_regression_multicomponent.ipynb#X26sZmlsZQ%3D%3D?line=5'>6</a>\u001b[0m )\n\u001b[1;32m      <a href='vscode-notebook-cell:/Users/hwpang/Software/chemprop/examples/training_regression_multicomponent.ipynb#X26sZmlsZQ%3D%3D?line=7'>8</a>\u001b[0m mcmpnn\n",
      "File \u001b[0;32m~/Software/chemprop/chemprop/v2/models/multi.py:28\u001b[0m, in \u001b[0;36mMulticomponentMPNN.__init__\u001b[0;34m(self, message_passing, agg, readout, batch_norm, metrics, w_t, warmup_epochs, init_lr, max_lr, final_lr)\u001b[0m\n\u001b[1;32m     15\u001b[0m \u001b[39mdef\u001b[39;00m \u001b[39m__init__\u001b[39m(\n\u001b[1;32m     16\u001b[0m     \u001b[39mself\u001b[39m,\n\u001b[1;32m     17\u001b[0m     message_passing: MulticomponentMessagePassing,\n\u001b[0;32m   (...)\u001b[0m\n\u001b[1;32m     26\u001b[0m     final_lr: \u001b[39mfloat\u001b[39m \u001b[39m=\u001b[39m \u001b[39m1e-4\u001b[39m,\n\u001b[1;32m     27\u001b[0m ):\n\u001b[0;32m---> 28\u001b[0m     \u001b[39msuper\u001b[39;49m()\u001b[39m.\u001b[39;49m\u001b[39m__init__\u001b[39;49m(\n\u001b[1;32m     29\u001b[0m         message_passing,\n\u001b[1;32m     30\u001b[0m         agg,\n\u001b[1;32m     31\u001b[0m         readout,\n\u001b[1;32m     32\u001b[0m         batch_norm,\n\u001b[1;32m     33\u001b[0m         metrics,\n\u001b[1;32m     34\u001b[0m         w_t,\n\u001b[1;32m     35\u001b[0m         warmup_epochs,\n\u001b[1;32m     36\u001b[0m         init_lr,\n\u001b[1;32m     37\u001b[0m         max_lr,\n\u001b[1;32m     38\u001b[0m         final_lr,\n\u001b[1;32m     39\u001b[0m     )\n",
      "File \u001b[0;32m~/Software/chemprop/chemprop/v2/models/model.py:79\u001b[0m, in \u001b[0;36mMPNN.__init__\u001b[0;34m(self, message_passing, agg, readout, batch_norm, metrics, w_t, warmup_epochs, init_lr, max_lr, final_lr)\u001b[0m\n\u001b[1;32m     74\u001b[0m \u001b[39msuper\u001b[39m()\u001b[39m.\u001b[39m\u001b[39m__init__\u001b[39m()\n\u001b[1;32m     76\u001b[0m \u001b[39mself\u001b[39m\u001b[39m.\u001b[39msave_hyperparameters(ignore\u001b[39m=\u001b[39m[\u001b[39m\"\u001b[39m\u001b[39mmessage_passing\u001b[39m\u001b[39m\"\u001b[39m, \u001b[39m\"\u001b[39m\u001b[39magg\u001b[39m\u001b[39m\"\u001b[39m, \u001b[39m\"\u001b[39m\u001b[39mreadout\u001b[39m\u001b[39m\"\u001b[39m])\n\u001b[1;32m     77\u001b[0m \u001b[39mself\u001b[39m\u001b[39m.\u001b[39mhparams\u001b[39m.\u001b[39mupdate(\n\u001b[1;32m     78\u001b[0m     {\n\u001b[0;32m---> 79\u001b[0m         \u001b[39m\"\u001b[39m\u001b[39mmessage_passing\u001b[39m\u001b[39m\"\u001b[39m: message_passing\u001b[39m.\u001b[39;49mhparams,\n\u001b[1;32m     80\u001b[0m         \u001b[39m\"\u001b[39m\u001b[39magg\u001b[39m\u001b[39m\"\u001b[39m: agg\u001b[39m.\u001b[39mhparams,\n\u001b[1;32m     81\u001b[0m         \u001b[39m\"\u001b[39m\u001b[39mreadout\u001b[39m\u001b[39m\"\u001b[39m: readout\u001b[39m.\u001b[39mhparams,\n\u001b[1;32m     82\u001b[0m     }\n\u001b[1;32m     83\u001b[0m )\n\u001b[1;32m     85\u001b[0m \u001b[39mself\u001b[39m\u001b[39m.\u001b[39mmessage_passing \u001b[39m=\u001b[39m message_passing\n\u001b[1;32m     86\u001b[0m \u001b[39mself\u001b[39m\u001b[39m.\u001b[39magg \u001b[39m=\u001b[39m agg\n",
      "File \u001b[0;32m~/mambaforge/envs/chemprop/lib/python3.11/site-packages/torch/nn/modules/module.py:1695\u001b[0m, in \u001b[0;36mModule.__getattr__\u001b[0;34m(self, name)\u001b[0m\n\u001b[1;32m   1693\u001b[0m     \u001b[39mif\u001b[39;00m name \u001b[39min\u001b[39;00m modules:\n\u001b[1;32m   1694\u001b[0m         \u001b[39mreturn\u001b[39;00m modules[name]\n\u001b[0;32m-> 1695\u001b[0m \u001b[39mraise\u001b[39;00m \u001b[39mAttributeError\u001b[39;00m(\u001b[39mf\u001b[39m\u001b[39m\"\u001b[39m\u001b[39m'\u001b[39m\u001b[39m{\u001b[39;00m\u001b[39mtype\u001b[39m(\u001b[39mself\u001b[39m)\u001b[39m.\u001b[39m\u001b[39m__name__\u001b[39m\u001b[39m}\u001b[39;00m\u001b[39m'\u001b[39m\u001b[39m object has no attribute \u001b[39m\u001b[39m'\u001b[39m\u001b[39m{\u001b[39;00mname\u001b[39m}\u001b[39;00m\u001b[39m'\u001b[39m\u001b[39m\"\u001b[39m)\n",
      "\u001b[0;31mAttributeError\u001b[0m: 'MulticomponentMessagePassing' object has no attribute 'hparams'"
     ]
    }
   ],
   "source": [
    "mcmpnn = multi.MulticomponentMPNN(\n",
    "    mcmp,\n",
    "    agg,\n",
    "    ffn,\n",
    "    metrics=metric_list,\n",
    ")\n",
    "\n",
    "mcmpnn"
   ]
  }
 ],
 "metadata": {
  "kernelspec": {
   "display_name": "Python 3",
   "language": "python",
   "name": "python3"
  },
  "language_info": {
   "codemirror_mode": {
    "name": "ipython",
    "version": 3
   },
   "file_extension": ".py",
   "mimetype": "text/x-python",
   "name": "python",
   "nbconvert_exporter": "python",
   "pygments_lexer": "ipython3",
   "version": "3.11.5"
  },
  "orig_nbformat": 4
 },
 "nbformat": 4,
 "nbformat_minor": 2
}
