{
 "cells": [
  {
   "cell_type": "markdown",
   "metadata": {},
   "source": [
    "# Extra Datapoint Descriptors from Molecule Featurizers\n",
    "Datapoints can have extra descriptors concatenated to the learned representation before sending to the FFN. These descriptors can be automatically generated using molecule featurizers."
   ]
  },
  {
   "cell_type": "markdown",
   "metadata": {},
   "source": [
    "# Loading packages"
   ]
  },
  {
   "cell_type": "code",
   "execution_count": 1,
   "metadata": {},
   "outputs": [],
   "source": [
    "import numpy as np\n",
    "import pandas as pd\n",
    "from rdkit import Chem\n",
    "from chemprop import data, utils\n",
    "from chemprop.featurizers import MoleculeFeaturizer\n",
    "from rdkit.Chem import rdFingerprintGenerator\n",
    "from dataclasses import dataclass"
   ]
  },
  {
   "cell_type": "markdown",
   "metadata": {},
   "source": [
    "# Change data inputs here"
   ]
  },
  {
   "cell_type": "code",
   "execution_count": 2,
   "metadata": {},
   "outputs": [],
   "source": [
    "test_path = '../tests/data/regression.csv'\n",
    "target_columns = ['logSolubility']"
   ]
  },
  {
   "cell_type": "code",
   "execution_count": 3,
   "metadata": {},
   "outputs": [
    {
     "data": {
      "text/html": [
       "<div>\n",
       "<style scoped>\n",
       "    .dataframe tbody tr th:only-of-type {\n",
       "        vertical-align: middle;\n",
       "    }\n",
       "\n",
       "    .dataframe tbody tr th {\n",
       "        vertical-align: top;\n",
       "    }\n",
       "\n",
       "    .dataframe thead th {\n",
       "        text-align: right;\n",
       "    }\n",
       "</style>\n",
       "<table border=\"1\" class=\"dataframe\">\n",
       "  <thead>\n",
       "    <tr style=\"text-align: right;\">\n",
       "      <th></th>\n",
       "      <th>smiles</th>\n",
       "      <th>logSolubility</th>\n",
       "    </tr>\n",
       "  </thead>\n",
       "  <tbody>\n",
       "    <tr>\n",
       "      <th>0</th>\n",
       "      <td>OCC3OC(OCC2OC(OC(C#N)c1ccccc1)C(O)C(O)C2O)C(O)...</td>\n",
       "      <td>-0.770</td>\n",
       "    </tr>\n",
       "    <tr>\n",
       "      <th>1</th>\n",
       "      <td>Cc1occc1C(=O)Nc2ccccc2</td>\n",
       "      <td>-3.300</td>\n",
       "    </tr>\n",
       "    <tr>\n",
       "      <th>2</th>\n",
       "      <td>CC(C)=CCCC(C)=CC(=O)</td>\n",
       "      <td>-2.060</td>\n",
       "    </tr>\n",
       "    <tr>\n",
       "      <th>3</th>\n",
       "      <td>c1ccc2c(c1)ccc3c2ccc4c5ccccc5ccc43</td>\n",
       "      <td>-7.870</td>\n",
       "    </tr>\n",
       "    <tr>\n",
       "      <th>4</th>\n",
       "      <td>c1ccsc1</td>\n",
       "      <td>-1.330</td>\n",
       "    </tr>\n",
       "    <tr>\n",
       "      <th>...</th>\n",
       "      <td>...</td>\n",
       "      <td>...</td>\n",
       "    </tr>\n",
       "    <tr>\n",
       "      <th>495</th>\n",
       "      <td>Nc1cc(nc(N)n1=O)N2CCCCC2</td>\n",
       "      <td>-1.989</td>\n",
       "    </tr>\n",
       "    <tr>\n",
       "      <th>496</th>\n",
       "      <td>Nc2cccc3nc1ccccc1cc23</td>\n",
       "      <td>-4.220</td>\n",
       "    </tr>\n",
       "    <tr>\n",
       "      <th>497</th>\n",
       "      <td>c1ccc2cc3c4cccc5cccc(c3cc2c1)c45</td>\n",
       "      <td>-8.490</td>\n",
       "    </tr>\n",
       "    <tr>\n",
       "      <th>498</th>\n",
       "      <td>OC(c1ccc(Cl)cc1)(c2ccc(Cl)cc2)C(Cl)(Cl)Cl</td>\n",
       "      <td>-5.666</td>\n",
       "    </tr>\n",
       "    <tr>\n",
       "      <th>499</th>\n",
       "      <td>C1Cc2cccc3cccc1c23</td>\n",
       "      <td>-4.630</td>\n",
       "    </tr>\n",
       "  </tbody>\n",
       "</table>\n",
       "<p>500 rows × 2 columns</p>\n",
       "</div>"
      ],
      "text/plain": [
       "                                                smiles  logSolubility\n",
       "0    OCC3OC(OCC2OC(OC(C#N)c1ccccc1)C(O)C(O)C2O)C(O)...         -0.770\n",
       "1                               Cc1occc1C(=O)Nc2ccccc2         -3.300\n",
       "2                                 CC(C)=CCCC(C)=CC(=O)         -2.060\n",
       "3                   c1ccc2c(c1)ccc3c2ccc4c5ccccc5ccc43         -7.870\n",
       "4                                              c1ccsc1         -1.330\n",
       "..                                                 ...            ...\n",
       "495                           Nc1cc(nc(N)n1=O)N2CCCCC2         -1.989\n",
       "496                              Nc2cccc3nc1ccccc1cc23         -4.220\n",
       "497                   c1ccc2cc3c4cccc5cccc(c3cc2c1)c45         -8.490\n",
       "498          OC(c1ccc(Cl)cc1)(c2ccc(Cl)cc2)C(Cl)(Cl)Cl         -5.666\n",
       "499                                 C1Cc2cccc3cccc1c23         -4.630\n",
       "\n",
       "[500 rows x 2 columns]"
      ]
     },
     "execution_count": 3,
     "metadata": {},
     "output_type": "execute_result"
    }
   ],
   "source": [
    "df_test = pd.read_csv(test_path)\n",
    "df_test"
   ]
  },
  {
   "cell_type": "code",
   "execution_count": 4,
   "metadata": {},
   "outputs": [],
   "source": [
    "smis = df_test['smiles']\n",
    "ys = df_test.loc[:, target_columns].values"
   ]
  },
  {
   "cell_type": "markdown",
   "metadata": {},
   "source": [
    "# Creating custom featurizers\n",
    "Custom featurizers can be made by inheriting the ```MoleculeFeaturizer``` class.\n",
    "These featurizers must override the following methods:\n",
    "- ```__len__(self)```\n",
    "- ```__call__(self, mol: Chem.mol)```\n",
    "\n",
    "Note that this is just an example of how to create a custom featurizer. The `MorganBinaryFeaturizer` in `featurizers/molecule.py` already implements this functionality."
   ]
  },
  {
   "cell_type": "code",
   "execution_count": 5,
   "metadata": {},
   "outputs": [],
   "source": [
    "@dataclass\n",
    "class MorganFingerprintMoleculeFeaturizer(MoleculeFeaturizer):\n",
    "    fp_size: int = 2048\n",
    "\n",
    "    def __post_init__(self):\n",
    "        self.mfpgen = rdFingerprintGenerator.GetMorganGenerator(radius=2, fpSize=self.fp_size)\n",
    "\n",
    "    def __len__(self) -> int:\n",
    "        \"\"\"the length of the feature vector\"\"\"\n",
    "        return self.fp_size\n",
    "\n",
    "    def __call__(self, mol: Chem.Mol) -> np.ndarray:\n",
    "        \"\"\"Featurize the molecule ``mol``\"\"\"\n",
    "        fp = self.mfpgen.GetFingerprintAsNumPy(mol)\n",
    "        return fp"
   ]
  },
  {
   "cell_type": "markdown",
   "metadata": {},
   "source": [
    "## Testing the featurizer"
   ]
  },
  {
   "cell_type": "code",
   "execution_count": 6,
   "metadata": {},
   "outputs": [
    {
     "data": {
      "text/plain": [
       "((2048,), array([0, 1, 0, ..., 0, 0, 0], dtype=uint8))"
      ]
     },
     "execution_count": 6,
     "metadata": {},
     "output_type": "execute_result"
    }
   ],
   "source": [
    "mf = MorganFingerprintMoleculeFeaturizer()\n",
    "morgan = mf(utils.make_mol(smis[0], keep_h=False, add_h=False))\n",
    "morgan.shape, morgan"
   ]
  },
  {
   "cell_type": "markdown",
   "metadata": {},
   "source": [
    "## Loading featurizers into datapoints"
   ]
  },
  {
   "cell_type": "code",
   "execution_count": 7,
   "metadata": {},
   "outputs": [
    {
     "data": {
      "text/plain": [
       "[MoleculeDatapoint(mol=<rdkit.Chem.rdchem.Mol object at 0x7f0aa8a018c0>, y=array([-0.77]), weight=1, gt_mask=None, lt_mask=None, x_d=array([0, 1, 0, ..., 0, 0, 0], dtype=uint8), x_phase=None, V_f=None, E_f=None, V_d=None),\n",
       " MoleculeDatapoint(mol=<rdkit.Chem.rdchem.Mol object at 0x7f0aa8a01850>, y=array([-3.3]), weight=1, gt_mask=None, lt_mask=None, x_d=array([0, 0, 0, ..., 0, 0, 0], dtype=uint8), x_phase=None, V_f=None, E_f=None, V_d=None),\n",
       " MoleculeDatapoint(mol=<rdkit.Chem.rdchem.Mol object at 0x7f0aa8a019a0>, y=array([-2.06]), weight=1, gt_mask=None, lt_mask=None, x_d=array([0, 0, 0, ..., 0, 0, 0], dtype=uint8), x_phase=None, V_f=None, E_f=None, V_d=None),\n",
       " MoleculeDatapoint(mol=<rdkit.Chem.rdchem.Mol object at 0x7f0aa8a01a80>, y=array([-7.87]), weight=1, gt_mask=None, lt_mask=None, x_d=array([0, 0, 0, ..., 0, 0, 0], dtype=uint8), x_phase=None, V_f=None, E_f=None, V_d=None),\n",
       " MoleculeDatapoint(mol=<rdkit.Chem.rdchem.Mol object at 0x7f0aa8a01b60>, y=array([-1.33]), weight=1, gt_mask=None, lt_mask=None, x_d=array([0, 0, 0, ..., 0, 0, 0], dtype=uint8), x_phase=None, V_f=None, E_f=None, V_d=None)]"
      ]
     },
     "execution_count": 7,
     "metadata": {},
     "output_type": "execute_result"
    }
   ],
   "source": [
    "mfs = [MorganFingerprintMoleculeFeaturizer()] # supply a list of all featurizers that \n",
    "                                              # will generate the extra descriptors. This is separate \n",
    "                                              # from the main featurizer supplied to molecule datasets.\n",
    "                                              \n",
    "# An arbitrary amount of molecule featurizers can be supplied to each datapoint in a dataset.\n",
    "# Note that pre-obtained extra descriptors cannot also be added at the same time, as shown in\n",
    "# the loaded molecule features notebook. An attempt to do so will result in an error.\n",
    "                                              \n",
    "all_data = [data.MoleculeDatapoint.from_smi(smi, y=y, mfs=mfs) for smi, y in zip(smis, ys)]\n",
    "all_data[:5]"
   ]
  }
 ],
 "metadata": {
  "kernelspec": {
   "display_name": "Python 3",
   "language": "python",
   "name": "python3"
  },
  "language_info": {
   "codemirror_mode": {
    "name": "ipython",
    "version": 3
   },
   "file_extension": ".py",
   "mimetype": "text/x-python",
   "name": "python",
   "nbconvert_exporter": "python",
   "pygments_lexer": "ipython3",
   "version": "3.11.6"
  },
  "orig_nbformat": 4
 },
 "nbformat": 4,
 "nbformat_minor": 2
}
