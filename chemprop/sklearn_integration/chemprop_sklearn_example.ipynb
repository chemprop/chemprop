{
 "cells": [
  {
   "cell_type": "markdown",
   "id": "f5a43c9b",
   "metadata": {},
   "source": [
    "# Chemprop scikit-learn Estimator Example\n",
    "Demonstrating usage of `ChempropTransformer` and `ChempropRegressor` with common scikit-learn workflows including cross-validation, hyperparameter tuning, and model persistence."
   ]
  },
  {
   "cell_type": "code",
   "execution_count": null,
   "id": "465acb3f",
   "metadata": {},
   "outputs": [],
   "source": [
    "from chemprop.sklearn_integration.chemprop_estimator import ChempropTransformer, ChempropRegressor\n",
    "from sklearn.pipeline import Pipeline\n",
    "from sklearn.model_selection import cross_val_score, GridSearchCV\n",
    "import numpy as np\n",
    "import joblib\n",
    "\n",
    "# Sample data\n",
    "X = np.array([\n",
    "    \"CCO\", \"CCN\", \"CCC\", \"COC\", \"CNC\", \"CCCl\", \"CCBr\", \"CCF\", \"CCI\", \"CC=O\",\n",
    "    \"CC#N\", \"CC(C)O\", \"CC(C)N\", \"CC(C)C\", \"COC(C)\", \"CN(C)C\", \"C1CCCCC1\", \"C1=CC=CC=C1\",\n",
    "    \"CC(C)(C)O\", \"CC(C)(C)N\", \"COCCO\", \"CCOC(=O)C\", \"CCN(CC)CC\", \"CN1CCCC1\", \"C(CO)N\"\n",
    "])\n",
    "y = np.array([\n",
    "    0.50, 0.60, 0.55, 0.58, 0.52, 0.62, 0.65, 0.57, 0.59, 0.61,\n",
    "    0.56, 0.60, 0.54, 0.53, 0.62, 0.63, 0.45, 0.40,\n",
    "    0.64, 0.66, 0.59, 0.51, 0.48, 0.46, 0.49\n",
    "])"
   ]
  },
  {
   "cell_type": "markdown",
   "id": "7621139f",
   "metadata": {},
   "source": [
    "## Cross-Validation Example"
   ]
  },
  {
   "cell_type": "code",
   "execution_count": null,
   "id": "a2f20d81",
   "metadata": {},
   "outputs": [],
   "source": [
    "pipeline = Pipeline([\n",
    "    (\"featurizer\", ChempropTransformer()),\n",
    "    (\"regressor\", ChempropRegressor(n_epochs=5))\n",
    "])\n",
    "\n",
    "scores = cross_val_score(pipeline, X, y, cv=5, scoring='neg_mean_squared_error')\n",
    "print(\"Cross-validation MSE scores:\", -scores)\n",
    "print(\"Average MSE:\", -scores.mean())"
   ]
  },
  {
   "cell_type": "markdown",
   "id": "1e8d5310",
   "metadata": {},
   "source": [
    "## Hyperparameter Tuning Example with GridSearchCV"
   ]
  },
  {
   "cell_type": "code",
   "execution_count": null,
   "id": "4e10a2a9",
   "metadata": {},
   "outputs": [],
   "source": [
    "param_grid = {\n",
    "    'regressor__lr': [1e-2, 1e-3],\n",
    "    'regressor__n_epochs': [3, 5],\n",
    "}\n",
    "\n",
    "grid = GridSearchCV(pipeline, param_grid, cv=3, scoring='neg_mean_squared_error')\n",
    "grid.fit(X, y)\n",
    "\n",
    "print(\"Best parameters:\", grid.best_params_)\n",
    "print(\"Best score (MSE):\", -grid.best_score_)"
   ]
  },
  {
   "cell_type": "markdown",
   "id": "83ac5479",
   "metadata": {},
   "source": [
    "## Save and Reload Trained Pipeline"
   ]
  },
  {
   "cell_type": "code",
   "execution_count": null,
   "id": "d62f9dfb",
   "metadata": {},
   "outputs": [],
   "source": [
    "joblib.dump(grid.best_estimator_, 'best_chemprop_pipeline.pkl')\n",
    "loaded = joblib.load('best_chemprop_pipeline.pkl')\n",
    "preds = loaded.predict([\"CCO\", \"CC(=O)O\"])\n",
    "print(\"Predictions from reloaded model:\", preds)"
   ]
  }
 ],
 "metadata": {
  "language_info": {
   "name": "python"
  }
 },
 "nbformat": 4,
 "nbformat_minor": 5
}
