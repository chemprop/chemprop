{
 "cells": [
  {
   "cell_type": "markdown",
   "id": "f5a43c9b",
   "metadata": {},
   "source": [
    "# Chemprop scikit-learn Estimator Example\n",
    "Demonstrating usage of `ChempropTransformer` and `ChempropRegressor` with common scikit-learn workflows including cross-validation, hyperparameter tuning, and model persistence."
   ]
  },
  {
   "cell_type": "markdown",
   "id": "c09fce19",
   "metadata": {},
   "source": [
    "#Defaults\n",
    "Namespace(smiles_columns=None, reaction_columns=None, no_header_row=False, num_workers=0, batch_size=64, accelerator='auto', devices='auto', rxn_mode='REAC_DIFF', multi_hot_atom_featurizer_mode='V2', keep_h=False, add_h=False, ignore_stereo=False, reorder_atoms=False, molecule_featurizers=None, descriptors_path=None, no_descriptor_scaling=False, no_atom_feature_scaling=False, no_atom_descriptor_scaling=False, no_bond_feature_scaling=False, no_bond_descriptor_scaling=False, atom_features_path=None, atom_descriptors_path=None, bond_features_path=None, bond_descriptors_path=None, constraints_path=None, constraints_to_targets=None, config_path=None, data_path=None, output_dir=None, remove_checkpoints=False, checkpoint=None, freeze_encoder=False, model_frzn=None, frzn_ffn_layers=0, from_foundation=None, ensemble_size=1, message_hidden_dim=300, message_bias=False, depth=3, undirected=False, dropout=0.0, mpn_shared=False, aggregation='norm', aggregation_norm=100, atom_messages=False, activation='RELU', activation_args=None, ffn_hidden_dim=300, ffn_num_layers=1, batch_norm=False, multiclass_num_classes=3, atom_task_weights=None, atom_ffn_hidden_dim=300, atom_ffn_num_layers=1, atom_multiclass_num_classes=3, bond_task_weights=None, bond_ffn_hidden_dim=300, bond_ffn_num_layers=1, bond_multiclass_num_classes=3, atom_constrainer_ffn_hidden_dim=300, atom_constrainer_ffn_num_layers=1, bond_constrainer_ffn_hidden_dim=300, bond_constrainer_ffn_num_layers=1, weight_column=None, target_columns=None, mol_target_columns=None, atom_target_columns=None, bond_target_columns=None, ignore_columns=None, no_cache=False, splits_column=None, task_type='regression', loss_function=None, v_kl=0.0, eps=1e-08, alpha=0.1, metrics=None, tracking_metric='val_loss', show_individual_scores=False, task_weights=None, warmup_epochs=2, init_lr=0.0001, max_lr=0.001, final_lr=0.0001, epochs=50, patience=None, grad_clip=None, class_balance=False, split='RANDOM', split_sizes=[0.8, 0.1, 0.1], split_key_molecule=0, num_replicates=1, num_folds=None, save_smiles_splits=False, splits_file=None, data_seed=0, pytorch_seed=None)"
   ]
  },
  {
   "cell_type": "code",
   "execution_count": null,
   "id": "465acb3f",
   "metadata": {},
   "outputs": [
    {
     "ename": "ImportError",
     "evalue": "cannot import name 'ChempropReactionTransformer' from 'chemprop.sklearn_integration.chemprop_lightning_estimator' (C:\\Users\\jxl05\\Downloads\\chemprop\\chemprop\\sklearn_integration\\chemprop_lightning_estimator.py)",
     "output_type": "error",
     "traceback": [
      "\u001b[31m---------------------------------------------------------------------------\u001b[39m",
      "\u001b[31mImportError\u001b[39m                               Traceback (most recent call last)",
      "\u001b[36mCell\u001b[39m\u001b[36m \u001b[39m\u001b[32mIn[10]\u001b[39m\u001b[32m, line 1\u001b[39m\n\u001b[32m----> \u001b[39m\u001b[32m1\u001b[39m \u001b[38;5;28;01mfrom\u001b[39;00m\u001b[38;5;250m \u001b[39m\u001b[34;01mchemprop\u001b[39;00m\u001b[34;01m.\u001b[39;00m\u001b[34;01msklearn_integration\u001b[39;00m\u001b[34;01m.\u001b[39;00m\u001b[34;01mchemprop_lightning_estimator\u001b[39;00m\u001b[38;5;250m \u001b[39m\u001b[38;5;28;01mimport\u001b[39;00m ChempropReactionTransformer, ChempropRegressor\n\u001b[32m      2\u001b[39m \u001b[38;5;28;01mfrom\u001b[39;00m\u001b[38;5;250m \u001b[39m\u001b[34;01msklearn\u001b[39;00m\u001b[34;01m.\u001b[39;00m\u001b[34;01mpipeline\u001b[39;00m\u001b[38;5;250m \u001b[39m\u001b[38;5;28;01mimport\u001b[39;00m Pipeline\n\u001b[32m      3\u001b[39m \u001b[38;5;28;01mfrom\u001b[39;00m\u001b[38;5;250m \u001b[39m\u001b[34;01msklearn\u001b[39;00m\u001b[34;01m.\u001b[39;00m\u001b[34;01mmodel_selection\u001b[39;00m\u001b[38;5;250m \u001b[39m\u001b[38;5;28;01mimport\u001b[39;00m cross_val_score, GridSearchCV\n",
      "\u001b[31mImportError\u001b[39m: cannot import name 'ChempropReactionTransformer' from 'chemprop.sklearn_integration.chemprop_lightning_estimator' (C:\\Users\\jxl05\\Downloads\\chemprop\\chemprop\\sklearn_integration\\chemprop_lightning_estimator.py)"
     ]
    }
   ],
   "source": [
    "from chemprop.sklearn_integration.chemprop_lightning_estimator import ChempropMoleculeTransformer, ChempropRegressor\n",
    "from sklearn.pipeline import Pipeline\n",
    "from sklearn.model_selection import cross_val_score, GridSearchCV\n",
    "import numpy as np\n",
    "import joblib\n",
    "\n",
    "# Sample data\n",
    "X = np.array([\n",
    "    \"CCO\", \"CCN\", \"CCC\", \"COC\", \"CNC\", \"CCCl\", \"CCBr\", \"CCF\", \"CCI\", \"CC=O\",\n",
    "    \"CC#N\", \"CC(C)O\", \"CC(C)N\", \"CC(C)C\", \"COC(C)\", \"CN(C)C\", \"C1CCCCC1\", \"C1=CC=CC=C1\",\n",
    "    \"CC(C)(C)O\", \"CC(C)(C)N\", \"COCCO\", \"CCOC(=O)C\", \"CCN(CC)CC\", \"CN1CCCC1\", \"C(CO)N\"\n",
    "])\n",
    "y = np.array([\n",
    "    0.50, 0.60, 0.55, 0.58, 0.52, 0.62, 0.65, 0.57, 0.59, 0.61,\n",
    "    0.56, 0.60, 0.54, 0.53, 0.62, 0.63, 0.45, 0.40,\n",
    "    0.64, 0.66, 0.59, 0.51, 0.48, 0.46, 0.49\n",
    "])"
   ]
  },
  {
   "cell_type": "markdown",
   "id": "7621139f",
   "metadata": {},
   "source": [
    "## Cross-Validation Example"
   ]
  },
  {
   "cell_type": "code",
   "execution_count": null,
   "id": "a2f20d81",
   "metadata": {},
   "outputs": [],
   "source": [
    "pipeline = Pipeline([\n",
    "    (\"featurizer\", ChempropMoleculeTransformer()),\n",
    "    (\"regressor\", ChempropRegressor(n_epochs=20))\n",
    "])\n",
    "\n",
    "scores = cross_val_score(pipeline, X, y, cv=5, scoring='neg_mean_squared_error')\n",
    "print(\"Cross-validation MSE scores:\", -scores)\n",
    "print(\"Average MSE:\", -scores.mean())"
   ]
  },
  {
   "cell_type": "markdown",
   "id": "1e8d5310",
   "metadata": {},
   "source": [
    "## Hyperparameter Tuning Example with GridSearchCV"
   ]
  },
  {
   "cell_type": "code",
   "execution_count": null,
   "id": "4e10a2a9",
   "metadata": {},
   "outputs": [],
   "source": [
    "param_grid = {\n",
    "    'regressor__batch_size': [8, 16],\n",
    "    'regressor__n_epochs': [3, 5],\n",
    "}\n",
    "\n",
    "grid = GridSearchCV(pipeline, param_grid, cv=3, scoring='neg_mean_squared_error')\n",
    "grid.fit(X, y)\n",
    "\n",
    "print(\"Best parameters:\", grid.best_params_)\n",
    "print(\"Best score (MSE):\", -grid.best_score_)"
   ]
  },
  {
   "cell_type": "markdown",
   "id": "83ac5479",
   "metadata": {},
   "source": [
    "## Save and Reload Trained Pipeline"
   ]
  },
  {
   "cell_type": "code",
   "execution_count": 5,
   "id": "d62f9dfb",
   "metadata": {},
   "outputs": [
    {
     "name": "stdout",
     "output_type": "stream",
     "text": [
      "Predictions from reloaded model: [0.16074981 0.13957587]\n"
     ]
    },
    {
     "name": "stderr",
     "output_type": "stream",
     "text": [
      "c:\\Users\\jxl05\\miniconda3\\envs\\chemprop1\\Lib\\site-packages\\sklearn\\pipeline.py:61: FutureWarning: This Pipeline instance is not fitted yet. Call 'fit' with appropriate arguments before using other methods such as transform, predict, etc. This will raise an error in 1.8 instead of the current warning.\n",
      "  warnings.warn(\n"
     ]
    }
   ],
   "source": [
    "joblib.dump(grid.best_estimator_, 'best_chemprop_pipeline.pkl')\n",
    "loaded = joblib.load('best_chemprop_pipeline.pkl')\n",
    "preds = loaded.predict([\"CCO\", \"CC(=O)O\"])\n",
    "print(\"Predictions from reloaded model:\", preds)"
   ]
  }
 ],
 "metadata": {
  "kernelspec": {
   "display_name": "chemprop1",
   "language": "python",
   "name": "python3"
  },
  "language_info": {
   "codemirror_mode": {
    "name": "ipython",
    "version": 3
   },
   "file_extension": ".py",
   "mimetype": "text/x-python",
   "name": "python",
   "nbconvert_exporter": "python",
   "pygments_lexer": "ipython3",
   "version": "3.11.13"
  }
 },
 "nbformat": 4,
 "nbformat_minor": 5
}
